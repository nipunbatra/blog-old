{
 "cells": [
  {
   "cell_type": "markdown",
   "id": "c7fde03c",
   "metadata": {},
   "source": [
    "# Coin Toss (MLE, MAP, Fully Bayesian) in TF Probability\n",
    "\n",
    "- toc: true \n",
    "- badges: true\n",
    "- comments: true\n",
    "- author: Nipun Batra\n",
    "- categories: [ML, TFP, TF]"
   ]
  },
  {
   "cell_type": "markdown",
   "id": "1c45e56c",
   "metadata": {},
   "source": [
    "### Goals\n",
    "\n",
    "We will be studying the problem of coin tosses. I will not go into derivations but mostly deal with automatic gradient computation in TF Probability.\n",
    "\n",
    "\n",
    "We have the following goals in this tutorial. \n",
    "\n",
    "#### Goal 1: Maximum Likelihood Estimate (MLE)\n",
    "Given a set of N observations, estimate the probability of H (denoted as $\\theta = p(H)$)\n",
    "\n",
    "#### Goal 2: Maximum A-Posteriori (MAP)\n",
    "Given a set of N observations and some prior knowledge on the distribution of $\\theta$, estimate the best point estimate of $\\theta$ once we have observed the dataset.\n",
    "\n",
    "#### Goal 3: Fully Bayesian\n",
    "Given a set of N observations and some prior knowledge on the distribution of $\\theta$, estimate the distribution of $\\theta$ once we have observed the dataset.\n"
   ]
  },
  {
   "cell_type": "markdown",
   "id": "c576bebd",
   "metadata": {},
   "source": [
    "### Basic Imports"
   ]
  },
  {
   "cell_type": "code",
   "execution_count": 1,
   "id": "f41ca63d",
   "metadata": {},
   "outputs": [],
   "source": [
    "from silence_tensorflow import silence_tensorflow\n",
    "\n",
    "silence_tensorflow()\n",
    "\n",
    "import numpy as np\n",
    "import matplotlib.pyplot as plt\n",
    "import tensorflow as tf\n",
    "import functools\n",
    "import seaborn as sns\n",
    "import tensorflow_probability as tfp\n",
    "import pandas as pd\n",
    "\n",
    "tfd = tfp.distributions\n",
    "tfl = tfp.layers\n",
    "tfb = tfp.bijectors\n",
    "\n",
    "sns.reset_defaults()\n",
    "sns.set_context(context=\"talk\", font_scale=1)\n",
    "%matplotlib inline\n",
    "%config InlineBackend.figure_format='retina'"
   ]
  },
  {
   "cell_type": "markdown",
   "id": "45bd16d9",
   "metadata": {},
   "source": [
    "#### Creating a dataset\n",
    "\n",
    "Let us create a dataset. We will assume the coin toss to be given as per the Bernoulli distribution. We will assume that $\\theta = p(H) = 0.75$ and generate 10 samples. We will fix the random seeds for reproducibility.\n",
    "\n",
    "We will be encoding Heads as 1 and Tails as 0."
   ]
  },
  {
   "cell_type": "code",
   "execution_count": 2,
   "id": "1b37f627",
   "metadata": {},
   "outputs": [],
   "source": [
    "np.random.seed(0)\n",
    "tf.random.set_seed(0)"
   ]
  },
  {
   "cell_type": "code",
   "execution_count": 3,
   "id": "0a24b4c1",
   "metadata": {},
   "outputs": [
    {
     "name": "stdout",
     "output_type": "stream",
     "text": [
      "[0 0 0 1 1 1 1 1 0 1]\n",
      "0.6\n"
     ]
    }
   ],
   "source": [
    "distribution = tfd.Bernoulli(probs=0.75)\n",
    "\n",
    "dataset_10 = distribution.sample(10)\n",
    "print(dataset_10.numpy())\n",
    "mle_estimate_10 = tf.reduce_mean(tf.cast(dataset_10, tf.float32))\n",
    "tf.print(mle_estimate_10)"
   ]
  },
  {
   "cell_type": "markdown",
   "id": "8eaad7c6",
   "metadata": {},
   "source": [
    "### MLE\n",
    "\n",
    "#### Obtaining MLE analytically \n",
    "\n",
    "From the above 10 samples, we obtain 6 Heads (1) and 4 Tails. As per the principal of MLE, the best estimate for $\\theta = p(H) = \\dfrac{n_h}{n_h+n_t} = 0.6$\n",
    "\n",
    "We may also notice that the value of 0.6 is far from the 0.75 value we had initially set. This is possible as our dataset is small. \n",
    "\n",
    "We will now verify if we get the same result using TFP. But, first, we can create a graphical model for our problem."
   ]
  },
  {
   "cell_type": "markdown",
   "id": "b4cf0b6f",
   "metadata": {},
   "source": [
    "#### Graphical model"
   ]
  },
  {
   "cell_type": "code",
   "execution_count": 4,
   "id": "552a52ae",
   "metadata": {},
   "outputs": [
    {
     "data": {
      "image/png": "[encoded data removed]",
      "text/plain": [
       "<Figure size 226.772x170.079 with 1 Axes>"
      ]
     },
     "metadata": {
      "image/png": {
       "height": 184,
       "width": 241
      }
     },
     "output_type": "display_data"
    }
   ],
   "source": [
    "import daft\n",
    "\n",
    "pgm = daft.PGM([4, 3], origin=[0, 0])\n",
    "pgm.add_node(daft.Node(\"theta\", r\"$\\theta$\", 1, 2.5, aspect=1.8))\n",
    "\n",
    "pgm.add_node(daft.Node(\"obs\", r\"$obs_i$\", 1, 1, aspect=1.2, observed=True))\n",
    "\n",
    "pgm.add_edge(\"theta\", \"obs\")\n",
    "pgm.add_plate([0, 0.5, 2, 1.0], label=r\"$N$\", shift=-0.1)\n",
    "pgm.render()"
   ]
  },
  {
   "cell_type": "markdown",
   "id": "b1a76c60",
   "metadata": {},
   "source": [
    "#### Obtaining MLE analytically for different dataset sizes"
   ]
  },
  {
   "cell_type": "code",
   "execution_count": 5,
   "id": "00e50481",
   "metadata": {},
   "outputs": [
    {
     "name": "stdout",
     "output_type": "stream",
     "text": [
      "{10: 0.9,\n",
      " 50: 0.76,\n",
      " 100: 0.71,\n",
      " 500: 0.746,\n",
      " 1000: 0.749,\n",
      " 10000: 0.749,\n",
      " 100000: 0.75144}\n"
     ]
    }
   ],
   "source": [
    "dataset_large = distribution.sample(100000)\n",
    "\n",
    "mle_estimate = {}\n",
    "for dataset_size in [10, 50, 100, 500, 1000, 10000, 100000]:\n",
    "    mle_estimate[dataset_size] = tf.reduce_mean(\n",
    "        tf.cast(dataset_large[:dataset_size], tf.float32)\n",
    "    )\n",
    "tf.print(mle_estimate)"
   ]
  },
  {
   "cell_type": "markdown",
   "id": "495f4b17",
   "metadata": {},
   "source": [
    "As we can see above, when we use larger dataset sizes, our estimate matches the value we set (0.75)."
   ]
  },
  {
   "cell_type": "markdown",
   "id": "a0b09197",
   "metadata": {},
   "source": [
    "#### Using TFP for MLE"
   ]
  },
  {
   "cell_type": "code",
   "execution_count": 6,
   "id": "5a720520",
   "metadata": {},
   "outputs": [],
   "source": [
    "##### Model setup"
   ]
  },
  {
   "cell_type": "code",
   "execution_count": 7,
   "id": "aaedf571",
   "metadata": {},
   "outputs": [
    {
     "data": {
      "text/plain": [
       "<tf.Tensor: shape=(10,), dtype=float32, numpy=\n",
       "array([-0.10536052, -0.10536052, -0.10536052, -2.3025851 , -2.3025851 ,\n",
       "       -2.3025851 , -2.3025851 , -2.3025851 , -0.10536052, -2.3025851 ],\n",
       "      dtype=float32)>"
      ]
     },
     "execution_count": 7,
     "metadata": {},
     "output_type": "execute_result"
    }
   ],
   "source": [
    "theta = tf.Variable(0.1)\n",
    "fit = tfd.Bernoulli(probs=theta)\n",
    "\n",
    "fit.log_prob(dataset_10)"
   ]
  },
  {
   "cell_type": "markdown",
   "id": "42c4990b",
   "metadata": {},
   "source": [
    "##### Defining loss\n",
    "We now define the negative log likelihood as our loss function and work towards minimizing it. "
   ]
  },
  {
   "cell_type": "code",
   "execution_count": 8,
   "id": "f9f6e862",
   "metadata": {},
   "outputs": [],
   "source": [
    "dataset = dataset_10\n",
    "\n",
    "\n",
    "def loss():\n",
    "    return -tf.reduce_mean(fit.log_prob(dataset))"
   ]
  },
  {
   "cell_type": "markdown",
   "id": "31a8f03a",
   "metadata": {},
   "source": [
    "##### Tracing variables over training"
   ]
  },
  {
   "cell_type": "code",
   "execution_count": 9,
   "id": "e773dda7",
   "metadata": {},
   "outputs": [],
   "source": [
    "trace_fn = lambda traceable_quantities: {\n",
    "    \"loss\": traceable_quantities.loss,\n",
    "    \"theta\": theta,\n",
    "}\n",
    "\n",
    "num_steps = 150"
   ]
  },
  {
   "cell_type": "markdown",
   "id": "8ab726ac",
   "metadata": {},
   "source": [
    "##### Minimizing the loss function"
   ]
  },
  {
   "cell_type": "code",
   "execution_count": 10,
   "id": "cabaa2a9",
   "metadata": {},
   "outputs": [],
   "source": [
    "trace = tfp.math.minimize(\n",
    "    loss_fn=loss,\n",
    "    num_steps=num_steps,\n",
    "    optimizer=tf.optimizers.Adam(learning_rate=0.01),\n",
    "    trace_fn=trace_fn,\n",
    ")"
   ]
  },
  {
   "cell_type": "code",
   "execution_count": 11,
   "id": "0c086ff6",
   "metadata": {},
   "outputs": [
    {
     "data": {
      "text/plain": [
       "<tf.Variable 'Variable:0' shape=() dtype=float32, numpy=0.5981373>"
      ]
     },
     "execution_count": 11,
     "metadata": {},
     "output_type": "execute_result"
    }
   ],
   "source": [
    "theta"
   ]
  },
  {
   "cell_type": "code",
   "execution_count": 12,
   "id": "92940395",
   "metadata": {},
   "outputs": [
    {
     "data": {
      "image/png": "[encoded data removed]",
      "text/plain": [
       "<Figure size 432x288 with 2 Axes>"
      ]
     },
     "metadata": {
      "image/png": {
       "height": 281,
       "width": 423
      },
      "needs_background": "light"
     },
     "output_type": "display_data"
    }
   ],
   "source": [
    "fig, ax = plt.subplots(nrows=2, sharex=True, figsize=(6, 4))\n",
    "ax[0].plot(range(num_steps), trace[\"loss\"])\n",
    "ax[1].plot(range(num_steps), trace[\"theta\"])\n",
    "sns.despine()\n",
    "ax[1].set_xlabel(\"Iterations\")\n",
    "ax[0].set_ylabel(\"Loss\")\n",
    "ax[1].set_ylabel(r\"$\\theta$\")\n",
    "fig.tight_layout()"
   ]
  },
  {
   "cell_type": "markdown",
   "id": "0750b840",
   "metadata": {},
   "source": [
    "From the above calculations, we can see that we have obtained the same estimate of ~0.6 using TFP.  "
   ]
  },
  {
   "cell_type": "markdown",
   "id": "bbbd625e",
   "metadata": {},
   "source": [
    "##### Alternate way to minimize\n",
    "\n",
    "Previously, we used the tf.math.minimize, but we can also use tf.GradientTape() for the same purpose."
   ]
  },
  {
   "cell_type": "code",
   "execution_count": 13,
   "id": "2d0041f9",
   "metadata": {},
   "outputs": [],
   "source": [
    "@tf.function\n",
    "def loss_and_grads(fit):\n",
    "    with tf.GradientTape() as tape:\n",
    "        loss = -tf.reduce_mean(fit.log_prob(dataset))\n",
    "    return loss, tape.gradient(loss, fit.trainable_variables)\n",
    "\n",
    "\n",
    "optimizer = tf.keras.optimizers.Adam(learning_rate=0.01)\n",
    "\n",
    "\n",
    "theta = tf.Variable(0.1)\n",
    "fit = tfd.Bernoulli(probs=theta)\n",
    "\n",
    "\n",
    "for i in range(num_steps):\n",
    "    loss, grads = loss_and_grads(fit)\n",
    "    optimizer.apply_gradients(zip(grads, fit.trainable_variables))"
   ]
  },
  {
   "cell_type": "code",
   "execution_count": 14,
   "id": "91cbba46",
   "metadata": {},
   "outputs": [
    {
     "data": {
      "text/plain": [
       "(<tf.Variable 'Variable:0' shape=() dtype=float32, numpy=0.5981373>,)"
      ]
     },
     "execution_count": 14,
     "metadata": {},
     "output_type": "execute_result"
    }
   ],
   "source": [
    "fit.trainable_variables"
   ]
  },
  {
   "cell_type": "markdown",
   "id": "0b01da4e",
   "metadata": {},
   "source": [
    "We can see that we obtain the same estimate."
   ]
  },
  {
   "cell_type": "markdown",
   "id": "85256c6a",
   "metadata": {},
   "source": [
    "### MAP\n",
    "\n",
    "We will now be setting a prior over $\\theta$. A general graphical model is shown below. "
   ]
  },
  {
   "cell_type": "code",
   "execution_count": 15,
   "id": "7a2f14a6",
   "metadata": {},
   "outputs": [
    {
     "data": {
      "image/png": "[encoded data removed]",
      "text/plain": [
       "<Figure size 226.772x226.772 with 1 Axes>"
      ]
     },
     "metadata": {
      "image/png": {
       "height": 241,
       "width": 241
      }
     },
     "output_type": "display_data"
    }
   ],
   "source": [
    "pgm = daft.PGM([4, 4], origin=[0, 0])\n",
    "pgm.add_node(daft.Node(\"alpha\", r\"$\\alpha$\", 0.5, 3.5, aspect=1.8))\n",
    "pgm.add_node(daft.Node(\"beta\", r\"$\\beta$\", 1.5, 3.5, aspect=1.8))\n",
    "\n",
    "\n",
    "pgm.add_node(daft.Node(\"theta\", r\"$\\theta$\", 1, 2.5, aspect=2))\n",
    "# pgm.add_node(daft.Node(\"theta\", r\"$\\theta\\sim Beta (\\alpha, \\beta)$\", 1, 2.5, aspect=4))\n",
    "\n",
    "pgm.add_node(daft.Node(\"obs\", r\"$obs_i$\", 1, 1, aspect=1.2, observed=True))\n",
    "\n",
    "pgm.add_edge(\"theta\", \"obs\")\n",
    "pgm.add_edge(\"alpha\", \"theta\")\n",
    "pgm.add_edge(\"beta\", \"theta\")\n",
    "\n",
    "\n",
    "pgm.add_plate([0, 0.5, 2, 1.0], label=r\"$N$\", shift=-0.1)\n",
    "pgm.render()"
   ]
  },
  {
   "cell_type": "markdown",
   "id": "f23b3368",
   "metadata": {},
   "source": [
    "##### MAP with uniform prior\n",
    "\n",
    "First, we see the estimate for $\\theta$ if we use the uniform prior. We should obtain the MLE answer. "
   ]
  },
  {
   "cell_type": "code",
   "execution_count": 16,
   "id": "d37d9a1d",
   "metadata": {},
   "outputs": [],
   "source": [
    "def coin_toss_uniform_model():\n",
    "    theta = yield tfp.distributions.JointDistributionCoroutine.Root(\n",
    "        tfp.distributions.Uniform(low=0.0, high=1.0, name=\"Theta\")\n",
    "    )\n",
    "\n",
    "    coin = yield tfp.distributions.Bernoulli(probs=tf.ones(100) * theta, name=\"Coin\")"
   ]
  },
  {
   "cell_type": "code",
   "execution_count": 17,
   "id": "e8c00998",
   "metadata": {},
   "outputs": [
    {
     "data": {
      "text/plain": [
       "<function __main__.coin_toss_uniform_model()>"
      ]
     },
     "execution_count": 17,
     "metadata": {},
     "output_type": "execute_result"
    }
   ],
   "source": [
    "coin_toss_uniform_model"
   ]
  },
  {
   "cell_type": "code",
   "execution_count": 18,
   "id": "b5ea7b98",
   "metadata": {},
   "outputs": [],
   "source": [
    "model_joint_uniform = tfp.distributions.JointDistributionCoroutineAutoBatched(\n",
    "    lambda: coin_toss_uniform_model(), name=\"Original\"\n",
    ")"
   ]
  },
  {
   "cell_type": "code",
   "execution_count": 19,
   "id": "b72994aa",
   "metadata": {},
   "outputs": [
    {
     "data": {
      "text/plain": [
       "<tfp.distributions.JointDistributionCoroutineAutoBatched 'Original' batch_shape=[] event_shape=StructTuple(\n",
       "  Theta=[],\n",
       "  Coin=[100]\n",
       ") dtype=StructTuple(\n",
       "  Theta=float32,\n",
       "  Coin=int32\n",
       ")>"
      ]
     },
     "execution_count": 19,
     "metadata": {},
     "output_type": "execute_result"
    }
   ],
   "source": [
    "model_joint_uniform"
   ]
  },
  {
   "cell_type": "code",
   "execution_count": 20,
   "id": "d4c87614",
   "metadata": {},
   "outputs": [],
   "source": [
    "def uniform_model(dataset):\n",
    "    num_datapoints = len(dataset)\n",
    "    theta = yield tfp.distributions.JointDistributionCoroutine.Root(\n",
    "        tfp.distributions.Uniform(low=0.0, high=1.0, name=\"Theta\")\n",
    "    )\n",
    "    coin = yield tfp.distributions.Bernoulli(\n",
    "        probs=tf.ones(num_datapoints) * theta, name=\"Coin\"\n",
    "    )"
   ]
  },
  {
   "cell_type": "code",
   "execution_count": 21,
   "id": "3ebb741c",
   "metadata": {},
   "outputs": [],
   "source": [
    "concrete_uniform_model = functools.partial(uniform_model, dataset=dataset_10)\n",
    "\n",
    "model = tfd.JointDistributionCoroutineAutoBatched(concrete_uniform_model)"
   ]
  },
  {
   "cell_type": "code",
   "execution_count": 22,
   "id": "09f9a070",
   "metadata": {},
   "outputs": [
    {
     "data": {
      "text/plain": [
       "StructTuple(\n",
       "  Theta=<tf.Tensor: shape=(), dtype=float32, numpy=0.5930122>,\n",
       "  Coin=<tf.Tensor: shape=(10,), dtype=int32, numpy=array([1, 0, 1, 0, 1, 1, 1, 0, 1, 1], dtype=int32)>\n",
       ")"
      ]
     },
     "execution_count": 22,
     "metadata": {},
     "output_type": "execute_result"
    }
   ],
   "source": [
    "model.sample()"
   ]
  },
  {
   "cell_type": "code",
   "execution_count": 23,
   "id": "f9bbb4fe",
   "metadata": {},
   "outputs": [
    {
     "data": {
      "text/plain": [
       "<function __main__.<lambda>(th)>"
      ]
     },
     "execution_count": 23,
     "metadata": {},
     "output_type": "execute_result"
    }
   ],
   "source": [
    "th = tf.Variable(0.4)\n",
    "\n",
    "target_log_prob_fn = lambda th: model.log_prob((th, dataset_10))\n",
    "target_log_prob_fn"
   ]
  },
  {
   "cell_type": "code",
   "execution_count": 24,
   "id": "65ee6c7a",
   "metadata": {
    "pycharm": {
     "is_executing": true
    }
   },
   "outputs": [],
   "source": [
    "trace = tfp.math.minimize(\n",
    "    lambda: -target_log_prob_fn(th),\n",
    "    optimizer=tf.optimizers.Adam(learning_rate=0.01),\n",
    "    # trace_fn=trace_fn,\n",
    "    num_steps=200,\n",
    ")"
   ]
  },
  {
   "cell_type": "code",
   "execution_count": 25,
   "id": "4233c64f",
   "metadata": {},
   "outputs": [
    {
     "data": {
      "text/plain": [
       "<tf.Variable 'Variable:0' shape=() dtype=float32, numpy=0.59999406>"
      ]
     },
     "execution_count": 25,
     "metadata": {},
     "output_type": "execute_result"
    }
   ],
   "source": [
    "th"
   ]
  },
  {
   "cell_type": "code",
   "execution_count": 26,
   "id": "274837fb",
   "metadata": {},
   "outputs": [
    {
     "data": {
      "text/plain": [
       "<tf.Tensor: shape=(), dtype=float32, numpy=0.6>"
      ]
     },
     "execution_count": 26,
     "metadata": {},
     "output_type": "execute_result"
    }
   ],
   "source": [
    "mle_estimate_10"
   ]
  },
  {
   "cell_type": "markdown",
   "id": "16c5f162",
   "metadata": {},
   "source": [
    "We see above that our MAP estimate is fairly close to the MLE when we used the uniform prior. "
   ]
  },
  {
   "cell_type": "markdown",
   "id": "858e2b7e",
   "metadata": {},
   "source": [
    "##### MAP with Beta prior\n",
    "\n",
    "We will now use a much more informative prior -- the Beta prior. We will be setting $\\alpha=40$ and $\\beta=10$ indicating that we have a prior belief that Tails is much more likely than Heads. This is a bad assumption and in the limited data regime will lead to poor estimates. "
   ]
  },
  {
   "cell_type": "code",
   "execution_count": 27,
   "id": "6d39516b",
   "metadata": {},
   "outputs": [],
   "source": [
    "def beta_prior_model(dataset):\n",
    "    num_datapoints = len(dataset)\n",
    "    theta = yield tfp.distributions.JointDistributionCoroutine.Root(\n",
    "        tfp.distributions.Beta(concentration0=40, concentration1=10, name=\"Theta\")\n",
    "    )\n",
    "    coin = yield tfp.distributions.Bernoulli(\n",
    "        probs=tf.ones(num_datapoints) * theta, name=\"Coin\"\n",
    "    )"
   ]
  },
  {
   "cell_type": "code",
   "execution_count": 28,
   "id": "396a5868",
   "metadata": {},
   "outputs": [],
   "source": [
    "concrete_beta_prior_model = functools.partial(beta_prior_model, dataset=dataset_10)"
   ]
  },
  {
   "cell_type": "code",
   "execution_count": 29,
   "id": "2da30897",
   "metadata": {},
   "outputs": [],
   "source": [
    "model_2 = tfd.JointDistributionCoroutineAutoBatched(concrete_beta_prior_model)"
   ]
  },
  {
   "cell_type": "code",
   "execution_count": 30,
   "id": "73db7b8c",
   "metadata": {},
   "outputs": [
    {
     "data": {
      "text/plain": [
       "StructTuple(\n",
       "  Theta=<tf.Tensor: shape=(), dtype=float32, numpy=0.16982338>,\n",
       "  Coin=<tf.Tensor: shape=(10,), dtype=int32, numpy=array([0, 0, 0, 0, 0, 0, 0, 0, 0, 0], dtype=int32)>\n",
       ")"
      ]
     },
     "execution_count": 30,
     "metadata": {},
     "output_type": "execute_result"
    }
   ],
   "source": [
    "model_2.sample()"
   ]
  },
  {
   "cell_type": "code",
   "execution_count": 31,
   "id": "03815192",
   "metadata": {},
   "outputs": [
    {
     "data": {
      "text/plain": [
       "<function __main__.<lambda>(th)>"
      ]
     },
     "execution_count": 31,
     "metadata": {},
     "output_type": "execute_result"
    }
   ],
   "source": [
    "th = tf.Variable(0.2)\n",
    "\n",
    "target_log_prob_fn = lambda th: model_2.log_prob((th, dataset_10))\n",
    "target_log_prob_fn"
   ]
  },
  {
   "cell_type": "code",
   "execution_count": 32,
   "id": "08e1a142",
   "metadata": {},
   "outputs": [],
   "source": [
    "trace = tfp.math.minimize(\n",
    "    lambda: -target_log_prob_fn(th),\n",
    "    optimizer=tf.optimizers.Adam(learning_rate=0.01),\n",
    "    # trace_fn=trace_fn,\n",
    "    num_steps=200,\n",
    ")"
   ]
  },
  {
   "cell_type": "code",
   "execution_count": 33,
   "id": "0d00ebd4",
   "metadata": {},
   "outputs": [
    {
     "data": {
      "text/plain": [
       "<tf.Variable 'Variable:0' shape=() dtype=float32, numpy=0.25861916>"
      ]
     },
     "execution_count": 33,
     "metadata": {},
     "output_type": "execute_result"
    }
   ],
   "source": [
    "th"
   ]
  },
  {
   "cell_type": "markdown",
   "id": "75db1afb",
   "metadata": {},
   "source": [
    "We now see that our MAP estimate for $\\theta$ is 0.25, which is very far from the MLE. Choosing a better prior would have led to better estimates. Or, if we had more data, the likelihood would have dominated over the prior resulting in better estimates. "
   ]
  },
  {
   "cell_type": "markdown",
   "id": "dae72c98",
   "metadata": {},
   "source": [
    "### Fully Bayesian\n"
   ]
  },
  {
   "cell_type": "markdown",
   "id": "90424138",
   "metadata": {},
   "source": [
    "#### References (incomplete as of now)\n",
    "\n",
    "1. https://www.youtube.com/watch?v=o42mnEvHmss"
   ]
  }
 ],
 "metadata": {
  "kernelspec": {
   "display_name": "Python 3 (ipykernel)",
   "language": "python",
   "name": "python3"
  },
  "language_info": {
   "codemirror_mode": {
    "name": "ipython",
    "version": 3
   },
   "file_extension": ".py",
   "mimetype": "text/x-python",
   "name": "python",
   "nbconvert_exporter": "python",
   "pygments_lexer": "ipython3",
   "version": "3.9.7"
  }
 },
 "nbformat": 4,
 "nbformat_minor": 5
}
