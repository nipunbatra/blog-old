{
 "cells": [
  {
   "cell_type": "markdown",
   "id": "c7fde03c",
   "metadata": {},
   "source": [
    "# Coin Toss (MLE, MAP, Fully Bayesian) in TF Probability\n",
    "\n",
    "- toc: true \n",
    "- badges: true\n",
    "- comments: true\n",
    "- author: Nipun Batra\n",
    "- categories: [ML, TFP, TF]"
   ]
  },
  {
   "cell_type": "markdown",
   "id": "c576bebd",
   "metadata": {},
   "source": [
    "### Basic Imports"
   ]
  },
  {
   "cell_type": "code",
   "execution_count": 1,
   "id": "f41ca63d",
   "metadata": {},
   "outputs": [],
   "source": [
    "from silence_tensorflow import silence_tensorflow\n",
    "silence_tensorflow()\n",
    "\n",
    "import numpy as np\n",
    "import matplotlib.pyplot as plt\n",
    "import tensorflow as tf\n",
    "import functools\n",
    "import seaborn as sns\n",
    "import tensorflow_probability as tfp\n",
    "import pandas as pd\n",
    "\n",
    "tfd = tfp.distributions\n",
    "tfl = tfp.layers\n",
    "tfb = tfp.bijectors\n",
    "\n",
    "from tensorflow.keras.models import Sequential\n",
    "from tensorflow.keras.layers import Dense\n",
    "from tensorflow.keras.optimizers import RMSprop\n",
    "from tensorflow.keras.callbacks import Callback\n",
    "\n",
    "sns.reset_defaults()\n",
    "sns.set_context(context=\"talk\", font_scale=1)\n",
    "%matplotlib inline\n",
    "%config InlineBackend.figure_format='retina'"
   ]
  },
  {
   "cell_type": "code",
   "execution_count": null,
   "id": "552a52ae",
   "metadata": {},
   "outputs": [],
   "source": []
  },
  {
   "cell_type": "code",
   "execution_count": 2,
   "id": "0a24b4c1",
   "metadata": {},
   "outputs": [
    {
     "name": "stdout",
     "output_type": "stream",
     "text": [
      "[1 1 1 1 1 0 1 1 0 1]\n",
      "0.8\n"
     ]
    }
   ],
   "source": [
    "distribution = tfd.Bernoulli(probs=0.75)\n",
    "\n",
    "dataset_10 = distribution.sample(10)\n",
    "print(dataset_10.numpy())\n",
    "mle_estimate_10 = tf.reduce_mean(tf.cast(dataset_10, tf.float32))\n",
    "tf.print(mle_estimate_10)"
   ]
  },
  {
   "cell_type": "code",
   "execution_count": 3,
   "id": "00e50481",
   "metadata": {},
   "outputs": [
    {
     "name": "stdout",
     "output_type": "stream",
     "text": [
      "{10: 0.4,\n",
      " 50: 0.7,\n",
      " 100: 0.74,\n",
      " 500: 0.738,\n",
      " 1000: 0.741,\n",
      " 10000: 0.7496,\n",
      " 100000: 0.75038}\n"
     ]
    }
   ],
   "source": [
    "dataset_large = distribution.sample(100000)\n",
    "\n",
    "mle_estimate = {}\n",
    "for dataset_size in [10, 50, 100, 500, 1000, 10000, 100000]:\n",
    "    mle_estimate[dataset_size] = tf.reduce_mean(\n",
    "        tf.cast(dataset_large[:dataset_size], tf.float32)\n",
    "    )\n",
    "tf.print(mle_estimate)"
   ]
  },
  {
   "cell_type": "code",
   "execution_count": 4,
   "id": "aaedf571",
   "metadata": {},
   "outputs": [
    {
     "data": {
      "text/plain": [
       "<tf.Tensor: shape=(10,), dtype=float32, numpy=\n",
       "array([-2.3025851 , -2.3025851 , -2.3025851 , -2.3025851 , -2.3025851 ,\n",
       "       -0.10536052, -2.3025851 , -2.3025851 , -0.10536052, -2.3025851 ],\n",
       "      dtype=float32)>"
      ]
     },
     "execution_count": 4,
     "metadata": {},
     "output_type": "execute_result"
    }
   ],
   "source": [
    "theta = tf.Variable(0.1)\n",
    "fit = tfd.Bernoulli(probs=theta)\n",
    "\n",
    "fit.log_prob(dataset_10)"
   ]
  },
  {
   "cell_type": "code",
   "execution_count": 5,
   "id": "9d15de1a",
   "metadata": {},
   "outputs": [
    {
     "data": {
      "text/plain": [
       "<tf.Tensor: shape=(10,), dtype=float32, numpy=\n",
       "array([-0.2876821, -0.2876821, -0.2876821, -0.2876821, -0.2876821,\n",
       "       -1.3862944, -0.2876821, -0.2876821, -1.3862944, -0.2876821],\n",
       "      dtype=float32)>"
      ]
     },
     "execution_count": 5,
     "metadata": {},
     "output_type": "execute_result"
    }
   ],
   "source": [
    "distribution.log_prob(dataset_10)"
   ]
  },
  {
   "cell_type": "code",
   "execution_count": 6,
   "id": "a071b6c9",
   "metadata": {},
   "outputs": [
    {
     "data": {
      "text/plain": [
       "<tf.Tensor: shape=(), dtype=float32, numpy=1.8631403>"
      ]
     },
     "execution_count": 6,
     "metadata": {},
     "output_type": "execute_result"
    }
   ],
   "source": [
    "-tf.reduce_mean(fit.log_prob(dataset_10))"
   ]
  },
  {
   "cell_type": "code",
   "execution_count": 7,
   "id": "f9f6e862",
   "metadata": {},
   "outputs": [],
   "source": [
    "dataset = dataset_10\n",
    "\n",
    "\n",
    "def loss():\n",
    "    return -tf.reduce_mean(fit.log_prob(dataset))"
   ]
  },
  {
   "cell_type": "code",
   "execution_count": 8,
   "id": "0069639b",
   "metadata": {},
   "outputs": [
    {
     "data": {
      "text/plain": [
       "(<tf.Variable 'Variable:0' shape=() dtype=float32, numpy=0.1>,)"
      ]
     },
     "execution_count": 8,
     "metadata": {},
     "output_type": "execute_result"
    }
   ],
   "source": [
    "fit.trainable_variables"
   ]
  },
  {
   "cell_type": "code",
   "execution_count": 9,
   "id": "e773dda7",
   "metadata": {},
   "outputs": [],
   "source": [
    "trace_fn = lambda traceable_quantities: {\n",
    "    \"loss\": traceable_quantities.loss,\n",
    "    \"theta\": theta,\n",
    "}\n",
    "\n",
    "num_steps = 150"
   ]
  },
  {
   "cell_type": "code",
   "execution_count": 10,
   "id": "cabaa2a9",
   "metadata": {},
   "outputs": [],
   "source": [
    "trace = tfp.math.minimize(\n",
    "    loss_fn=loss,\n",
    "    num_steps=num_steps,\n",
    "    optimizer=tf.optimizers.Adam(learning_rate=0.01),\n",
    "    trace_fn=trace_fn,\n",
    ")"
   ]
  },
  {
   "cell_type": "code",
   "execution_count": 11,
   "id": "0c086ff6",
   "metadata": {},
   "outputs": [
    {
     "data": {
      "text/plain": [
       "<tf.Variable 'Variable:0' shape=() dtype=float32, numpy=0.77280205>"
      ]
     },
     "execution_count": 11,
     "metadata": {},
     "output_type": "execute_result"
    }
   ],
   "source": [
    "theta"
   ]
  },
  {
   "cell_type": "code",
   "execution_count": 12,
   "id": "92940395",
   "metadata": {},
   "outputs": [
    {
     "data": {
      "image/png": "[encoded data removed]",
      "text/plain": [
       "<Figure size 288x432 with 2 Axes>"
      ]
     },
     "metadata": {
      "image/png": {
       "height": 425,
       "width": 280
      },
      "needs_background": "light"
     },
     "output_type": "display_data"
    }
   ],
   "source": [
    "fig, ax = plt.subplots(nrows=2, sharex=True, figsize=(4, 6))\n",
    "ax[0].plot(range(num_steps), trace[\"loss\"])\n",
    "ax[1].plot(range(num_steps), trace[\"theta\"])\n",
    "sns.despine()\n",
    "ax[1].set_xlabel(\"Iterations\")\n",
    "ax[0].set_ylabel(\"Loss\")\n",
    "ax[1].set_ylabel(r\"$\\theta$\")\n",
    "fig.tight_layout()"
   ]
  },
  {
   "cell_type": "code",
   "execution_count": 13,
   "id": "2d0041f9",
   "metadata": {},
   "outputs": [],
   "source": [
    "@tf.function\n",
    "def loss_and_grads(fit):\n",
    "    with tf.GradientTape() as tape:\n",
    "        loss = -tf.reduce_mean(fit.log_prob(dataset))\n",
    "    return loss, tape.gradient(loss, fit.trainable_variables)\n",
    "\n",
    "\n",
    "optimizer = tf.keras.optimizers.Adam(learning_rate=0.01)\n",
    "\n",
    "\n",
    "theta = tf.Variable(0.1)\n",
    "fit = tfd.Bernoulli(probs=theta)\n",
    "\n",
    "\n",
    "for i in range(num_steps):\n",
    "    loss, grads = loss_and_grads(fit)\n",
    "    optimizer.apply_gradients(zip(grads, fit.trainable_variables))"
   ]
  },
  {
   "cell_type": "code",
   "execution_count": 14,
   "id": "91cbba46",
   "metadata": {},
   "outputs": [
    {
     "data": {
      "text/plain": [
       "(<tf.Variable 'Variable:0' shape=() dtype=float32, numpy=0.77280205>,)"
      ]
     },
     "execution_count": 14,
     "metadata": {},
     "output_type": "execute_result"
    }
   ],
   "source": [
    "fit.trainable_variables"
   ]
  },
  {
   "cell_type": "markdown",
   "id": "85256c6a",
   "metadata": {},
   "source": [
    "#### MAP"
   ]
  },
  {
   "cell_type": "code",
   "execution_count": 15,
   "id": "d37d9a1d",
   "metadata": {},
   "outputs": [],
   "source": [
    "def coin_toss_uniform_model():\n",
    "    theta = yield tfp.distributions.JointDistributionCoroutine.Root(\n",
    "        tfp.distributions.Uniform(low=0.0, high=1.0, name=\"Theta\")\n",
    "    )\n",
    "\n",
    "    coin = yield tfp.distributions.Bernoulli(probs=tf.ones(100) * theta, name=\"Coin\")"
   ]
  },
  {
   "cell_type": "code",
   "execution_count": 16,
   "id": "e8c00998",
   "metadata": {},
   "outputs": [
    {
     "data": {
      "text/plain": [
       "<function __main__.coin_toss_uniform_model()>"
      ]
     },
     "execution_count": 16,
     "metadata": {},
     "output_type": "execute_result"
    }
   ],
   "source": [
    "coin_toss_uniform_model"
   ]
  },
  {
   "cell_type": "code",
   "execution_count": 17,
   "id": "b5ea7b98",
   "metadata": {},
   "outputs": [],
   "source": [
    "model_joint_uniform = tfp.distributions.JointDistributionCoroutineAutoBatched(\n",
    "    lambda: coin_toss_uniform_model(), name=\"Original\"\n",
    ")"
   ]
  },
  {
   "cell_type": "code",
   "execution_count": 18,
   "id": "b72994aa",
   "metadata": {},
   "outputs": [
    {
     "data": {
      "text/plain": [
       "<tfp.distributions.JointDistributionCoroutineAutoBatched 'Original' batch_shape=[] event_shape=StructTuple(\n",
       "  Theta=[],\n",
       "  Coin=[100]\n",
       ") dtype=StructTuple(\n",
       "  Theta=float32,\n",
       "  Coin=int32\n",
       ")>"
      ]
     },
     "execution_count": 18,
     "metadata": {},
     "output_type": "execute_result"
    }
   ],
   "source": [
    "model_joint_uniform"
   ]
  },
  {
   "cell_type": "code",
   "execution_count": 19,
   "id": "0ecb71f6",
   "metadata": {},
   "outputs": [
    {
     "data": {
      "text/plain": [
       "<tf.Tensor: shape=(), dtype=float32, numpy=-44.148933>"
      ]
     },
     "execution_count": 19,
     "metadata": {},
     "output_type": "execute_result"
    }
   ],
   "source": [
    "model_joint_uniform.log_prob(model_joint_uniform.sample())"
   ]
  },
  {
   "cell_type": "code",
   "execution_count": 20,
   "id": "d4c87614",
   "metadata": {},
   "outputs": [],
   "source": [
    "def uniform_model(dataset):\n",
    "    num_datapoints = len(dataset)\n",
    "    theta = yield tfp.distributions.JointDistributionCoroutine.Root(\n",
    "        tfp.distributions.Uniform(low=0.0, high=1.0, name=\"Theta\")\n",
    "    )\n",
    "    coin = yield tfp.distributions.Bernoulli(probs=tf.ones(num_datapoints) * theta, name=\"Coin\")"
   ]
  },
  {
   "cell_type": "code",
   "execution_count": 21,
   "id": "3ebb741c",
   "metadata": {},
   "outputs": [],
   "source": [
    "concrete_uniform_model = functools.partial(uniform_model, dataset = dataset_10)\n",
    "\n",
    "model = tfd.JointDistributionCoroutineAutoBatched(concrete_uniform_model)"
   ]
  },
  {
   "cell_type": "code",
   "execution_count": 22,
   "id": "09f9a070",
   "metadata": {},
   "outputs": [
    {
     "data": {
      "text/plain": [
       "StructTuple(\n",
       "  Theta=<tf.Tensor: shape=(), dtype=float32, numpy=0.6621648>,\n",
       "  Coin=<tf.Tensor: shape=(10,), dtype=int32, numpy=array([1, 0, 1, 1, 1, 1, 1, 1, 1, 0], dtype=int32)>\n",
       ")"
      ]
     },
     "execution_count": 22,
     "metadata": {},
     "output_type": "execute_result"
    }
   ],
   "source": [
    "model.sample()"
   ]
  },
  {
   "cell_type": "code",
   "execution_count": 23,
   "id": "f9bbb4fe",
   "metadata": {},
   "outputs": [
    {
     "data": {
      "text/plain": [
       "<function __main__.<lambda>(th)>"
      ]
     },
     "execution_count": 23,
     "metadata": {},
     "output_type": "execute_result"
    }
   ],
   "source": [
    "\n",
    "\n",
    "th = tf.Variable(0.4)\n",
    "\n",
    "target_log_prob_fn = lambda th: model.log_prob((th, dataset_10))\n",
    "target_log_prob_fn"
   ]
  },
  {
   "cell_type": "code",
   "execution_count": 24,
   "id": "65ee6c7a",
   "metadata": {
    "pycharm": {
     "is_executing": true
    }
   },
   "outputs": [],
   "source": [
    "trace = tfp.math.minimize(\n",
    "    lambda: -target_log_prob_fn(th),\n",
    "    optimizer=tf.optimizers.Adam(learning_rate=0.01),\n",
    "    #trace_fn=trace_fn,\n",
    "    num_steps=200,\n",
    ")"
   ]
  },
  {
   "cell_type": "code",
   "execution_count": 25,
   "id": "4233c64f",
   "metadata": {},
   "outputs": [
    {
     "data": {
      "text/plain": [
       "<tf.Variable 'Variable:0' shape=() dtype=float32, numpy=0.80001694>"
      ]
     },
     "execution_count": 25,
     "metadata": {},
     "output_type": "execute_result"
    }
   ],
   "source": [
    "th"
   ]
  },
  {
   "cell_type": "code",
   "execution_count": 26,
   "id": "274837fb",
   "metadata": {},
   "outputs": [
    {
     "data": {
      "text/plain": [
       "<tf.Tensor: shape=(), dtype=float32, numpy=0.8>"
      ]
     },
     "execution_count": 26,
     "metadata": {},
     "output_type": "execute_result"
    }
   ],
   "source": [
    "mle_estimate_10"
   ]
  },
  {
   "cell_type": "code",
   "execution_count": 27,
   "id": "0320708d",
   "metadata": {},
   "outputs": [
    {
     "data": {
      "text/plain": [
       "<tf.Tensor: shape=(100,), dtype=float32, numpy=\n",
       "array([0.22182319, 0.13401756, 0.23965973, 0.17444858, 0.14213562,\n",
       "       0.28528732, 0.21859348, 0.2030608 , 0.16903868, 0.16523781,\n",
       "       0.267017  , 0.27806625, 0.28052706, 0.3048697 , 0.1721505 ,\n",
       "       0.27562535, 0.25764838, 0.17619318, 0.16079605, 0.16251576,\n",
       "       0.2070497 , 0.2318581 , 0.22189423, 0.22807145, 0.13673237,\n",
       "       0.22214967, 0.19596058, 0.10157332, 0.07999253, 0.26003855,\n",
       "       0.14553878, 0.23743597, 0.10411   , 0.21954453, 0.18285999,\n",
       "       0.20024276, 0.18601274, 0.19060922, 0.12598696, 0.20128909,\n",
       "       0.2878245 , 0.21054542, 0.2071062 , 0.24102312, 0.11416852,\n",
       "       0.18712431, 0.3273607 , 0.24691054, 0.18499938, 0.15327194,\n",
       "       0.2318373 , 0.22768235, 0.1324633 , 0.22745433, 0.19081199,\n",
       "       0.21144053, 0.24464151, 0.18957576, 0.3140406 , 0.27400783,\n",
       "       0.25298724, 0.24339008, 0.18338221, 0.20414814, 0.19388673,\n",
       "       0.20810917, 0.21882814, 0.18017116, 0.20921457, 0.2371721 ,\n",
       "       0.18695271, 0.14969793, 0.2811939 , 0.15624863, 0.18389708,\n",
       "       0.22996873, 0.25599405, 0.32118   , 0.2249152 , 0.2330721 ,\n",
       "       0.3012622 , 0.19231775, 0.3161829 , 0.29406008, 0.11700162,\n",
       "       0.13543522, 0.17151743, 0.29579294, 0.21475253, 0.11756256,\n",
       "       0.2114861 , 0.21317062, 0.24405393, 0.23622224, 0.23990569,\n",
       "       0.1463004 , 0.18758371, 0.22973654, 0.16853836, 0.2244072 ],\n",
       "      dtype=float32)>"
      ]
     },
     "execution_count": 27,
     "metadata": {},
     "output_type": "execute_result"
    }
   ],
   "source": [
    "tfp.distributions.Beta(concentration0=40, concentration1 = 10,  name=\"Theta\").sample(100)"
   ]
  },
  {
   "cell_type": "code",
   "execution_count": 28,
   "id": "3c1c4401",
   "metadata": {},
   "outputs": [
    {
     "data": {
      "text/plain": [
       "(array([ 13.,  35.,  87., 156., 218., 221., 144.,  91.,  28.,   7.]),\n",
       " array([0.35856122, 0.3872732 , 0.4159852 , 0.44469717, 0.47340918,\n",
       "        0.50212115, 0.5308331 , 0.5595451 , 0.58825713, 0.6169691 ,\n",
       "        0.6456811 ], dtype=float32),\n",
       " <BarContainer object of 10 artists>)"
      ]
     },
     "execution_count": 28,
     "metadata": {},
     "output_type": "execute_result"
    },
    {
     "data": {
      "image/png": "[encoded data removed]",
      "text/plain": [
       "<Figure size 432x288 with 1 Axes>"
      ]
     },
     "metadata": {
      "image/png": {
       "height": 260,
       "width": 393
      },
      "needs_background": "light"
     },
     "output_type": "display_data"
    }
   ],
   "source": [
    "plt.hist(tfp.distributions.Beta(concentration0=50, concentration1 = 50,  name=\"Theta\").sample(1000).numpy())"
   ]
  },
  {
   "cell_type": "code",
   "execution_count": 29,
   "id": "6d39516b",
   "metadata": {},
   "outputs": [],
   "source": [
    "def beta_prior_model(dataset):\n",
    "    num_datapoints = len(dataset)\n",
    "    theta = yield tfp.distributions.JointDistributionCoroutine.Root(\n",
    "        tfp.distributions.Beta(concentration0=40, concentration1 = 10,  name=\"Theta\")\n",
    "    )\n",
    "    coin = yield tfp.distributions.Bernoulli(probs=tf.ones(num_datapoints) * theta, name=\"Coin\")"
   ]
  },
  {
   "cell_type": "code",
   "execution_count": 30,
   "id": "396a5868",
   "metadata": {},
   "outputs": [],
   "source": [
    "concrete_beta_prior_model = functools.partial(beta_prior_model, dataset = dataset_10)"
   ]
  },
  {
   "cell_type": "code",
   "execution_count": 31,
   "id": "2da30897",
   "metadata": {},
   "outputs": [],
   "source": [
    "model_2 = tfd.JointDistributionCoroutineAutoBatched(concrete_beta_prior_model)"
   ]
  },
  {
   "cell_type": "code",
   "execution_count": 32,
   "id": "73db7b8c",
   "metadata": {},
   "outputs": [
    {
     "data": {
      "text/plain": [
       "StructTuple(\n",
       "  Theta=<tf.Tensor: shape=(), dtype=float32, numpy=0.17273995>,\n",
       "  Coin=<tf.Tensor: shape=(10,), dtype=int32, numpy=array([0, 0, 0, 1, 0, 1, 0, 0, 0, 0], dtype=int32)>\n",
       ")"
      ]
     },
     "execution_count": 32,
     "metadata": {},
     "output_type": "execute_result"
    }
   ],
   "source": [
    "model_2.sample()"
   ]
  },
  {
   "cell_type": "code",
   "execution_count": 33,
   "id": "03815192",
   "metadata": {},
   "outputs": [
    {
     "data": {
      "text/plain": [
       "<function __main__.<lambda>(th)>"
      ]
     },
     "execution_count": 33,
     "metadata": {},
     "output_type": "execute_result"
    }
   ],
   "source": [
    "th = tf.Variable(0.2)\n",
    "\n",
    "target_log_prob_fn = lambda th: model_2.log_prob((th, dataset_10))\n",
    "target_log_prob_fn"
   ]
  },
  {
   "cell_type": "code",
   "execution_count": 34,
   "id": "08e1a142",
   "metadata": {},
   "outputs": [],
   "source": [
    "trace = tfp.math.minimize(\n",
    "    lambda: -target_log_prob_fn(th),\n",
    "    optimizer=tf.optimizers.Adam(learning_rate=0.01),\n",
    "    #trace_fn=trace_fn,\n",
    "    num_steps=200,\n",
    ")"
   ]
  },
  {
   "cell_type": "code",
   "execution_count": 35,
   "id": "0d00ebd4",
   "metadata": {},
   "outputs": [
    {
     "data": {
      "text/plain": [
       "<tf.Variable 'Variable:0' shape=() dtype=float32, numpy=0.29310602>"
      ]
     },
     "execution_count": 35,
     "metadata": {},
     "output_type": "execute_result"
    }
   ],
   "source": [
    "th"
   ]
  }
 ],
 "metadata": {
  "kernelspec": {
   "display_name": "Python 3 (ipykernel)",
   "language": "python",
   "name": "python3"
  },
  "language_info": {
   "codemirror_mode": {
    "name": "ipython",
    "version": 3
   },
   "file_extension": ".py",
   "mimetype": "text/x-python",
   "name": "python",
   "nbconvert_exporter": "python",
   "pygments_lexer": "ipython3",
   "version": "3.9.7"
  }
 },
 "nbformat": 4,
 "nbformat_minor": 5
}
