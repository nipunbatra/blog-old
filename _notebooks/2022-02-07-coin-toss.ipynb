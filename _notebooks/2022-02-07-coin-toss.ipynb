{
 "cells": [
  {
   "cell_type": "markdown",
   "id": "c7fde03c",
   "metadata": {},
   "source": [
    "# Coin Toss (MLE, MAP, Fully Bayesian) in TF Probability\n",
    "\n",
    "- toc: true \n",
    "- badges: true\n",
    "- comments: true\n",
    "- author: Nipun Batra\n",
    "- categories: [ML, TFP, TF]"
   ]
  },
  {
   "cell_type": "markdown",
   "id": "1c45e56c",
   "metadata": {},
   "source": [
    "### Goals\n",
    "\n",
    "We will be studying the problem of coin tosses. I will not go into derivations but mostly deal with automatic gradient computation in TF Probability.\n",
    "\n",
    "\n",
    "We have the following goals in this tutorial. \n",
    "\n",
    "#### Goal 1: Maximum Likelihood Estimate (MLE)\n",
    "Given a set of N observations, estimate the probability of H (denoted as $\\theta = p(H)$)\n",
    "\n",
    "#### Goal 2: Maximum A-Posteriori (MAP)\n",
    "Given a set of N observations and some prior knowledge on the distribution of $\\theta$, estimate the best point estimate of $\\theta$ once we have observed the dataset.\n",
    "\n",
    "#### Goal 3: Fully Bayesian\n",
    "Given a set of N observations and some prior knowledge on the distribution of $\\theta$, estimate the distribution of $\\theta$ once we have observed the dataset.\n",
    "\n",
    "While I mention all the references below, I acknowledge [Felix](https://github.com/Ceyron) and his excellent [repo](https://github.com/Ceyron/machine-learning-and-simulation) and video playlist ([Playlist 1](https://www.youtube.com/playlist?list=PLISXH-iEM4JlFsAp7trKCWyxeO3M70QyJ), [Playlist 2](https://www.youtube.com/playlist?list=PLISXH-iEM4Jm5B_J9p1oUNGDAUeCFZLkJ)). They inspired me to create this post.\n"
   ]
  },
  {
   "cell_type": "markdown",
   "id": "c576bebd",
   "metadata": {},
   "source": [
    "### Basic Imports"
   ]
  },
  {
   "cell_type": "code",
   "execution_count": null,
   "id": "f41ca63d",
   "metadata": {},
   "outputs": [],
   "source": [
    "from silence_tensorflow import silence_tensorflow\n",
    "\n",
    "silence_tensorflow()\n",
    "\n",
    "import numpy as np\n",
    "import matplotlib.pyplot as plt\n",
    "import tensorflow as tf\n",
    "import functools\n",
    "import seaborn as sns\n",
    "import tensorflow_probability as tfp\n",
    "import pandas as pd\n",
    "\n",
    "tfd = tfp.distributions\n",
    "tfl = tfp.layers\n",
    "tfb = tfp.bijectors\n",
    "\n",
    "sns.reset_defaults()\n",
    "sns.set_context(context=\"talk\", font_scale=1)\n",
    "%matplotlib inline\n",
    "%config InlineBackend.figure_format='retina'"
   ]
  },
  {
   "cell_type": "markdown",
   "id": "45bd16d9",
   "metadata": {},
   "source": [
    "#### Creating a dataset\n",
    "\n",
    "Let us create a dataset. We will assume the coin toss to be given as per the Bernoulli distribution. We will assume that $\\theta = p(H) = 0.75$ and generate 10 samples. We will fix the random seeds for reproducibility.\n",
    "\n",
    "We will be encoding Heads as 1 and Tails as 0."
   ]
  },
  {
   "cell_type": "code",
   "execution_count": null,
   "id": "1b37f627",
   "metadata": {},
   "outputs": [],
   "source": [
    "np.random.seed(0)\n",
    "tf.random.set_seed(0)"
   ]
  },
  {
   "cell_type": "code",
   "execution_count": null,
   "id": "0a24b4c1",
   "metadata": {},
   "outputs": [],
   "source": [
    "distribution = tfd.Bernoulli(probs=0.75)\n",
    "\n",
    "dataset_10 = distribution.sample(10)\n",
    "print(dataset_10.numpy())\n",
    "mle_estimate_10 = tf.reduce_mean(tf.cast(dataset_10, tf.float32))\n",
    "tf.print(mle_estimate_10)"
   ]
  },
  {
   "cell_type": "markdown",
   "id": "8eaad7c6",
   "metadata": {},
   "source": [
    "### MLE\n",
    "\n",
    "#### Obtaining MLE analytically \n",
    "\n",
    "From the above 10 samples, we obtain 6 Heads (1) and 4 Tails. As per the principal of MLE, the best estimate for $\\theta = p(H) = \\dfrac{n_h}{n_h+n_t} = 0.6$\n",
    "\n",
    "We may also notice that the value of 0.6 is far from the 0.75 value we had initially set. This is possible as our dataset is small. \n",
    "\n",
    "We will now verify if we get the same result using TFP. But, first, we can create a graphical model for our problem."
   ]
  },
  {
   "cell_type": "markdown",
   "id": "b4cf0b6f",
   "metadata": {},
   "source": [
    "#### Graphical model"
   ]
  },
  {
   "cell_type": "code",
   "execution_count": null,
   "id": "552a52ae",
   "metadata": {},
   "outputs": [],
   "source": [
    "import daft\n",
    "\n",
    "pgm = daft.PGM([4, 3], origin=[0, 0])\n",
    "pgm.add_node(daft.Node(\"theta\", r\"$\\theta$\", 1, 2.5, aspect=1.8))\n",
    "\n",
    "pgm.add_node(daft.Node(\"obs\", r\"$obs_i$\", 1, 1, aspect=1.2, observed=True))\n",
    "\n",
    "pgm.add_edge(\"theta\", \"obs\")\n",
    "pgm.add_plate([0, 0.5, 2, 1.0], label=r\"$N$\", shift=-0.1)\n",
    "pgm.render()"
   ]
  },
  {
   "cell_type": "markdown",
   "id": "b1a76c60",
   "metadata": {},
   "source": [
    "#### Obtaining MLE analytically for different dataset sizes"
   ]
  },
  {
   "cell_type": "code",
   "execution_count": null,
   "id": "00e50481",
   "metadata": {},
   "outputs": [],
   "source": [
    "dataset_large = distribution.sample(100000)\n",
    "\n",
    "mle_estimate = {}\n",
    "for dataset_size in [10, 50, 100, 500, 1000, 10000, 100000]:\n",
    "    mle_estimate[dataset_size] = tf.reduce_mean(\n",
    "        tf.cast(dataset_large[:dataset_size], tf.float32)\n",
    "    )\n",
    "tf.print(mle_estimate)"
   ]
  },
  {
   "cell_type": "markdown",
   "id": "495f4b17",
   "metadata": {},
   "source": [
    "As we can see above, when we use larger dataset sizes, our estimate matches the value we set (0.75)."
   ]
  },
  {
   "cell_type": "markdown",
   "id": "a0b09197",
   "metadata": {},
   "source": [
    "#### Using TFP for MLE"
   ]
  },
  {
   "cell_type": "markdown",
   "id": "f6e13229",
   "metadata": {},
   "source": [
    "##### Model setup"
   ]
  },
  {
   "cell_type": "code",
   "execution_count": null,
   "id": "aaedf571",
   "metadata": {},
   "outputs": [],
   "source": [
    "theta = tf.Variable(0.1)\n",
    "fit = tfd.Bernoulli(probs=theta)\n",
    "\n",
    "fit.log_prob(dataset_10)"
   ]
  },
  {
   "cell_type": "markdown",
   "id": "42c4990b",
   "metadata": {},
   "source": [
    "##### Defining loss\n",
    "We now define the negative log likelihood as our loss function and work towards minimizing it. "
   ]
  },
  {
   "cell_type": "code",
   "execution_count": null,
   "id": "f9f6e862",
   "metadata": {},
   "outputs": [],
   "source": [
    "dataset = dataset_10\n",
    "\n",
    "\n",
    "def loss():\n",
    "    return -tf.reduce_sum(fit.log_prob(dataset))"
   ]
  },
  {
   "cell_type": "markdown",
   "id": "31a8f03a",
   "metadata": {},
   "source": [
    "##### Tracing variables over training"
   ]
  },
  {
   "cell_type": "code",
   "execution_count": null,
   "id": "e773dda7",
   "metadata": {},
   "outputs": [],
   "source": [
    "trace_fn = lambda traceable_quantities: {\n",
    "    \"loss\": traceable_quantities.loss,\n",
    "    \"theta\": theta,\n",
    "}\n",
    "\n",
    "num_steps = 150"
   ]
  },
  {
   "cell_type": "markdown",
   "id": "8ab726ac",
   "metadata": {},
   "source": [
    "##### Minimizing the loss function"
   ]
  },
  {
   "cell_type": "code",
   "execution_count": null,
   "id": "cabaa2a9",
   "metadata": {},
   "outputs": [],
   "source": [
    "trace = tfp.math.minimize(\n",
    "    loss_fn=loss,\n",
    "    num_steps=num_steps,\n",
    "    optimizer=tf.optimizers.Adam(learning_rate=0.01),\n",
    "    trace_fn=trace_fn,\n",
    ")"
   ]
  },
  {
   "cell_type": "code",
   "execution_count": null,
   "id": "0c086ff6",
   "metadata": {},
   "outputs": [],
   "source": [
    "theta"
   ]
  },
  {
   "cell_type": "code",
   "execution_count": null,
   "id": "92940395",
   "metadata": {},
   "outputs": [],
   "source": [
    "fig, ax = plt.subplots(nrows=2, sharex=True, figsize=(6, 4))\n",
    "ax[0].plot(range(num_steps), trace[\"loss\"])\n",
    "ax[1].plot(range(num_steps), trace[\"theta\"])\n",
    "sns.despine()\n",
    "ax[1].set_xlabel(\"Iterations\")\n",
    "ax[0].set_ylabel(\"Loss\")\n",
    "ax[1].set_ylabel(r\"$\\theta$\")\n",
    "fig.tight_layout()"
   ]
  },
  {
   "cell_type": "markdown",
   "id": "0750b840",
   "metadata": {},
   "source": [
    "From the above calculations, we can see that we have obtained the same estimate of ~0.6 using TFP.  "
   ]
  },
  {
   "cell_type": "markdown",
   "id": "bbbd625e",
   "metadata": {},
   "source": [
    "##### Alternate way to minimize\n",
    "\n",
    "Previously, we used the tf.math.minimize, but we can also use tf.GradientTape() for the same purpose."
   ]
  },
  {
   "cell_type": "code",
   "execution_count": null,
   "id": "2d0041f9",
   "metadata": {},
   "outputs": [],
   "source": [
    "@tf.function\n",
    "def loss_and_grads(fit):\n",
    "    with tf.GradientTape() as tape:\n",
    "        loss = -tf.reduce_sum(fit.log_prob(dataset))\n",
    "    return loss, tape.gradient(loss, fit.trainable_variables)\n",
    "\n",
    "\n",
    "optimizer = tf.keras.optimizers.Adam(learning_rate=0.01)\n",
    "\n",
    "\n",
    "theta = tf.Variable(0.1)\n",
    "fit = tfd.Bernoulli(probs=theta)\n",
    "\n",
    "\n",
    "for i in range(num_steps):\n",
    "    loss, grads = loss_and_grads(fit)\n",
    "    optimizer.apply_gradients(zip(grads, fit.trainable_variables))"
   ]
  },
  {
   "cell_type": "code",
   "execution_count": null,
   "id": "91cbba46",
   "metadata": {},
   "outputs": [],
   "source": [
    "fit.trainable_variables"
   ]
  },
  {
   "cell_type": "markdown",
   "id": "0b01da4e",
   "metadata": {},
   "source": [
    "We can see that we obtain the same estimate."
   ]
  },
  {
   "cell_type": "markdown",
   "id": "85256c6a",
   "metadata": {},
   "source": [
    "### MAP\n",
    "\n",
    "We will now be setting a prior over $\\theta$. A general graphical model is shown below. "
   ]
  },
  {
   "cell_type": "code",
   "execution_count": null,
   "id": "7a2f14a6",
   "metadata": {},
   "outputs": [],
   "source": [
    "pgm = daft.PGM([4, 4], origin=[0, 0])\n",
    "pgm.add_node(daft.Node(\"alpha\", r\"$\\alpha$\", 0.5, 3.5, aspect=1.8))\n",
    "pgm.add_node(daft.Node(\"beta\", r\"$\\beta$\", 1.5, 3.5, aspect=1.8))\n",
    "\n",
    "\n",
    "pgm.add_node(daft.Node(\"theta\", r\"$\\theta$\", 1, 2.5, aspect=2))\n",
    "# pgm.add_node(daft.Node(\"theta\", r\"$\\theta\\sim Beta (\\alpha, \\beta)$\", 1, 2.5, aspect=4))\n",
    "\n",
    "pgm.add_node(daft.Node(\"obs\", r\"$obs_i$\", 1, 1, aspect=1.2, observed=True))\n",
    "\n",
    "pgm.add_edge(\"theta\", \"obs\")\n",
    "pgm.add_edge(\"alpha\", \"theta\")\n",
    "pgm.add_edge(\"beta\", \"theta\")\n",
    "\n",
    "\n",
    "pgm.add_plate([0, 0.5, 2, 1.0], label=r\"$N$\", shift=-0.1)\n",
    "pgm.render()"
   ]
  },
  {
   "cell_type": "markdown",
   "id": "f23b3368",
   "metadata": {},
   "source": [
    "##### MAP with uniform prior\n",
    "\n",
    "First, we see the estimate for $\\theta$ if we use the uniform prior. We should obtain the MLE answer. "
   ]
  },
  {
   "cell_type": "code",
   "execution_count": null,
   "id": "d37d9a1d",
   "metadata": {},
   "outputs": [],
   "source": [
    "def coin_toss_uniform_model():\n",
    "    theta = yield tfp.distributions.Uniform(low=0.0, high=1.0, name=\"Theta\")\n",
    "    coin = yield tfp.distributions.Bernoulli(probs=tf.ones(100) * theta, name=\"Coin\")"
   ]
  },
  {
   "cell_type": "code",
   "execution_count": null,
   "id": "e8c00998",
   "metadata": {},
   "outputs": [],
   "source": [
    "coin_toss_uniform_model"
   ]
  },
  {
   "cell_type": "code",
   "execution_count": null,
   "id": "b5ea7b98",
   "metadata": {},
   "outputs": [],
   "source": [
    "model_joint_uniform = tfp.distributions.JointDistributionCoroutineAutoBatched(\n",
    "    lambda: coin_toss_uniform_model(), name=\"Original\"\n",
    ")"
   ]
  },
  {
   "cell_type": "code",
   "execution_count": null,
   "id": "b72994aa",
   "metadata": {},
   "outputs": [],
   "source": [
    "model_joint_uniform"
   ]
  },
  {
   "cell_type": "code",
   "execution_count": null,
   "id": "d4c87614",
   "metadata": {},
   "outputs": [],
   "source": [
    "def uniform_model(dataset):\n",
    "    num_datapoints = len(dataset)\n",
    "    theta = yield tfp.distributions.Uniform(low=0.0, high=1.0, name=\"Theta\")\n",
    "\n",
    "    coin = yield tfp.distributions.Bernoulli(\n",
    "        probs=tf.ones(num_datapoints) * theta, name=\"Coin\"\n",
    "    )"
   ]
  },
  {
   "cell_type": "code",
   "execution_count": null,
   "id": "3ebb741c",
   "metadata": {},
   "outputs": [],
   "source": [
    "concrete_uniform_model = functools.partial(uniform_model, dataset=dataset_10)\n",
    "\n",
    "model = tfd.JointDistributionCoroutineAutoBatched(concrete_uniform_model)"
   ]
  },
  {
   "cell_type": "code",
   "execution_count": null,
   "id": "09f9a070",
   "metadata": {},
   "outputs": [],
   "source": [
    "model.sample()"
   ]
  },
  {
   "cell_type": "code",
   "execution_count": null,
   "id": "f9bbb4fe",
   "metadata": {},
   "outputs": [],
   "source": [
    "th = tf.Variable(0.4)\n",
    "\n",
    "target_log_prob_fn = lambda th: model.log_prob((th, dataset_10))"
   ]
  },
  {
   "cell_type": "code",
   "execution_count": null,
   "id": "d8515444",
   "metadata": {},
   "outputs": [],
   "source": [
    "x_s = tf.linspace(0.0, 1.0, 1000)\n",
    "y_s = -target_log_prob_fn(x_s)\n",
    "plt.plot(x_s, y_s)\n",
    "plt.xlabel(r\"$\\theta$\")\n",
    "plt.ylabel(\"- Joint Log Prob \\n(Unnormalized)\")\n",
    "\n",
    "sns.despine()"
   ]
  },
  {
   "cell_type": "code",
   "execution_count": null,
   "id": "65ee6c7a",
   "metadata": {
    "pycharm": {
     "is_executing": true
    }
   },
   "outputs": [],
   "source": [
    "trace = tfp.math.minimize(\n",
    "    lambda: -target_log_prob_fn(th),\n",
    "    optimizer=tf.optimizers.Adam(learning_rate=0.01),\n",
    "    # trace_fn=trace_fn,\n",
    "    num_steps=200,\n",
    ")"
   ]
  },
  {
   "cell_type": "code",
   "execution_count": null,
   "id": "4233c64f",
   "metadata": {},
   "outputs": [],
   "source": [
    "th"
   ]
  },
  {
   "cell_type": "code",
   "execution_count": null,
   "id": "274837fb",
   "metadata": {},
   "outputs": [],
   "source": [
    "mle_estimate_10"
   ]
  },
  {
   "cell_type": "markdown",
   "id": "16c5f162",
   "metadata": {},
   "source": [
    "We see above that our MAP estimate is fairly close to the MLE when we used the uniform prior. "
   ]
  },
  {
   "cell_type": "markdown",
   "id": "858e2b7e",
   "metadata": {},
   "source": [
    "##### MAP with Beta prior\n",
    "\n",
    "We will now use a much more informative prior -- the Beta prior. We will be setting $\\alpha=40$ and $\\beta=10$ indicating that we have a prior belief that Tails is much more likely than Heads. This is a bad assumption and in the limited data regime will lead to poor estimates. "
   ]
  },
  {
   "cell_type": "code",
   "execution_count": null,
   "id": "6d39516b",
   "metadata": {},
   "outputs": [],
   "source": [
    "def beta_prior_model(dataset, alpha, beta):\n",
    "    num_datapoints = len(dataset)\n",
    "    theta = yield tfp.distributions.Beta(\n",
    "        concentration0=alpha, concentration1=beta, name=\"Theta\"\n",
    "    )\n",
    "\n",
    "    coin = yield tfp.distributions.Bernoulli(\n",
    "        probs=tf.ones(num_datapoints) * theta, name=\"Coin\"\n",
    "    )"
   ]
  },
  {
   "cell_type": "code",
   "execution_count": null,
   "id": "396a5868",
   "metadata": {},
   "outputs": [],
   "source": [
    "concrete_beta_prior_model_40_10 = functools.partial(\n",
    "    beta_prior_model, dataset=dataset_10, alpha=40, beta=10\n",
    ")"
   ]
  },
  {
   "cell_type": "code",
   "execution_count": null,
   "id": "2da30897",
   "metadata": {},
   "outputs": [],
   "source": [
    "model_2_40_10 = tfd.JointDistributionCoroutineAutoBatched(\n",
    "    concrete_beta_prior_model_40_10\n",
    ")"
   ]
  },
  {
   "cell_type": "code",
   "execution_count": null,
   "id": "7054e35b",
   "metadata": {},
   "outputs": [],
   "source": [
    "model_2_40_10.sample()"
   ]
  },
  {
   "cell_type": "code",
   "execution_count": null,
   "id": "312d83e0",
   "metadata": {},
   "outputs": [],
   "source": [
    "model_2_40_10.prob(Theta=0.1, Coin=[0, 0, 0, 0, 0, 0, 0, 0, 1, 1])"
   ]
  },
  {
   "cell_type": "code",
   "execution_count": null,
   "id": "03815192",
   "metadata": {},
   "outputs": [],
   "source": [
    "th = tf.Variable(0.2)\n",
    "\n",
    "target_log_prob_fn = lambda th: model_2_40_10.log_prob(Theta=th, Coin=dataset_10)"
   ]
  },
  {
   "cell_type": "code",
   "execution_count": null,
   "id": "5a6166fb",
   "metadata": {},
   "outputs": [],
   "source": [
    "x_s = tf.linspace(0.0, 1.0, 1000)\n",
    "y_s = -target_log_prob_fn(x_s)\n",
    "plt.plot(x_s, y_s)\n",
    "plt.xlabel(r\"$\\theta$\")\n",
    "plt.ylabel(\"- Joint Log Prob \\n(Unnormalized)\")\n",
    "\n",
    "sns.despine()"
   ]
  },
  {
   "cell_type": "code",
   "execution_count": null,
   "id": "08e1a142",
   "metadata": {},
   "outputs": [],
   "source": [
    "trace = tfp.math.minimize(\n",
    "    lambda: -target_log_prob_fn(th),\n",
    "    optimizer=tf.optimizers.Adam(learning_rate=0.01),\n",
    "    # trace_fn=trace_fn,\n",
    "    num_steps=200,\n",
    ")"
   ]
  },
  {
   "cell_type": "code",
   "execution_count": null,
   "id": "0d00ebd4",
   "metadata": {},
   "outputs": [],
   "source": [
    "th"
   ]
  },
  {
   "cell_type": "markdown",
   "id": "75db1afb",
   "metadata": {},
   "source": [
    "We now see that our MAP estimate for $\\theta$ is 0.25, which is very far from the MLE. Choosing a better prior would have led to better estimates. Or, if we had more data, the likelihood would have dominated over the prior resulting in better estimates. "
   ]
  },
  {
   "cell_type": "code",
   "execution_count": null,
   "id": "551f77d6",
   "metadata": {},
   "outputs": [],
   "source": [
    "concrete_beta_prior_model_1_1 = functools.partial(\n",
    "    beta_prior_model, dataset=dataset_10, alpha=1, beta=1\n",
    ")\n",
    "\n",
    "model_2_1_1 = tfd.JointDistributionCoroutineAutoBatched(concrete_beta_prior_model_1_1)\n",
    "\n",
    "th = tf.Variable(0.2)\n",
    "\n",
    "target_log_prob_fn = lambda th: model_2_1_1.log_prob(Theta=th, Coin=dataset_10)\n",
    "\n",
    "trace = tfp.math.minimize(\n",
    "    lambda: -target_log_prob_fn(th),\n",
    "    optimizer=tf.optimizers.Adam(learning_rate=0.01),\n",
    "    # trace_fn=trace_fn,\n",
    "    num_steps=200,\n",
    ")\n",
    "\n",
    "th"
   ]
  },
  {
   "cell_type": "markdown",
   "id": "cfe682f9",
   "metadata": {},
   "source": [
    "Our estimate for $\\theta$ is more reasonable now."
   ]
  },
  {
   "cell_type": "markdown",
   "id": "dae72c98",
   "metadata": {},
   "source": [
    "### Fully Bayesian\n",
    "\n",
    "We now need to define a model $q(\\theta)$ to act as the surrogate for our posterior $p(\\theta|D)$. Let us use a Beta distribution.\n"
   ]
  },
  {
   "cell_type": "code",
   "execution_count": null,
   "id": "3730566a",
   "metadata": {},
   "outputs": [],
   "source": [
    "q_alpha = tf.Variable(1.0)\n",
    "q_beta = tf.Variable(1.0)\n",
    "\n",
    "\n",
    "surrogate_posterior = tfd.Beta(concentration0=q_alpha, concentration1=q_beta, name=\"q\")"
   ]
  },
  {
   "cell_type": "code",
   "execution_count": null,
   "id": "e54244f1",
   "metadata": {},
   "outputs": [],
   "source": [
    "surrogate_posterior.sample()"
   ]
  },
  {
   "cell_type": "code",
   "execution_count": null,
   "id": "7867b5c5",
   "metadata": {},
   "outputs": [],
   "source": [
    "losses = tfp.vi.fit_surrogate_posterior(\n",
    "    target_log_prob_fn,\n",
    "    surrogate_posterior=surrogate_posterior,\n",
    "    optimizer=tf.optimizers.Adam(learning_rate=0.005),\n",
    "    num_steps=400,\n",
    ")"
   ]
  },
  {
   "cell_type": "code",
   "execution_count": null,
   "id": "cca9cb2f",
   "metadata": {},
   "outputs": [],
   "source": [
    "plt.plot(losses)\n",
    "plt.xlabel(\"Iterations\")\n",
    "plt.ylabel(\"Loss\")\n",
    "sns.despine()"
   ]
  },
  {
   "cell_type": "code",
   "execution_count": null,
   "id": "a81780b6",
   "metadata": {},
   "outputs": [],
   "source": [
    "q_alpha, q_beta"
   ]
  },
  {
   "cell_type": "code",
   "execution_count": null,
   "id": "7c2fd783",
   "metadata": {},
   "outputs": [],
   "source": [
    "sns.kdeplot(surrogate_posterior.sample(500).numpy(), bw_adjust=2)\n",
    "sns.despine()\n",
    "plt.xlabel(r\"$\\theta$\")"
   ]
  },
  {
   "cell_type": "markdown",
   "id": "d23df0c9",
   "metadata": {},
   "source": [
    "#### Generating samples on coin tosses conditioning on theta\n",
    "\n",
    "First, let us look at the syntax and then generate 1000 samples."
   ]
  },
  {
   "cell_type": "code",
   "execution_count": null,
   "id": "1fcc5048",
   "metadata": {},
   "outputs": [],
   "source": [
    "model_2_1_1.sample(Theta=0.1)"
   ]
  },
  {
   "cell_type": "code",
   "execution_count": null,
   "id": "06c827a7",
   "metadata": {},
   "outputs": [],
   "source": [
    "model_2_1_1.sample(Theta=0.9)"
   ]
  },
  {
   "cell_type": "markdown",
   "id": "0fee14ba",
   "metadata": {},
   "source": [
    "We can clearly see that conditioning on r$\\theta$ changes the number of heads.\n",
    "\n",
    "#### Fun check: What if we fix the dataset and sample on theta?\n"
   ]
  },
  {
   "cell_type": "code",
   "execution_count": null,
   "id": "7a8e6b14",
   "metadata": {},
   "outputs": [],
   "source": [
    "model_2_1_1.sample(Coin = [0, 1, 1, 0, 1, 1, 1, 0])"
   ]
  },
  {
   "cell_type": "code",
   "execution_count": null,
   "id": "b80c1756",
   "metadata": {},
   "outputs": [],
   "source": [
    "model_2_1_1.sample(Coin = [0, 1, 1, 0, 1, 1, 1, 0])"
   ]
  },
  {
   "cell_type": "markdown",
   "id": "de900ec7",
   "metadata": {},
   "source": [
    "As we see above, we can get different $\\theta$. If our dataset was large, this effect would be less pronounced."
   ]
  },
  {
   "cell_type": "code",
   "execution_count": null,
   "id": "0f76b8a1",
   "metadata": {},
   "outputs": [],
   "source": [
    "c = model_2_1_1.sample(Theta=surrogate_posterior.sample(1000)).Coin"
   ]
  },
  {
   "cell_type": "code",
   "execution_count": null,
   "id": "a5795d75",
   "metadata": {},
   "outputs": [],
   "source": [
    "pd.DataFrame(c)"
   ]
  },
  {
   "cell_type": "code",
   "execution_count": null,
   "id": "439cdb5d",
   "metadata": {},
   "outputs": [],
   "source": [
    "sns.histplot(tf.reduce_sum(tf.cast(c, tf.float32), axis=1), bins=11)\n",
    "sns.despine()"
   ]
  },
  {
   "cell_type": "markdown",
   "id": "64a4bfb5",
   "metadata": {},
   "source": [
    "We can see the count of number of heads in 1000 samples generated from the posterior."
   ]
  },
  {
   "cell_type": "markdown",
   "id": "90424138",
   "metadata": {},
   "source": [
    "#### References (incomplete as of now)\n",
    "\n",
    "1. Excellent [repo](https://github.com/Ceyron/machine-learning-and-simulation) and video playlist ([Playlist 1](https://www.youtube.com/playlist?list=PLISXH-iEM4JlFsAp7trKCWyxeO3M70QyJ), [Playlist 2](https://www.youtube.com/playlist?list=PLISXH-iEM4Jm5B_J9p1oUNGDAUeCFZLkJ)) by [Felix](https://github.com/Ceyron)\n",
    "2. [Probabilistic PCA tutorial on TFP](https://www.tensorflow.org/probability/examples/Probabilistic_PCA)\n",
    "3. [Discussion on joint log prob on TFP](https://github.com/tensorflow/probability/blob/main/discussion/joint_log_prob.md)"
   ]
  }
 ],
 "metadata": {
  "kernelspec": {
   "display_name": "Python 3 (ipykernel)",
   "language": "python",
   "name": "python3"
  },
  "language_info": {
   "codemirror_mode": {
    "name": "ipython",
    "version": 3
   },
   "file_extension": ".py",
   "mimetype": "text/x-python",
   "name": "python",
   "nbconvert_exporter": "python",
   "pygments_lexer": "ipython3",
   "version": "3.9.7"
  }
 },
 "nbformat": 4,
 "nbformat_minor": 5
}
