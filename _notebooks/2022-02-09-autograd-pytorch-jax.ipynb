{
 "cells": [
  {
   "cell_type": "markdown",
   "id": "c7fde03c",
   "metadata": {},
   "source": [
    "# Autograd in JAX and PyTorch\n",
    "\n",
    "- toc: true \n",
    "- badges: true\n",
    "- comments: true\n",
    "- author: Nipun Batra\n",
    "- categories: [ML, JAX, PyTorch]"
   ]
  },
  {
   "cell_type": "markdown",
   "id": "c576bebd",
   "metadata": {},
   "source": [
    "#### Basic Imports"
   ]
  },
  {
   "cell_type": "code",
   "execution_count": null,
   "id": "0a229a9b",
   "metadata": {},
   "outputs": [],
   "source": [
    "import torch\n",
    "from jax import grad\n",
    "import jax.numpy as jnp"
   ]
  },
  {
   "cell_type": "markdown",
   "id": "1ccf00fa",
   "metadata": {},
   "source": [
    "#### Creating scalar variables in PyTorch"
   ]
  },
  {
   "cell_type": "code",
   "execution_count": null,
   "id": "da909a5e",
   "metadata": {},
   "outputs": [],
   "source": [
    "x_torch = torch.autograd.Variable(torch.tensor(1.), requires_grad=True)\n",
    "y_torch = torch.autograd.Variable(torch.tensor(1.), requires_grad=True)"
   ]
  },
  {
   "cell_type": "markdown",
   "id": "a9edcdf0",
   "metadata": {},
   "source": [
    "#### Creating scalar variables in JAX"
   ]
  },
  {
   "cell_type": "code",
   "execution_count": null,
   "id": "803d247a",
   "metadata": {},
   "outputs": [],
   "source": [
    "x_jax = jnp.array(1.)\n",
    "y_jax = jnp.array(1.)"
   ]
  },
  {
   "cell_type": "markdown",
   "id": "2c4be830",
   "metadata": {},
   "source": [
    "#### Defining a loss on scalar inputs"
   ]
  },
  {
   "cell_type": "code",
   "execution_count": null,
   "id": "fad6398c",
   "metadata": {},
   "outputs": [],
   "source": [
    "def loss(x, y):\n",
    "    return x*x + y*y"
   ]
  },
  {
   "cell_type": "markdown",
   "id": "f837b33b",
   "metadata": {},
   "source": [
    "#### Computing the loss on PyTorch input"
   ]
  },
  {
   "cell_type": "code",
   "execution_count": null,
   "id": "9e03817d",
   "metadata": {},
   "outputs": [],
   "source": [
    "l_torch  = loss(x_torch, y_torch)\n",
    "l_torch"
   ]
  },
  {
   "cell_type": "markdown",
   "id": "4f97cf24",
   "metadata": {},
   "source": [
    "#### Computing the loss on JAX input"
   ]
  },
  {
   "cell_type": "code",
   "execution_count": null,
   "id": "ddc3912b",
   "metadata": {},
   "outputs": [],
   "source": [
    "l_jax = loss(x_jax, y_jax)"
   ]
  },
  {
   "cell_type": "markdown",
   "id": "0e5e89a7",
   "metadata": {},
   "source": [
    "#### Computing the gradient on PyTorch input"
   ]
  },
  {
   "cell_type": "code",
   "execution_count": null,
   "id": "9175f654",
   "metadata": {},
   "outputs": [],
   "source": [
    "l.backward()\n",
    "x_torch.grad, y_torch.grad"
   ]
  },
  {
   "cell_type": "markdown",
   "id": "5448677b",
   "metadata": {},
   "source": [
    "#### Computing the gradient on JAX input"
   ]
  },
  {
   "cell_type": "code",
   "execution_count": null,
   "id": "569bbb76",
   "metadata": {},
   "outputs": [],
   "source": [
    "grad_loss = grad(loss, argnums=[0, 1])\n",
    "grad_loss(x_jax, y_jax)"
   ]
  },
  {
   "cell_type": "markdown",
   "id": "a339059e",
   "metadata": {},
   "source": [
    "#### Repeating the same procedure as above for both libraries but instead using vector function"
   ]
  },
  {
   "cell_type": "code",
   "execution_count": null,
   "id": "05bf8396",
   "metadata": {},
   "outputs": [],
   "source": [
    "def loss(theta):\n",
    "    return theta.T@theta"
   ]
  },
  {
   "cell_type": "code",
   "execution_count": null,
   "id": "48fdfedc",
   "metadata": {},
   "outputs": [],
   "source": [
    "theta_torch = torch.autograd.Variable(torch.tensor([1., 1.]), requires_grad=True)"
   ]
  },
  {
   "cell_type": "code",
   "execution_count": null,
   "id": "3fe5cf93",
   "metadata": {},
   "outputs": [],
   "source": [
    "theta_torch"
   ]
  },
  {
   "cell_type": "code",
   "execution_count": null,
   "id": "521a4064",
   "metadata": {},
   "outputs": [],
   "source": [
    "l = loss(theta_torch)\n",
    "l"
   ]
  },
  {
   "cell_type": "code",
   "execution_count": null,
   "id": "ea21cd4e",
   "metadata": {},
   "outputs": [],
   "source": [
    "l.backward()\n",
    "theta_torch.grad"
   ]
  },
  {
   "cell_type": "code",
   "execution_count": null,
   "id": "3e9c1327",
   "metadata": {},
   "outputs": [],
   "source": [
    "theta_jax = jnp.array([1., 1.])"
   ]
  },
  {
   "cell_type": "code",
   "execution_count": null,
   "id": "baebf245",
   "metadata": {},
   "outputs": [],
   "source": [
    "loss(theta_jax)"
   ]
  },
  {
   "cell_type": "code",
   "execution_count": null,
   "id": "381ae719",
   "metadata": {},
   "outputs": [],
   "source": [
    "grad_loss = grad(loss, argnums=[0])"
   ]
  },
  {
   "cell_type": "code",
   "execution_count": null,
   "id": "216ab34e",
   "metadata": {},
   "outputs": [],
   "source": [
    "grad_loss(theta_jax)"
   ]
  }
 ],
 "metadata": {
  "kernelspec": {
   "display_name": "Python 3 (ipykernel)",
   "language": "python",
   "name": "python3"
  },
  "language_info": {
   "codemirror_mode": {
    "name": "ipython",
    "version": 3
   },
   "file_extension": ".py",
   "mimetype": "text/x-python",
   "name": "python",
   "nbconvert_exporter": "python",
   "pygments_lexer": "ipython3",
   "version": "3.9.7"
  }
 },
 "nbformat": 4,
 "nbformat_minor": 5
}
