{
 "cells": [
  {
   "cell_type": "code",
   "execution_count": 25,
   "metadata": {},
   "outputs": [],
   "source": [
    "import keras\n",
    "from sklearn import datasets\n",
    "import matplotlib.pyplot as plt\n",
    "import numpy as np\n",
    "%matplotlib inline"
   ]
  },
  {
   "cell_type": "code",
   "execution_count": 9,
   "metadata": {},
   "outputs": [],
   "source": [
    "digits = datasets.load_digits()"
   ]
  },
  {
   "cell_type": "code",
   "execution_count": 24,
   "metadata": {},
   "outputs": [
    {
     "data": {
      "text/plain": [
       "Text(0.5, 1.0, '0')"
      ]
     },
     "execution_count": 24,
     "metadata": {},
     "output_type": "execute_result"
    },
    {
     "data": {
      "image/png": "[encoded data removed]",
      "text/plain": [
       "<Figure size 432x288 with 1 Axes>"
      ]
     },
     "metadata": {
      "needs_background": "light"
     },
     "output_type": "display_data"
    }
   ],
   "source": [
    "i = 0\n",
    "plt.imshow(digits['data'][i, :].reshape(8, 8),cmap='Greys')\n",
    "plt.title(digits['target'][i])"
   ]
  },
  {
   "cell_type": "code",
   "execution_count": 21,
   "metadata": {},
   "outputs": [],
   "source": [
    "X = digits['data'][:, :]\n",
    "y = digits['target']"
   ]
  },
  {
   "cell_type": "code",
   "execution_count": 22,
   "metadata": {},
   "outputs": [
    {
     "data": {
      "text/plain": [
       "array([0, 2, 3, ..., 8, 9, 8])"
      ]
     },
     "execution_count": 22,
     "metadata": {},
     "output_type": "execute_result"
    }
   ],
   "source": []
  },
  {
   "cell_type": "code",
   "execution_count": 28,
   "metadata": {},
   "outputs": [],
   "source": [
    "y[np.where(y!=1)[0]]=0"
   ]
  },
  {
   "cell_type": "code",
   "execution_count": 36,
   "metadata": {},
   "outputs": [
    {
     "data": {
      "text/plain": [
       "Text(0.5, 1.0, '0')"
      ]
     },
     "execution_count": 36,
     "metadata": {},
     "output_type": "execute_result"
    },
    {
     "data": {
      "image/png": "[encoded data removed]",
      "text/plain": [
       "<Figure size 432x288 with 1 Axes>"
      ]
     },
     "metadata": {
      "needs_background": "light"
     },
     "output_type": "display_data"
    }
   ],
   "source": [
    "i = 4\n",
    "plt.imshow(X[i, :].reshape(8, 8),cmap='Greys')\n",
    "plt.title(y[i])"
   ]
  },
  {
   "cell_type": "code",
   "execution_count": 54,
   "metadata": {},
   "outputs": [
    {
     "data": {
      "text/plain": [
       "(1797, 64)"
      ]
     },
     "execution_count": 54,
     "metadata": {},
     "output_type": "execute_result"
    }
   ],
   "source": [
    "X.shape"
   ]
  },
  {
   "cell_type": "code",
   "execution_count": 56,
   "metadata": {},
   "outputs": [],
   "source": [
    "from keras import Sequential, Model"
   ]
  },
  {
   "cell_type": "code",
   "execution_count": 57,
   "metadata": {},
   "outputs": [],
   "source": [
    "from keras.layers import Dense, Activation\n",
    "from keras.utils import to_categorical\n",
    "model = Sequential([\n",
    "    Dense(20, input_shape=(64,)),\n",
    "    Activation('relu'),\n",
    "    Dense(2),\n",
    "    Activation('softmax'),\n",
    "])"
   ]
  },
  {
   "cell_type": "code",
   "execution_count": 58,
   "metadata": {},
   "outputs": [],
   "source": [
    "model.compile(optimizer='adam',\n",
    "              loss='categorical_crossentropy',\n",
    "              metrics=['accuracy'])"
   ]
  },
  {
   "cell_type": "code",
   "execution_count": 59,
   "metadata": {},
   "outputs": [
    {
     "name": "stdout",
     "output_type": "stream",
     "text": [
      "Epoch 1/50\n",
      "800/800 [==============================] - 0s 120us/step - loss: 0.5998 - accuracy: 0.8388\n",
      "Epoch 2/50\n",
      "800/800 [==============================] - 0s 49us/step - loss: 0.3302 - accuracy: 0.9125\n",
      "Epoch 3/50\n",
      "800/800 [==============================] - 0s 31us/step - loss: 0.2190 - accuracy: 0.9287\n",
      "Epoch 4/50\n",
      "800/800 [==============================] - 0s 35us/step - loss: 0.1523 - accuracy: 0.9438\n",
      "Epoch 5/50\n",
      "800/800 [==============================] - 0s 36us/step - loss: 0.1196 - accuracy: 0.9600\n",
      "Epoch 6/50\n",
      "800/800 [==============================] - 0s 38us/step - loss: 0.1089 - accuracy: 0.9563\n",
      "Epoch 7/50\n",
      "800/800 [==============================] - 0s 31us/step - loss: 0.0903 - accuracy: 0.9625\n",
      "Epoch 8/50\n",
      "800/800 [==============================] - 0s 39us/step - loss: 0.0805 - accuracy: 0.9725\n",
      "Epoch 9/50\n",
      "800/800 [==============================] - 0s 36us/step - loss: 0.0698 - accuracy: 0.9712\n",
      "Epoch 10/50\n",
      "800/800 [==============================] - 0s 39us/step - loss: 0.0626 - accuracy: 0.9762\n",
      "Epoch 11/50\n",
      "800/800 [==============================] - 0s 37us/step - loss: 0.0654 - accuracy: 0.9750\n",
      "Epoch 12/50\n",
      "800/800 [==============================] - 0s 33us/step - loss: 0.0549 - accuracy: 0.9800\n",
      "Epoch 13/50\n",
      "800/800 [==============================] - 0s 39us/step - loss: 0.0496 - accuracy: 0.9787\n",
      "Epoch 14/50\n",
      "800/800 [==============================] - 0s 30us/step - loss: 0.0461 - accuracy: 0.9812\n",
      "Epoch 15/50\n",
      "800/800 [==============================] - 0s 33us/step - loss: 0.0432 - accuracy: 0.9837\n",
      "Epoch 16/50\n",
      "800/800 [==============================] - 0s 30us/step - loss: 0.0429 - accuracy: 0.9850\n",
      "Epoch 17/50\n",
      "800/800 [==============================] - 0s 36us/step - loss: 0.0396 - accuracy: 0.9837\n",
      "Epoch 18/50\n",
      "800/800 [==============================] - 0s 36us/step - loss: 0.0368 - accuracy: 0.9862\n",
      "Epoch 19/50\n",
      "800/800 [==============================] - 0s 31us/step - loss: 0.0357 - accuracy: 0.9862\n",
      "Epoch 20/50\n",
      "800/800 [==============================] - 0s 35us/step - loss: 0.0325 - accuracy: 0.9900\n",
      "Epoch 21/50\n",
      "800/800 [==============================] - 0s 38us/step - loss: 0.0296 - accuracy: 0.9900\n",
      "Epoch 22/50\n",
      "800/800 [==============================] - 0s 41us/step - loss: 0.0278 - accuracy: 0.9912\n",
      "Epoch 23/50\n",
      "800/800 [==============================] - 0s 41us/step - loss: 0.0254 - accuracy: 0.9937\n",
      "Epoch 24/50\n",
      "800/800 [==============================] - 0s 40us/step - loss: 0.0241 - accuracy: 0.9912\n",
      "Epoch 25/50\n",
      "800/800 [==============================] - 0s 42us/step - loss: 0.0215 - accuracy: 0.9950\n",
      "Epoch 26/50\n",
      "800/800 [==============================] - 0s 40us/step - loss: 0.0211 - accuracy: 0.9925\n",
      "Epoch 27/50\n",
      "800/800 [==============================] - 0s 44us/step - loss: 0.0188 - accuracy: 0.9962\n",
      "Epoch 28/50\n",
      "800/800 [==============================] - 0s 36us/step - loss: 0.0180 - accuracy: 0.9950\n",
      "Epoch 29/50\n",
      "800/800 [==============================] - 0s 35us/step - loss: 0.0169 - accuracy: 0.9950\n",
      "Epoch 30/50\n",
      "800/800 [==============================] - 0s 35us/step - loss: 0.0165 - accuracy: 0.9950\n",
      "Epoch 31/50\n",
      "800/800 [==============================] - 0s 31us/step - loss: 0.0156 - accuracy: 0.9950\n",
      "Epoch 32/50\n",
      "800/800 [==============================] - 0s 33us/step - loss: 0.0140 - accuracy: 0.9950\n",
      "Epoch 33/50\n",
      "800/800 [==============================] - 0s 36us/step - loss: 0.0133 - accuracy: 0.9950\n",
      "Epoch 34/50\n",
      "800/800 [==============================] - 0s 36us/step - loss: 0.0125 - accuracy: 0.9975\n",
      "Epoch 35/50\n",
      "800/800 [==============================] - 0s 40us/step - loss: 0.0124 - accuracy: 0.9962\n",
      "Epoch 36/50\n",
      "800/800 [==============================] - 0s 35us/step - loss: 0.0128 - accuracy: 0.9975\n",
      "Epoch 37/50\n",
      "800/800 [==============================] - 0s 39us/step - loss: 0.0105 - accuracy: 0.9987\n",
      "Epoch 38/50\n",
      "800/800 [==============================] - 0s 41us/step - loss: 0.0098 - accuracy: 0.9975\n",
      "Epoch 39/50\n",
      "800/800 [==============================] - 0s 39us/step - loss: 0.0095 - accuracy: 0.9987\n",
      "Epoch 40/50\n",
      "800/800 [==============================] - 0s 40us/step - loss: 0.0105 - accuracy: 0.9950\n",
      "Epoch 41/50\n",
      "800/800 [==============================] - 0s 42us/step - loss: 0.0087 - accuracy: 0.9987\n",
      "Epoch 42/50\n",
      "800/800 [==============================] - 0s 40us/step - loss: 0.0095 - accuracy: 0.9975\n",
      "Epoch 43/50\n",
      "800/800 [==============================] - 0s 60us/step - loss: 0.0084 - accuracy: 0.9987\n",
      "Epoch 44/50\n",
      "800/800 [==============================] - 0s 41us/step - loss: 0.0083 - accuracy: 0.9987\n",
      "Epoch 45/50\n",
      "800/800 [==============================] - 0s 54us/step - loss: 0.0075 - accuracy: 1.0000\n",
      "Epoch 46/50\n",
      "800/800 [==============================] - 0s 46us/step - loss: 0.0066 - accuracy: 1.0000\n",
      "Epoch 47/50\n",
      "800/800 [==============================] - 0s 38us/step - loss: 0.0066 - accuracy: 0.9987\n",
      "Epoch 48/50\n",
      "800/800 [==============================] - 0s 39us/step - loss: 0.0066 - accuracy: 1.0000\n",
      "Epoch 49/50\n",
      "800/800 [==============================] - 0s 40us/step - loss: 0.0067 - accuracy: 1.0000\n",
      "Epoch 50/50\n",
      "800/800 [==============================] - 0s 40us/step - loss: 0.0059 - accuracy: 1.0000\n"
     ]
    },
    {
     "data": {
      "text/plain": [
       "<keras.callbacks.callbacks.History at 0x141d90a50>"
      ]
     },
     "execution_count": 59,
     "metadata": {},
     "output_type": "execute_result"
    }
   ],
   "source": [
    "model.fit(X[:800], to_categorical(y[:800]),epochs=50)"
   ]
  },
  {
   "cell_type": "code",
   "execution_count": 63,
   "metadata": {},
   "outputs": [],
   "source": [
    "y_hat_test = np.argmax(model.predict(X[800:]), axis=1)"
   ]
  },
  {
   "cell_type": "code",
   "execution_count": 66,
   "metadata": {},
   "outputs": [],
   "source": [
    "from sklearn.metrics import accuracy_score"
   ]
  },
  {
   "cell_type": "code",
   "execution_count": 67,
   "metadata": {},
   "outputs": [
    {
     "data": {
      "text/plain": [
       "0.9759277833500501"
      ]
     },
     "execution_count": 67,
     "metadata": {},
     "output_type": "execute_result"
    }
   ],
   "source": [
    "accuracy_score(y[800:], y_hat_test)"
   ]
  },
  {
   "cell_type": "code",
   "execution_count": 80,
   "metadata": {},
   "outputs": [
    {
     "data": {
      "text/plain": [
       "Text(0.5, 1.0, 'GT:0\\nPred:0')"
      ]
     },
     "execution_count": 80,
     "metadata": {},
     "output_type": "execute_result"
    },
    {
     "data": {
      "image/png": "[encoded data removed]",
      "text/plain": [
       "<Figure size 432x288 with 1 Axes>"
      ]
     },
     "metadata": {
      "needs_background": "light"
     },
     "output_type": "display_data"
    }
   ],
   "source": [
    "plt.imshow(X[800].reshape(8, 8))\n",
    "plt.title(\"GT:\"+str(y[800])+\"\\nPred:\"+str(y_hat_test[0]))"
   ]
  },
  {
   "cell_type": "code",
   "execution_count": 76,
   "metadata": {},
   "outputs": [
    {
     "data": {
      "text/plain": [
       "(0, 0)"
      ]
     },
     "execution_count": 76,
     "metadata": {},
     "output_type": "execute_result"
    }
   ],
   "source": [
    "y[800], y_hat_test[0]"
   ]
  },
  {
   "cell_type": "code",
   "execution_count": null,
   "metadata": {},
   "outputs": [],
   "source": []
  }
 ],
 "metadata": {
  "kernelspec": {
   "display_name": "Python 3",
   "language": "python",
   "name": "python3"
  },
  "language_info": {
   "codemirror_mode": {
    "name": "ipython",
    "version": 3
   },
   "file_extension": ".py",
   "mimetype": "text/x-python",
   "name": "python",
   "nbconvert_exporter": "python",
   "pygments_lexer": "ipython3",
   "version": "3.7.4"
  }
 },
 "nbformat": 4,
 "nbformat_minor": 2
}
