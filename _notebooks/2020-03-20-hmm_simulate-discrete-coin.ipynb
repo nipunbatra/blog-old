{
 "cells": [
  {
   "cell_type": "markdown",
   "metadata": {},
   "source": [
    "# HMM Simulation for Unfair Coin Problem\n",
    "> A programming introduction to HMMs for unfair coin problem\n",
    "\n",
    "- toc: true \n",
    "- badges: true\n",
    "- comments: true\n",
    "- author: Nipun Batra\n",
    "- categories: [ML]"
   ]
  },
  {
   "cell_type": "markdown",
   "metadata": {},
   "source": [
    "In this notebook we shall create a Hidden Markov Model [1] for the Unfair Coin problem. This problem is similar to an earlier [post](https://nipunbatra.github.io/blog/ml/2013/06/01/hmm_simulate.html) In short the problem is as follows: \n",
    "There may be two coin- one fair and the other biased. The biased die is much more likely to produce a H than T. With the fair coin, both H and T are equally likely. \n",
    "\n",
    "The different components of the Discrete HMM are as follows:\n",
    "\n",
    "* **Observed States**  : H or T\n",
    "* **Hidden States**    : Fair or Biased Die\n",
    "* **Prior (pi)**            : Probability that the first throw is made from a fair or a biased die, which is : Pr (first throw is fair) and Pr (first throw is biased), which is represented as a 1 X 2 row matrix\n",
    "* **Transition Matrix (A)**: Matrix encoding the probability of the 4 possible transition between fair and biased die, which are: Fair-> Fair, Fair-> Biased, Biased-> Fair and Biased->Biased, which is represented as a 2 X 2 matrix\n",
    "* **Emission Matrix (B)**  : Matrix encoding the probability of an observation given the hidden state. It is a 2 X 2 Matrix\n"
   ]
  },
  {
   "cell_type": "markdown",
   "metadata": {},
   "source": [
    "Next, we import the basic set of libraries used for matrix manipulation and for plotting."
   ]
  },
  {
   "cell_type": "code",
   "execution_count": 6,
   "metadata": {},
   "outputs": [],
   "source": [
    "import numpy as np\n",
    "import matplotlib.pyplot as plt\n",
    "import random\n",
    "import matplotlib\n",
    "#Setting Font Size as 20\n",
    "matplotlib.rcParams.update({'font.size': 20})"
   ]
  },
  {
   "cell_type": "markdown",
   "metadata": {},
   "source": [
    "Next, we define the different components of HMM which were described above."
   ]
  },
  {
   "cell_type": "code",
   "execution_count": 7,
   "metadata": {},
   "outputs": [],
   "source": [
    "'''\n",
    "Pi : Fair coin is more likely for t=1\n",
    "\n",
    "A  : The coin thrower likes to keep in one state (fair/biased), and the tranisition from \n",
    "1. Biased->Biased: .90\n",
    "2. Biased->Fair=1-.90=.10\n",
    "3. Fair->Biased: 1-.90=.1\n",
    "4. Fair-> Fair : .90\n",
    "\n",
    "\n",
    "\n",
    "B\n",
    "'''\n",
    "pi=np.array([0.6,0.4])\n",
    "A=np.array([[.9,.1],[.1,.9]])\n",
    "B=np.array([[0.7, 0.3],[.5,.5]])"
   ]
  },
  {
   "cell_type": "markdown",
   "metadata": {},
   "source": [
    "Now based on these probability sequences we need to produce a sequence of **observed** and **hidden** states. We use the notion of weighted sampling, which basically means that terms/states with higher probabilies assigned to them are more likely to be selected/sampled. For example,let us consider the starting state. For this we need to use the **pi** matrix, since that encodes the likiliness of starting in a particular state. We observe that for starting in **Biased** state the probability is .6 and 1.5 times that of starting in **Fair** state. Thus, it is much more likely that we start in Fair state. We use **Fitness Proportionate Selection** [3] to sample states based on weights (probability). For selection of starting state we would proceed as follows:\n",
    "\n",
    "* We choose a random value between 0 and 1\n",
    "* We iterate over the list of values (prior) and iteratively subtract the value at current position from the number which we chose at random and as soon as it becomes negative, we return the index. Let us demonstrate this with a function."
   ]
  },
  {
   "cell_type": "code",
   "execution_count": 8,
   "metadata": {},
   "outputs": [],
   "source": [
    "'''\n",
    "Returns next state according to weigted probability array. Code based on Weighted random generation in Python [4]\n",
    "'''\n",
    "def next_state(weights, print_random=False):\n",
    "    choice = random.random() * sum(weights)\n",
    "    if print_random:\n",
    "        print(f\"Choice: {choice}\")\n",
    "    for i, w in enumerate(weights):\n",
    "        choice -= w\n",
    "        if choice < 0:\n",
    "            return i"
   ]
  },
  {
   "cell_type": "code",
   "execution_count": 17,
   "metadata": {},
   "outputs": [
    {
     "name": "stdout",
     "output_type": "stream",
     "text": [
      "Choice: 0.0857069787975111\n"
     ]
    },
    {
     "data": {
      "text/plain": [
       "0"
      ]
     },
     "execution_count": 17,
     "metadata": {},
     "output_type": "execute_result"
    }
   ],
   "source": [
    "next_state([0.8, 0.2], print_random=True)"
   ]
  },
  {
   "cell_type": "code",
   "execution_count": 18,
   "metadata": {},
   "outputs": [
    {
     "name": "stdout",
     "output_type": "stream",
     "text": [
      "Choice: 0.36222917901303864\n"
     ]
    },
    {
     "data": {
      "text/plain": [
       "0"
      ]
     },
     "execution_count": 18,
     "metadata": {},
     "output_type": "execute_result"
    }
   ],
   "source": [
    "next_state([0.8, 0.2], print_random=True)"
   ]
  },
  {
   "cell_type": "code",
   "execution_count": 19,
   "metadata": {},
   "outputs": [
    {
     "name": "stdout",
     "output_type": "stream",
     "text": [
      "Choice: 0.20068873387672292\n"
     ]
    },
    {
     "data": {
      "text/plain": [
       "0"
      ]
     },
     "execution_count": 19,
     "metadata": {},
     "output_type": "execute_result"
    }
   ],
   "source": [
    "next_state([0.8, 0.2], print_random=True)"
   ]
  },
  {
   "cell_type": "code",
   "execution_count": 20,
   "metadata": {},
   "outputs": [
    {
     "name": "stdout",
     "output_type": "stream",
     "text": [
      "Choice: 0.6783569698926452\n"
     ]
    },
    {
     "data": {
      "text/plain": [
       "0"
      ]
     },
     "execution_count": 20,
     "metadata": {},
     "output_type": "execute_result"
    }
   ],
   "source": [
    "next_state([0.8, 0.2], print_random=True)"
   ]
  },
  {
   "cell_type": "markdown",
   "metadata": {},
   "source": [
    "We test the above function by making a call to it 1000 times and then we try to see how many times do we get a 0 (Fair) wrt 1 (Biased), \n",
    "given the **pi** vector."
   ]
  },
  {
   "cell_type": "code",
   "execution_count": 24,
   "metadata": {},
   "outputs": [
    {
     "name": "stdout",
     "output_type": "stream",
     "text": [
      "Expected number of Biased states: 609\n",
      "Expected number of Fair states: 391\n"
     ]
    }
   ],
   "source": [
    "count=0\n",
    "for i in range(1000):\n",
    "    count+=next_state(pi)\n",
    "print(f\"Expected number of Biased states: {1000-count}\")\n",
    "print(f\"Expected number of Fair states: {count}\")"
   ]
  },
  {
   "cell_type": "code",
   "execution_count": 25,
   "metadata": {},
   "outputs": [
    {
     "name": "stdout",
     "output_type": "stream",
     "text": [
      "Expected number of Biased states: 598\n",
      "Expected number of Fair states: 402\n"
     ]
    }
   ],
   "source": [
    "count=0\n",
    "for i in range(1000):\n",
    "    count+=next_state(pi)\n",
    "print(f\"Expected number of Biased states: {1000-count}\")\n",
    "print(f\"Expected number of Fair states: {count}\")"
   ]
  },
  {
   "cell_type": "markdown",
   "metadata": {},
   "source": [
    "Thus, we can see that we get approximately twice the ratio of biased to fair as we had expected."
   ]
  },
  {
   "cell_type": "markdown",
   "metadata": {},
   "source": [
    "Next, we write the following functions:\n",
    "\n",
    "* create_hidden_sequence (pi,A,length): which creates a hidden sequence (Markov Chain) of desired length based on **Pi** and **A**. The algorithm\n",
    "followed is as follows: We choose the first state as described above. Next on the basis of current state, we see it's transition matrix and assign\n",
    "the next state by weighted sampling (by invoking next_state with argument as A[current_state])\n",
    "* create_observed_sequence (hidden_sequence,B): which create an observed sequence based on hidden states and associated **B**. Based on current hidden state, we use it's emission parameters to sample the observation.\n",
    "\n",
    "    "
   ]
  },
  {
   "cell_type": "code",
   "execution_count": 26,
   "metadata": {},
   "outputs": [],
   "source": [
    "def create_hidden_sequence(pi,A,length):\n",
    "    out=[None]*length\n",
    "    out[0]=next_state(pi)\n",
    "    for i in range(1,length):\n",
    "        out[i]=next_state(A[out[i-1]])\n",
    "    return out\n",
    "   \n",
    "def create_observation_sequence(hidden_sequence,B):\n",
    "    length=len(hidden_sequence)\n",
    "    out=[None]*length\n",
    "    for i in range(length):\n",
    "        out[i]=next_state(B[hidden_sequence[i]])\n",
    "    return out"
   ]
  },
  {
   "cell_type": "markdown",
   "metadata": {},
   "source": [
    "Thus, using these functions and the HMM paramters we decided earlier, we create length 1000 sequence for hidden and observed states."
   ]
  },
  {
   "cell_type": "code",
   "execution_count": 27,
   "metadata": {},
   "outputs": [],
   "source": [
    "hidden=np.array(create_hidden_sequence(pi,A,1000))\n",
    "observed=np.array(create_observation_sequence(hidden,B))"
   ]
  },
  {
   "cell_type": "raw",
   "metadata": {},
   "source": [
    "Now, we create helper functions to plot the two sequence in a way we can intuitively understand the HMM."
   ]
  },
  {
   "cell_type": "code",
   "execution_count": 28,
   "metadata": {},
   "outputs": [],
   "source": [
    "'''Group all contiguous values in tuple. Recipe picked from Stack Overflow [5]'''\n",
    "def group(L):\n",
    "    first = last = L[0]\n",
    "    for n in L[1:]:\n",
    "        if n - 1 == last: # Part of the group, bump the end\n",
    "            last = n\n",
    "        else: # Not part of the group, yield current group and start a new\n",
    "            yield first, last\n",
    "            first = last = n\n",
    "    yield first, last # Yield the last group\n",
    "    \n",
    "'''Create tuples of the form (start, number_of_continuous values'''\n",
    "def create_tuple(x):\n",
    "    return [(a,b-a+1) for (a,b) in x]"
   ]
  },
  {
   "cell_type": "code",
   "execution_count": 29,
   "metadata": {},
   "outputs": [],
   "source": [
    "#Tuples of form index value, number of continuous values corresponding to Fair State\n",
    "indices_hidden_fair=np.where(hidden==0)[0]\n",
    "tuples_contiguous_values_fair=list(group(indices_hidden_fair))\n",
    "tuples_start_break_fair=create_tuple(tuples_contiguous_values_fair)\n",
    "\n",
    "#Tuples of form index value, number of continuous values corresponding to Biased State\n",
    "indices_hidden_biased=np.where(hidden==1)[0]\n",
    "tuples_contiguous_values_biased=list(group(indices_hidden_biased))\n",
    "tuples_start_break_biased=create_tuple(tuples_contiguous_values_biased)\n",
    "\n",
    "#Tuples for observations\n",
    "observation_tuples=[]\n",
    "for i in range(2):\n",
    "    observation_tuples.append(create_tuple(group(list(np.where(observed==i)[0]))))"
   ]
  },
  {
   "cell_type": "markdown",
   "metadata": {},
   "source": [
    "Now we plot the hidden and observation sequences"
   ]
  },
  {
   "cell_type": "code",
   "execution_count": 49,
   "metadata": {},
   "outputs": [
    {
     "data": {
      "image/png": "[encoded data removed]",
      "text/plain": [
       "<Figure size 1440x720 with 2 Axes>"
      ]
     },
     "metadata": {
      "needs_background": "light"
     },
     "output_type": "display_data"
    }
   ],
   "source": [
    "fig, ax = plt.subplots(figsize=(20, 10),nrows=2,sharex=True )\n",
    "\n",
    "ax[0].set_xlim((0,1000));\n",
    "ax[0].set_title('Observations');\n",
    "for i in range(2):\n",
    "    ax[0].broken_barh(observation_tuples[i],(i+0.5,1),facecolor='k');\n",
    "ax[1].set_title('Hidden States Green:Fair, Red: Biased')\n",
    "ax[1].broken_barh(tuples_start_break_fair,(0,1),facecolor='g')\n",
    "ax[1].broken_barh(tuples_start_break_biased,(0,1),facecolor='r')\n",
    "\n",
    "ax[1].axis(\"off\")\n",
    "ax[0].set_yticks([1, 2])\n",
    "ax[0].set_yticklabels(['H','T']);"
   ]
  },
  {
   "cell_type": "markdown",
   "metadata": {},
   "source": [
    "## References"
   ]
  },
  {
   "cell_type": "markdown",
   "metadata": {},
   "source": [
    "1. http://en.wikipedia.org/wiki/Hidden_Markov_model\n",
    "2. http://www.stanford.edu/class/stats366/hmmR2.html\n",
    "3. http://en.wikipedia.org/wiki/Fitness_proportionate_selection\n",
    "4. http://eli.thegreenplace.net/2010/01/22/weighted-random-generation-in-python/\n",
    "5. http://stackoverflow.com/questions/2154249/identify-groups-of-continuous-numbers-in-a-list\n"
   ]
  }
 ],
 "metadata": {
  "kernelspec": {
   "display_name": "Python 3",
   "language": "python",
   "name": "python3"
  },
  "language_info": {
   "codemirror_mode": {
    "name": "ipython",
    "version": 3
   },
   "file_extension": ".py",
   "mimetype": "text/x-python",
   "name": "python",
   "nbconvert_exporter": "python",
   "pygments_lexer": "ipython3",
   "version": "3.7.4"
  }
 },
 "nbformat": 4,
 "nbformat_minor": 1
}
