{
 "cells": [
  {
   "cell_type": "markdown",
   "id": "301bb8b4",
   "metadata": {},
   "source": [
    "# A programming introduction to GANs\n",
    "\n",
    "- toc: true \n",
    "- badges: true\n",
    "- comments: true\n",
    "- author: Nipun Batra\n",
    "- categories: [ML]"
   ]
  },
  {
   "cell_type": "markdown",
   "id": "cd255271",
   "metadata": {},
   "source": [
    "## Introduction\n",
    "\n",
    "\n",
    "This is a post about Generative Adversarial Networks (GANs). This post is very heavily influenced and borrows code from:\n",
    "\n",
    "- [Video from Luis Serrano](https://www.youtube.com/watch?v=8L11aMN5KY8)\n",
    "- Heavily borrowed code from this [article]( https://machinelearningmastery.com/how-to-develop-a-generative-adversarial-network-for-an-mnist-handwritten-digits-from-scratch-in-keras/) on machine learning mastery\n",
    "\n",
    "\n",
    "These folks deserve all the credit! I am writing this post mostly for my learning.\n",
    "\n",
    "## Goal\n",
    "\n",
    "The goal of GANs is to generate [realistic data](), i.e. data with similar statistics as the training data. \n",
    "\n",
    "See below a \"generated\" face on https://thispersondoesnotexist.com\n",
    "\n",
    "These are people that do not exist but their faces have been generated using GANs."
   ]
  },
  {
   "cell_type": "code",
   "execution_count": 7,
   "id": "2c4ec9b2",
   "metadata": {},
   "outputs": [
    {
     "data": {
      "text/html": [
       "\n",
       "        <iframe\n",
       "            width=\"400\"\n",
       "            height=\"400\"\n",
       "            src=\"https://thispersondoesnotexist.com\"\n",
       "            frameborder=\"0\"\n",
       "            allowfullscreen\n",
       "        ></iframe>\n",
       "        "
      ],
      "text/plain": [
       "<IPython.lib.display.IFrame at 0x7fdb358374f0>"
      ]
     },
     "execution_count": 7,
     "metadata": {},
     "output_type": "execute_result"
    }
   ],
   "source": [
    "from IPython.display import HTML, IFrame\n",
    "IFrame(\"https://thispersondoesnotexist.com\", 400, 400)"
   ]
  },
  {
   "cell_type": "code",
   "execution_count": null,
   "id": "bdf67f0c",
   "metadata": {},
   "outputs": [],
   "source": []
  },
  {
   "cell_type": "markdown",
   "id": "e4b13279",
   "metadata": {},
   "source": [
    "## Overall Block Diagram\n",
    "\n",
    "Conceptually, GANs are simple.They have two main components:\n",
    "\n",
    "- A discriminator: that tries to accurately tell generated and real data (from training data) apart\n",
    "- A generator: that generated data given some random numbers\n",
    "\n",
    "The goal of GANs is to use the generator to create realistic data such that the discriminator thinks it is real (coming from the training dataset)\n",
    "\n",
    "\n",
    "![](GAN-1.jpg)\n",
    "\n",
    "The two components discriminator and generator are \"fighting\" where:\n",
    "\n",
    "- the goal of the discriminator is to tell apart fake (generated) data from true data (from training set) even when the generator is fairly good\n",
    "- the goal of the generator is to generate realistics data such that the discriminator thinks it is real data"
   ]
  },
  {
   "cell_type": "markdown",
   "id": "7bdcc1d5",
   "metadata": {},
   "source": [
    "![](GAN-2.jpg)"
   ]
  },
  {
   "cell_type": "code",
   "execution_count": 1,
   "id": "3cd4a4d1",
   "metadata": {},
   "outputs": [],
   "source": [
    "import numpy as np\n",
    "import matplotlib.pyplot as plt\n",
    "import mediapy as media\n",
    "\n",
    "%matplotlib inline\n",
    "np.random.seed(40)"
   ]
  },
  {
   "cell_type": "code",
   "execution_count": 29,
   "id": "7322b2ce",
   "metadata": {},
   "outputs": [
    {
     "data": {
      "text/plain": [
       "(5000, 4)"
      ]
     },
     "execution_count": 29,
     "metadata": {},
     "output_type": "execute_result"
    }
   ],
   "source": [
    "SIZE = 5000\n",
    "faces = np.vstack((np.random.uniform(0.8, 1, SIZE), \n",
    "                   np.random.uniform(0., 0.1, SIZE),\n",
    "                  np.random.uniform(0., 0.1, SIZE),\n",
    "                  np.random.uniform(0.8, 1, SIZE))).T\n",
    "faces.shape"
   ]
  },
  {
   "cell_type": "code",
   "execution_count": 30,
   "id": "f8aa53a1",
   "metadata": {},
   "outputs": [],
   "source": [
    "def plot_face(f):\n",
    "    f_reshape = f.reshape(2, 2)\n",
    "    plt.imshow(f_reshape, cmap=\"Greys\")"
   ]
  },
  {
   "cell_type": "code",
   "execution_count": 31,
   "id": "417d37e4",
   "metadata": {},
   "outputs": [
    {
     "data": {
      "text/html": [
       "<table class=\"show_images\" style=\"border-spacing:0;\"><tr><td><div style=\"display:flex; align-items:left;\">\n",
       "      <div style=\"display:flex; flex-direction:column; align-items:center;\">\n",
       "      <div>Image=0</div><div><img width=\"80\" height=\"80\" style=\"image-rendering:pixelated; object-fit:cover;\" src=\"data:image/png;base64,iVBORw0KGgoAAAANSUhEUgAAAAIAAAACCAIAAAD91JpzAAAAFklEQVR4nGNgYGD4+vUrw////wUFBQEpPAYQZjcFfwAAAABJRU5ErkJggg==\"/></div></div></div></td><td><div style=\"display:flex; align-items:left;\">\n",
       "      <div style=\"display:flex; flex-direction:column; align-items:center;\">\n",
       "      <div>Image=700</div><div><img width=\"80\" height=\"80\" style=\"image-rendering:pixelated; object-fit:cover;\" src=\"data:image/png;base64,iVBORw0KGgoAAAANSUhEUgAAAAIAAAACCAIAAAD91JpzAAAAFklEQVR4nGMwMzP79esXw////xkYGAAw9QaOGR8kGwAAAABJRU5ErkJggg==\"/></div></div></div></td><td><div style=\"display:flex; align-items:left;\">\n",
       "      <div style=\"display:flex; flex-direction:column; align-items:center;\">\n",
       "      <div>Image=1400</div><div><img width=\"80\" height=\"80\" style=\"image-rendering:pixelated; object-fit:cover;\" src=\"data:image/png;base64,iVBORw0KGgoAAAANSUhEUgAAAAIAAAACCAIAAAD91JpzAAAAFklEQVR4nGNgYGD4/fs3w////w0MDAAqmAZ/VctAQQAAAABJRU5ErkJggg==\"/></div></div></div></td><td><div style=\"display:flex; align-items:left;\">\n",
       "      <div style=\"display:flex; flex-direction:column; align-items:center;\">\n",
       "      <div>Image=2100</div><div><img width=\"80\" height=\"80\" style=\"image-rendering:pixelated; object-fit:cover;\" src=\"data:image/png;base64,iVBORw0KGgoAAAANSUhEUgAAAAIAAAACCAIAAAD91JpzAAAAFklEQVR4nGOwtbX9/fs3w////xkYGAAyDAamUtwgewAAAABJRU5ErkJggg==\"/></div></div></div></td><td><div style=\"display:flex; align-items:left;\">\n",
       "      <div style=\"display:flex; flex-direction:column; align-items:center;\">\n",
       "      <div>Image=2800</div><div><img width=\"80\" height=\"80\" style=\"image-rendering:pixelated; object-fit:cover;\" src=\"data:image/png;base64,iVBORw0KGgoAAAANSUhEUgAAAAIAAAACCAIAAAD91JpzAAAAFklEQVR4nGMwMDD48+cPw////xkYGAAwUwaCu4NLngAAAABJRU5ErkJggg==\"/></div></div></div></td><td><div style=\"display:flex; align-items:left;\">\n",
       "      <div style=\"display:flex; flex-direction:column; align-items:center;\">\n",
       "      <div>Image=3500</div><div><img width=\"80\" height=\"80\" style=\"image-rendering:pixelated; object-fit:cover;\" src=\"data:image/png;base64,iVBORw0KGgoAAAANSUhEUgAAAAIAAAACCAIAAAD91JpzAAAAFklEQVR4nGNgYGD4+fMnw////3V0dAAqSgZtYh6WHQAAAABJRU5ErkJggg==\"/></div></div></div></td><td><div style=\"display:flex; align-items:left;\">\n",
       "      <div style=\"display:flex; flex-direction:column; align-items:center;\">\n",
       "      <div>Image=4200</div><div><img width=\"80\" height=\"80\" style=\"image-rendering:pixelated; object-fit:cover;\" src=\"data:image/png;base64,iVBORw0KGgoAAAANSUhEUgAAAAIAAAACCAIAAAD91JpzAAAAFUlEQVR4nAXBAQEAAACAEP9PF1CpMCnkBftM2nerAAAAAElFTkSuQmCC\"/></div></div></div></td><td><div style=\"display:flex; align-items:left;\">\n",
       "      <div style=\"display:flex; flex-direction:column; align-items:center;\">\n",
       "      <div>Image=4900</div><div><img width=\"80\" height=\"80\" style=\"image-rendering:pixelated; object-fit:cover;\" src=\"data:image/png;base64,iVBORw0KGgoAAAANSUhEUgAAAAIAAAACCAIAAAD91JpzAAAAFklEQVR4nGOQlZX99esXw////xkYGAAtcQZDmcvNhgAAAABJRU5ErkJggg==\"/></div></div></div></td></tr></table>"
      ],
      "text/plain": [
       "<IPython.core.display.HTML object>"
      ]
     },
     "metadata": {},
     "output_type": "display_data"
    }
   ],
   "source": [
    "def plot_faces(faces, subset=1):\n",
    "    images = {\n",
    "        f'Image={im}': faces[im].reshape(2, 2)\n",
    "        for im in range(len(faces))[::subset]\n",
    "    }\n",
    "    media.show_images(images, border=False, columns=8, height=80, cmap='Greys')\n",
    "\n",
    "plot_faces(faces, subset=700)"
   ]
  },
  {
   "cell_type": "code",
   "execution_count": 32,
   "id": "5fe86f90",
   "metadata": {},
   "outputs": [],
   "source": [
    "\n",
    "# Examples of noisy images\n",
    "noise = np.random.randn(40, 4)\n",
    "noise = np.abs(noise)\n",
    "noise = noise/noise.max()"
   ]
  },
  {
   "cell_type": "code",
   "execution_count": 33,
   "id": "2ddc607b",
   "metadata": {},
   "outputs": [
    {
     "data": {
      "text/html": [
       "<table class=\"show_images\" style=\"border-spacing:0;\"><tr><td><div style=\"display:flex; align-items:left;\">\n",
       "      <div style=\"display:flex; flex-direction:column; align-items:center;\">\n",
       "      <div>Image=0</div><div><img width=\"80\" height=\"80\" style=\"image-rendering:pixelated; object-fit:cover;\" src=\"data:image/png;base64,iVBORw0KGgoAAAANSUhEUgAAAAIAAAACCAIAAAD91JpzAAAAF0lEQVR4nGO4ePHi////GRgYGD5//gwAPgkISodLLIoAAAAASUVORK5CYII=\"/></div></div></div></td><td><div style=\"display:flex; align-items:left;\">\n",
       "      <div style=\"display:flex; flex-direction:column; align-items:center;\">\n",
       "      <div>Image=1</div><div><img width=\"80\" height=\"80\" style=\"image-rendering:pixelated; object-fit:cover;\" src=\"data:image/png;base64,iVBORw0KGgoAAAANSUhEUgAAAAIAAAACCAIAAAD91JpzAAAAFklEQVR4nGPIzMxkYGBguH379v///wEhoQbK5RxRhAAAAABJRU5ErkJggg==\"/></div></div></div></td><td><div style=\"display:flex; align-items:left;\">\n",
       "      <div style=\"display:flex; flex-direction:column; align-items:center;\">\n",
       "      <div>Image=2</div><div><img width=\"80\" height=\"80\" style=\"image-rendering:pixelated; object-fit:cover;\" src=\"data:image/png;base64,iVBORw0KGgoAAAANSUhEUgAAAAIAAAACCAIAAAD91JpzAAAAFklEQVR4nGOIiopiYGBgOHr06P///wEeOwZbtjcEXwAAAABJRU5ErkJggg==\"/></div></div></div></td><td><div style=\"display:flex; align-items:left;\">\n",
       "      <div style=\"display:flex; flex-direction:column; align-items:center;\">\n",
       "      <div>Image=3</div><div><img width=\"80\" height=\"80\" style=\"image-rendering:pixelated; object-fit:cover;\" src=\"data:image/png;base64,iVBORw0KGgoAAAANSUhEUgAAAAIAAAACCAIAAAD91JpzAAAAF0lEQVR4nGOYOXMmAwMDw61bt/7//w8AKFIHVwBP5fYAAAAASUVORK5CYII=\"/></div></div></div></td><td><div style=\"display:flex; align-items:left;\">\n",
       "      <div style=\"display:flex; flex-direction:column; align-items:center;\">\n",
       "      <div>Image=4</div><div><img width=\"80\" height=\"80\" style=\"image-rendering:pixelated; object-fit:cover;\" src=\"data:image/png;base64,iVBORw0KGgoAAAANSUhEUgAAAAIAAAACCAIAAAD91JpzAAAAFklEQVR4nGNgYGC4du0aQ1NT0////wEkOAcGgj7D1gAAAABJRU5ErkJggg==\"/></div></div></div></td><td><div style=\"display:flex; align-items:left;\">\n",
       "      <div style=\"display:flex; flex-direction:column; align-items:center;\">\n",
       "      <div>Image=5</div><div><img width=\"80\" height=\"80\" style=\"image-rendering:pixelated; object-fit:cover;\" src=\"data:image/png;base64,iVBORw0KGgoAAAANSUhEUgAAAAIAAAACCAIAAAD91JpzAAAAFklEQVR4nGO4fv36////mYSFhRkZGQE6YAXBoU0kxwAAAABJRU5ErkJggg==\"/></div></div></div></td><td><div style=\"display:flex; align-items:left;\">\n",
       "      <div style=\"display:flex; flex-direction:column; align-items:center;\">\n",
       "      <div>Image=6</div><div><img width=\"80\" height=\"80\" style=\"image-rendering:pixelated; object-fit:cover;\" src=\"data:image/png;base64,iVBORw0KGgoAAAANSUhEUgAAAAIAAAACCAIAAAD91JpzAAAAF0lEQVR4nGPYv38/AwMDw6dPn/7//w8ALxIIEQWcoxYAAAAASUVORK5CYII=\"/></div></div></div></td><td><div style=\"display:flex; align-items:left;\">\n",
       "      <div style=\"display:flex; flex-direction:column; align-items:center;\">\n",
       "      <div>Image=7</div><div><img width=\"80\" height=\"80\" style=\"image-rendering:pixelated; object-fit:cover;\" src=\"data:image/png;base64,iVBORw0KGgoAAAANSUhEUgAAAAIAAAACCAIAAAD91JpzAAAAFklEQVR4nGP4//+/uLg4EyMjY0hICAAobAREGabb4AAAAABJRU5ErkJggg==\"/></div></div></div></td></tr></table><table class=\"show_images\" style=\"border-spacing:0;\"><tr><td><div style=\"display:flex; align-items:left;\">\n",
       "      <div style=\"display:flex; flex-direction:column; align-items:center;\">\n",
       "      <div>Image=8</div><div><img width=\"80\" height=\"80\" style=\"image-rendering:pixelated; object-fit:cover;\" src=\"data:image/png;base64,iVBORw0KGgoAAAANSUhEUgAAAAIAAAACCAIAAAD91JpzAAAAEklEQVR4nGM4cuTI////GSAAADaDBUrITMVBAAAAAElFTkSuQmCC\"/></div></div></div></td><td><div style=\"display:flex; align-items:left;\">\n",
       "      <div style=\"display:flex; flex-direction:column; align-items:center;\">\n",
       "      <div>Image=9</div><div><img width=\"80\" height=\"80\" style=\"image-rendering:pixelated; object-fit:cover;\" src=\"data:image/png;base64,iVBORw0KGgoAAAANSUhEUgAAAAIAAAACCAIAAAD91JpzAAAAF0lEQVR4nGP4//8/AwMD4+fPnx8/fgwAN4AIgWzU8fMAAAAASUVORK5CYII=\"/></div></div></div></td><td><div style=\"display:flex; align-items:left;\">\n",
       "      <div style=\"display:flex; flex-direction:column; align-items:center;\">\n",
       "      <div>Image=10</div><div><img width=\"80\" height=\"80\" style=\"image-rendering:pixelated; object-fit:cover;\" src=\"data:image/png;base64,iVBORw0KGgoAAAANSUhEUgAAAAIAAAACCAIAAAD91JpzAAAAF0lEQVR4nGNgYGD48eMH0////+/cuQMALl0IfOzcz+kAAAAASUVORK5CYII=\"/></div></div></div></td><td><div style=\"display:flex; align-items:left;\">\n",
       "      <div style=\"display:flex; flex-direction:column; align-items:center;\">\n",
       "      <div>Image=11</div><div><img width=\"80\" height=\"80\" style=\"image-rendering:pixelated; object-fit:cover;\" src=\"data:image/png;base64,iVBORw0KGgoAAAANSUhEUgAAAAIAAAACCAIAAAD91JpzAAAAFklEQVR4nGP8//9/c3MzQ1BQEAMDAwA2lwV+s2mIiQAAAABJRU5ErkJggg==\"/></div></div></div></td><td><div style=\"display:flex; align-items:left;\">\n",
       "      <div style=\"display:flex; flex-direction:column; align-items:center;\">\n",
       "      <div>Image=12</div><div><img width=\"80\" height=\"80\" style=\"image-rendering:pixelated; object-fit:cover;\" src=\"data:image/png;base64,iVBORw0KGgoAAAANSUhEUgAAAAIAAAACCAIAAAD91JpzAAAAFklEQVR4nGPIysr6//8/AyMjIwMDAwAp6gQ/OpwZOwAAAABJRU5ErkJggg==\"/></div></div></div></td><td><div style=\"display:flex; align-items:left;\">\n",
       "      <div style=\"display:flex; flex-direction:column; align-items:center;\">\n",
       "      <div>Image=13</div><div><img width=\"80\" height=\"80\" style=\"image-rendering:pixelated; object-fit:cover;\" src=\"data:image/png;base64,iVBORw0KGgoAAAANSUhEUgAAAAIAAAACCAIAAAD91JpzAAAAF0lEQVR4nGPYsmXL////Gf7+/cvAwAAAQxYIEVFqaSAAAAAASUVORK5CYII=\"/></div></div></div></td><td><div style=\"display:flex; align-items:left;\">\n",
       "      <div style=\"display:flex; flex-direction:column; align-items:center;\">\n",
       "      <div>Image=14</div><div><img width=\"80\" height=\"80\" style=\"image-rendering:pixelated; object-fit:cover;\" src=\"data:image/png;base64,iVBORw0KGgoAAAANSUhEUgAAAAIAAAACCAIAAAD91JpzAAAAFklEQVR4nGOwsLBgYGBg/P///79//wAc2gahwbHikgAAAABJRU5ErkJggg==\"/></div></div></div></td><td><div style=\"display:flex; align-items:left;\">\n",
       "      <div style=\"display:flex; flex-direction:column; align-items:center;\">\n",
       "      <div>Image=15</div><div><img width=\"80\" height=\"80\" style=\"image-rendering:pixelated; object-fit:cover;\" src=\"data:image/png;base64,iVBORw0KGgoAAAANSUhEUgAAAAIAAAACCAIAAAD91JpzAAAAFklEQVR4nGNgYGCoqKhgMDY2/v//PwAVrQT/Sml6lAAAAABJRU5ErkJggg==\"/></div></div></div></td></tr></table><table class=\"show_images\" style=\"border-spacing:0;\"><tr><td><div style=\"display:flex; align-items:left;\">\n",
       "      <div style=\"display:flex; flex-direction:column; align-items:center;\">\n",
       "      <div>Image=16</div><div><img width=\"80\" height=\"80\" style=\"image-rendering:pixelated; object-fit:cover;\" src=\"data:image/png;base64,iVBORw0KGgoAAAANSUhEUgAAAAIAAAACCAIAAAD91JpzAAAAF0lEQVR4nGO4c+cOAwMDw9evX////w8AM1MIcX4bVXwAAAAASUVORK5CYII=\"/></div></div></div></td><td><div style=\"display:flex; align-items:left;\">\n",
       "      <div style=\"display:flex; flex-direction:column; align-items:center;\">\n",
       "      <div>Image=17</div><div><img width=\"80\" height=\"80\" style=\"image-rendering:pixelated; object-fit:cover;\" src=\"data:image/png;base64,iVBORw0KGgoAAAANSUhEUgAAAAIAAAACCAIAAAD91JpzAAAAFklEQVR4nGPIzMzU1tZm+P//PwMDAwAiTAS6H1YzKAAAAABJRU5ErkJggg==\"/></div></div></div></td><td><div style=\"display:flex; align-items:left;\">\n",
       "      <div style=\"display:flex; flex-direction:column; align-items:center;\">\n",
       "      <div>Image=18</div><div><img width=\"80\" height=\"80\" style=\"image-rendering:pixelated; object-fit:cover;\" src=\"data:image/png;base64,iVBORw0KGgoAAAANSUhEUgAAAAIAAAACCAIAAAD91JpzAAAAFklEQVR4nGP8////rl27GDIyMhgYGAA9rgZlY7yjaQAAAABJRU5ErkJggg==\"/></div></div></div></td><td><div style=\"display:flex; align-items:left;\">\n",
       "      <div style=\"display:flex; flex-direction:column; align-items:center;\">\n",
       "      <div>Image=19</div><div><img width=\"80\" height=\"80\" style=\"image-rendering:pixelated; object-fit:cover;\" src=\"data:image/png;base64,iVBORw0KGgoAAAANSUhEUgAAAAIAAAACCAIAAAD91JpzAAAAF0lEQVR4nGPYtWvX////GRgYGNauXQsAOSkHMzyoR/kAAAAASUVORK5CYII=\"/></div></div></div></td><td><div style=\"display:flex; align-items:left;\">\n",
       "      <div style=\"display:flex; flex-direction:column; align-items:center;\">\n",
       "      <div>Image=20</div><div><img width=\"80\" height=\"80\" style=\"image-rendering:pixelated; object-fit:cover;\" src=\"data:image/png;base64,iVBORw0KGgoAAAANSUhEUgAAAAIAAAACCAIAAAD91JpzAAAAFklEQVR4nGMQFhb+//8/AwMDw/nz5wEieQWkf20ePgAAAABJRU5ErkJggg==\"/></div></div></div></td><td><div style=\"display:flex; align-items:left;\">\n",
       "      <div style=\"display:flex; flex-direction:column; align-items:center;\">\n",
       "      <div>Image=21</div><div><img width=\"80\" height=\"80\" style=\"image-rendering:pixelated; object-fit:cover;\" src=\"data:image/png;base64,iVBORw0KGgoAAAANSUhEUgAAAAIAAAACCAIAAAD91JpzAAAAFklEQVR4nGNgYGBITk5m/P///927dwEepQa/AgBZ+gAAAABJRU5ErkJggg==\"/></div></div></div></td><td><div style=\"display:flex; align-items:left;\">\n",
       "      <div style=\"display:flex; flex-direction:column; align-items:center;\">\n",
       "      <div>Image=22</div><div><img width=\"80\" height=\"80\" style=\"image-rendering:pixelated; object-fit:cover;\" src=\"data:image/png;base64,iVBORw0KGgoAAAANSUhEUgAAAAIAAAACCAIAAAD91JpzAAAAFklEQVR4nGMQFxf///8/w8+fPxkYGAAsxgYuuv1uUAAAAABJRU5ErkJggg==\"/></div></div></div></td><td><div style=\"display:flex; align-items:left;\">\n",
       "      <div style=\"display:flex; flex-direction:column; align-items:center;\">\n",
       "      <div>Image=23</div><div><img width=\"80\" height=\"80\" style=\"image-rendering:pixelated; object-fit:cover;\" src=\"data:image/png;base64,iVBORw0KGgoAAAANSUhEUgAAAAIAAAACCAIAAAD91JpzAAAAFklEQVR4nGP8////5cuXGRgYGNTV1QE7IwXt518T8wAAAABJRU5ErkJggg==\"/></div></div></div></td></tr></table><table class=\"show_images\" style=\"border-spacing:0;\"><tr><td><div style=\"display:flex; align-items:left;\">\n",
       "      <div style=\"display:flex; flex-direction:column; align-items:center;\">\n",
       "      <div>Image=24</div><div><img width=\"80\" height=\"80\" style=\"image-rendering:pixelated; object-fit:cover;\" src=\"data:image/png;base64,iVBORw0KGgoAAAANSUhEUgAAAAIAAAACCAIAAAD91JpzAAAAF0lEQVR4nGP48OHD////mQ4dOsTIyAgASCUIGd29+gIAAAAASUVORK5CYII=\"/></div></div></div></td><td><div style=\"display:flex; align-items:left;\">\n",
       "      <div style=\"display:flex; flex-direction:column; align-items:center;\">\n",
       "      <div>Image=25</div><div><img width=\"80\" height=\"80\" style=\"image-rendering:pixelated; object-fit:cover;\" src=\"data:image/png;base64,iVBORw0KGgoAAAANSUhEUgAAAAIAAAACCAIAAAD91JpzAAAAFklEQVR4nGP8////48ePGRgYGPLy8gA+fQby5Ef+2AAAAABJRU5ErkJggg==\"/></div></div></div></td><td><div style=\"display:flex; align-items:left;\">\n",
       "      <div style=\"display:flex; flex-direction:column; align-items:center;\">\n",
       "      <div>Image=26</div><div><img width=\"80\" height=\"80\" style=\"image-rendering:pixelated; object-fit:cover;\" src=\"data:image/png;base64,iVBORw0KGgoAAAANSUhEUgAAAAIAAAACCAIAAAD91JpzAAAAF0lEQVR4nGOYOHEiAwMD4////////w8AKWQHrzLBuDAAAAAASUVORK5CYII=\"/></div></div></div></td><td><div style=\"display:flex; align-items:left;\">\n",
       "      <div style=\"display:flex; flex-direction:column; align-items:center;\">\n",
       "      <div>Image=27</div><div><img width=\"80\" height=\"80\" style=\"image-rendering:pixelated; object-fit:cover;\" src=\"data:image/png;base64,iVBORw0KGgoAAAANSUhEUgAAAAIAAAACCAIAAAD91JpzAAAAF0lEQVR4nGP4//8/AwMD49+/f9etWwcANtgIAG5lsXQAAAAASUVORK5CYII=\"/></div></div></div></td><td><div style=\"display:flex; align-items:left;\">\n",
       "      <div style=\"display:flex; flex-direction:column; align-items:center;\">\n",
       "      <div>Image=28</div><div><img width=\"80\" height=\"80\" style=\"image-rendering:pixelated; object-fit:cover;\" src=\"data:image/png;base64,iVBORw0KGgoAAAANSUhEUgAAAAIAAAACCAIAAAD91JpzAAAAF0lEQVR4nGOYMmXK169fGRgYGP7//w8ANK8HmavOrYMAAAAASUVORK5CYII=\"/></div></div></div></td><td><div style=\"display:flex; align-items:left;\">\n",
       "      <div style=\"display:flex; flex-direction:column; align-items:center;\">\n",
       "      <div>Image=29</div><div><img width=\"80\" height=\"80\" style=\"image-rendering:pixelated; object-fit:cover;\" src=\"data:image/png;base64,iVBORw0KGgoAAAANSUhEUgAAAAIAAAACCAIAAAD91JpzAAAAFklEQVR4nGP4//+/tLQ0AwMDw/fv3wEsjQY0N5GrdwAAAABJRU5ErkJggg==\"/></div></div></div></td><td><div style=\"display:flex; align-items:left;\">\n",
       "      <div style=\"display:flex; flex-direction:column; align-items:center;\">\n",
       "      <div>Image=30</div><div><img width=\"80\" height=\"80\" style=\"image-rendering:pixelated; object-fit:cover;\" src=\"data:image/png;base64,iVBORw0KGgoAAAANSUhEUgAAAAIAAAACCAIAAAD91JpzAAAAF0lEQVR4nGP8////////mRgZGX/+/AkARNAI7JbQ19EAAAAASUVORK5CYII=\"/></div></div></div></td><td><div style=\"display:flex; align-items:left;\">\n",
       "      <div style=\"display:flex; flex-direction:column; align-items:center;\">\n",
       "      <div>Image=31</div><div><img width=\"80\" height=\"80\" style=\"image-rendering:pixelated; object-fit:cover;\" src=\"data:image/png;base64,iVBORw0KGgoAAAANSUhEUgAAAAIAAAACCAIAAAD91JpzAAAAFklEQVR4nGOoqKj4//8/04MHDxgZGQE5BwcLmizKbQAAAABJRU5ErkJggg==\"/></div></div></div></td></tr></table><table class=\"show_images\" style=\"border-spacing:0;\"><tr><td><div style=\"display:flex; align-items:left;\">\n",
       "      <div style=\"display:flex; flex-direction:column; align-items:center;\">\n",
       "      <div>Image=32</div><div><img width=\"80\" height=\"80\" style=\"image-rendering:pixelated; object-fit:cover;\" src=\"data:image/png;base64,iVBORw0KGgoAAAANSUhEUgAAAAIAAAACCAIAAAD91JpzAAAAFklEQVR4nGNgYGA4ffo0Q11d3f///wEi0wbZQQYHiwAAAABJRU5ErkJggg==\"/></div></div></div></td><td><div style=\"display:flex; align-items:left;\">\n",
       "      <div style=\"display:flex; flex-direction:column; align-items:center;\">\n",
       "      <div>Image=33</div><div><img width=\"80\" height=\"80\" style=\"image-rendering:pixelated; object-fit:cover;\" src=\"data:image/png;base64,iVBORw0KGgoAAAANSUhEUgAAAAIAAAACCAIAAAD91JpzAAAAF0lEQVR4nGNgYGC4e/cu0////x88eAAAK5wINwudFEYAAAAASUVORK5CYII=\"/></div></div></div></td><td><div style=\"display:flex; align-items:left;\">\n",
       "      <div style=\"display:flex; flex-direction:column; align-items:center;\">\n",
       "      <div>Image=34</div><div><img width=\"80\" height=\"80\" style=\"image-rendering:pixelated; object-fit:cover;\" src=\"data:image/png;base64,iVBORw0KGgoAAAANSUhEUgAAAAIAAAACCAIAAAD91JpzAAAAF0lEQVR4nGNgYGC4fPkyw/fv3////w8AKsIIXHL2NaEAAAAASUVORK5CYII=\"/></div></div></div></td><td><div style=\"display:flex; align-items:left;\">\n",
       "      <div style=\"display:flex; flex-direction:column; align-items:center;\">\n",
       "      <div>Image=35</div><div><img width=\"80\" height=\"80\" style=\"image-rendering:pixelated; object-fit:cover;\" src=\"data:image/png;base64,iVBORw0KGgoAAAANSUhEUgAAAAIAAAACCAIAAAD91JpzAAAAFklEQVR4nGM4c+bM////GaKiohgYGAA86QZwTX8RngAAAABJRU5ErkJggg==\"/></div></div></div></td><td><div style=\"display:flex; align-items:left;\">\n",
       "      <div style=\"display:flex; flex-direction:column; align-items:center;\">\n",
       "      <div>Image=36</div><div><img width=\"80\" height=\"80\" style=\"image-rendering:pixelated; object-fit:cover;\" src=\"data:image/png;base64,iVBORw0KGgoAAAANSUhEUgAAAAIAAAACCAIAAAD91JpzAAAAFklEQVR4nGP8//9/X18fw40bNxgYGAA/mgcxGFYoIgAAAABJRU5ErkJggg==\"/></div></div></div></td><td><div style=\"display:flex; align-items:left;\">\n",
       "      <div style=\"display:flex; flex-direction:column; align-items:center;\">\n",
       "      <div>Image=37</div><div><img width=\"80\" height=\"80\" style=\"image-rendering:pixelated; object-fit:cover;\" src=\"data:image/png;base64,iVBORw0KGgoAAAANSUhEUgAAAAIAAAACCAIAAAD91JpzAAAAF0lEQVR4nGNgYGD4//8/469fvx4+fAgALuYIkNWuVSgAAAAASUVORK5CYII=\"/></div></div></div></td><td><div style=\"display:flex; align-items:left;\">\n",
       "      <div style=\"display:flex; flex-direction:column; align-items:center;\">\n",
       "      <div>Image=38</div><div><img width=\"80\" height=\"80\" style=\"image-rendering:pixelated; object-fit:cover;\" src=\"data:image/png;base64,iVBORw0KGgoAAAANSUhEUgAAAAIAAAACCAIAAAD91JpzAAAAF0lEQVR4nGNgYGD4//8/4/Pnz79+/QoALkEIkwMLVqsAAAAASUVORK5CYII=\"/></div></div></div></td><td><div style=\"display:flex; align-items:left;\">\n",
       "      <div style=\"display:flex; flex-direction:column; align-items:center;\">\n",
       "      <div>Image=39</div><div><img width=\"80\" height=\"80\" style=\"image-rendering:pixelated; object-fit:cover;\" src=\"data:image/png;base64,iVBORw0KGgoAAAANSUhEUgAAAAIAAAACCAIAAAD91JpzAAAAFklEQVR4nGP4//+/uLg4w9SpUxkYGAAvEgUCxmd1igAAAABJRU5ErkJggg==\"/></div></div></div></td></tr></table>"
      ],
      "text/plain": [
       "<IPython.core.display.HTML object>"
      ]
     },
     "metadata": {},
     "output_type": "display_data"
    }
   ],
   "source": [
    "plot_faces(noise)"
   ]
  },
  {
   "cell_type": "code",
   "execution_count": 34,
   "id": "779d220d",
   "metadata": {},
   "outputs": [],
   "source": [
    "from tensorflow.keras.layers import Dense\n",
    "from tensorflow.keras.models import Sequential\n",
    "from tensorflow.keras.optimizers import Adam\n",
    "from tensorflow.keras.losses import CategoricalCrossentropy\n",
    "\n",
    "discriminator = Sequential([\n",
    "  Dense(1,activation='sigmoid', input_shape=(4, )),\n",
    "])\n",
    "\n",
    "discriminator._name = \"Discriminator\"\n",
    "\n",
    "discriminator.compile(\n",
    "    optimizer=Adam(0.001),\n",
    "    loss='binary_crossentropy'\n",
    ")\n"
   ]
  },
  {
   "cell_type": "code",
   "execution_count": 35,
   "id": "f9a3553d",
   "metadata": {},
   "outputs": [
    {
     "name": "stdout",
     "output_type": "stream",
     "text": [
      "Model: \"Discriminator\"\n",
      "_________________________________________________________________\n",
      "Layer (type)                 Output Shape              Param #   \n",
      "=================================================================\n",
      "dense_2 (Dense)              (None, 1)                 5         \n",
      "=================================================================\n",
      "Total params: 5\n",
      "Trainable params: 5\n",
      "Non-trainable params: 0\n",
      "_________________________________________________________________\n"
     ]
    }
   ],
   "source": [
    "discriminator.summary()"
   ]
  },
  {
   "cell_type": "code",
   "execution_count": 49,
   "id": "f2240e56",
   "metadata": {},
   "outputs": [],
   "source": [
    "from keras.layers import ReLU\n",
    "generator = Sequential([\n",
    "  Dense(4, input_shape=(1, )),\n",
    "   ReLU(max_value=1.0) \n",
    "\n",
    "])\n",
    "\n",
    "generator._name = \"Generator\"\n",
    "\n",
    "generator.compile(\n",
    "    optimizer=Adam(0.001),\n",
    "    loss='binary_crossentropy'\n",
    ")\n",
    "\n"
   ]
  },
  {
   "cell_type": "code",
   "execution_count": 50,
   "id": "7e35a8df",
   "metadata": {},
   "outputs": [
    {
     "name": "stdout",
     "output_type": "stream",
     "text": [
      "Model: \"Generator\"\n",
      "_________________________________________________________________\n",
      "Layer (type)                 Output Shape              Param #   \n",
      "=================================================================\n",
      "dense_4 (Dense)              (None, 4)                 8         \n",
      "_________________________________________________________________\n",
      "module_wrapper_2 (ModuleWrap (None, 4)                 0         \n",
      "=================================================================\n",
      "Total params: 8\n",
      "Trainable params: 8\n",
      "Non-trainable params: 0\n",
      "_________________________________________________________________\n"
     ]
    }
   ],
   "source": [
    "generator.summary()"
   ]
  },
  {
   "cell_type": "code",
   "execution_count": 51,
   "id": "a2222502",
   "metadata": {},
   "outputs": [],
   "source": [
    "import tensorflow as tf"
   ]
  },
  {
   "cell_type": "code",
   "execution_count": 52,
   "id": "3a2ef618",
   "metadata": {},
   "outputs": [
    {
     "data": {
      "text/plain": [
       "0.7149367928504944"
      ]
     },
     "execution_count": 52,
     "metadata": {},
     "output_type": "execute_result"
    }
   ],
   "source": [
    "#X, y = vstack((noise, X_fake)), vstack((y_real, y_fake))\n",
    "\n",
    "discriminator.train_on_batch(noise, np.zeros(noise.shape[0]))\n",
    "discriminator.train_on_batch(faces, np.ones(faces.shape[0]))"
   ]
  },
  {
   "cell_type": "code",
   "execution_count": 53,
   "id": "13686c9f",
   "metadata": {},
   "outputs": [
    {
     "data": {
      "text/plain": [
       "[<tf.Variable 'dense_2/kernel:0' shape=(4, 1) dtype=float32, numpy=\n",
       " array([[ 0.22760226],\n",
       "        [-0.1447369 ],\n",
       "        [-0.1821059 ],\n",
       "        [-0.443985  ]], dtype=float32)>,\n",
       " <tf.Variable 'dense_2/bias:0' shape=(1,) dtype=float32, numpy=array([0.1692846], dtype=float32)>]"
      ]
     },
     "execution_count": 53,
     "metadata": {},
     "output_type": "execute_result"
    }
   ],
   "source": [
    "discriminator.weights"
   ]
  },
  {
   "cell_type": "code",
   "execution_count": 54,
   "id": "35208c7c",
   "metadata": {},
   "outputs": [],
   "source": [
    "def gen_fake(n_samples):\n",
    "    x_input = np.random.randn(n_samples, 1)\n",
    "    # predict outputs\n",
    "    X = generator.predict(x_input)\n",
    "    # create 'fake' class labels (0)\n",
    "    y = np.zeros((n_samples, 1))\n",
    "    return X, y"
   ]
  },
  {
   "cell_type": "code",
   "execution_count": 55,
   "id": "ed2416c3",
   "metadata": {},
   "outputs": [
    {
     "data": {
      "text/html": [
       "<table class=\"show_images\" style=\"border-spacing:0;\"><tr><td><div style=\"display:flex; align-items:left;\">\n",
       "      <div style=\"display:flex; flex-direction:column; align-items:center;\">\n",
       "      <div>Image=0</div><div><img width=\"80\" height=\"80\" style=\"image-rendering:pixelated; object-fit:cover;\" src=\"data:image/png;base64,iVBORw0KGgoAAAANSUhEUgAAAAIAAAACCAIAAAD91JpzAAAAFklEQVR4nGP8//8/AwMDEwMDAwMDAwAkBgMB/DXemwAAAABJRU5ErkJggg==\"/></div></div></div></td><td><div style=\"display:flex; align-items:left;\">\n",
       "      <div style=\"display:flex; flex-direction:column; align-items:center;\">\n",
       "      <div>Image=1</div><div><img width=\"80\" height=\"80\" style=\"image-rendering:pixelated; object-fit:cover;\" src=\"data:image/png;base64,iVBORw0KGgoAAAANSUhEUgAAAAIAAAACCAIAAAD91JpzAAAAFklEQVR4nGP8//8/AwMDEwMDAwMDAwAkBgMB/DXemwAAAABJRU5ErkJggg==\"/></div></div></div></td><td><div style=\"display:flex; align-items:left;\">\n",
       "      <div style=\"display:flex; flex-direction:column; align-items:center;\">\n",
       "      <div>Image=2</div><div><img width=\"80\" height=\"80\" style=\"image-rendering:pixelated; object-fit:cover;\" src=\"data:image/png;base64,iVBORw0KGgoAAAANSUhEUgAAAAIAAAACCAIAAAD91JpzAAAAFklEQVR4nGP8//8/AwMDEwMDAwMDAwAkBgMB/DXemwAAAABJRU5ErkJggg==\"/></div></div></div></td><td><div style=\"display:flex; align-items:left;\">\n",
       "      <div style=\"display:flex; flex-direction:column; align-items:center;\">\n",
       "      <div>Image=3</div><div><img width=\"80\" height=\"80\" style=\"image-rendering:pixelated; object-fit:cover;\" src=\"data:image/png;base64,iVBORw0KGgoAAAANSUhEUgAAAAIAAAACCAIAAAD91JpzAAAAFklEQVR4nGP8//8/AwMDEwMDAwMDAwAkBgMB/DXemwAAAABJRU5ErkJggg==\"/></div></div></div></td><td><div style=\"display:flex; align-items:left;\">\n",
       "      <div style=\"display:flex; flex-direction:column; align-items:center;\">\n",
       "      <div>Image=4</div><div><img width=\"80\" height=\"80\" style=\"image-rendering:pixelated; object-fit:cover;\" src=\"data:image/png;base64,iVBORw0KGgoAAAANSUhEUgAAAAIAAAACCAIAAAD91JpzAAAAFklEQVR4nGOYOnUqAwMDg729/f///wEerQV6uiY5bQAAAABJRU5ErkJggg==\"/></div></div></div></td><td><div style=\"display:flex; align-items:left;\">\n",
       "      <div style=\"display:flex; flex-direction:column; align-items:center;\">\n",
       "      <div>Image=5</div><div><img width=\"80\" height=\"80\" style=\"image-rendering:pixelated; object-fit:cover;\" src=\"data:image/png;base64,iVBORw0KGgoAAAANSUhEUgAAAAIAAAACCAIAAAD91JpzAAAAFklEQVR4nGOYOnUqAwMDg729/f///wEerQV6uiY5bQAAAABJRU5ErkJggg==\"/></div></div></div></td><td><div style=\"display:flex; align-items:left;\">\n",
       "      <div style=\"display:flex; flex-direction:column; align-items:center;\">\n",
       "      <div>Image=6</div><div><img width=\"80\" height=\"80\" style=\"image-rendering:pixelated; object-fit:cover;\" src=\"data:image/png;base64,iVBORw0KGgoAAAANSUhEUgAAAAIAAAACCAIAAAD91JpzAAAAFklEQVR4nGNoa2tjYGBgUFRU/P//PwAazwTzWCONuwAAAABJRU5ErkJggg==\"/></div></div></div></td><td><div style=\"display:flex; align-items:left;\">\n",
       "      <div style=\"display:flex; flex-direction:column; align-items:center;\">\n",
       "      <div>Image=7</div><div><img width=\"80\" height=\"80\" style=\"image-rendering:pixelated; object-fit:cover;\" src=\"data:image/png;base64,iVBORw0KGgoAAAANSUhEUgAAAAIAAAACCAIAAAD91JpzAAAAFklEQVR4nGP8//8/AwMDEwMDAwMDAwAkBgMB/DXemwAAAABJRU5ErkJggg==\"/></div></div></div></td></tr></table><table class=\"show_images\" style=\"border-spacing:0;\"><tr><td><div style=\"display:flex; align-items:left;\">\n",
       "      <div style=\"display:flex; flex-direction:column; align-items:center;\">\n",
       "      <div>Image=8</div><div><img width=\"80\" height=\"80\" style=\"image-rendering:pixelated; object-fit:cover;\" src=\"data:image/png;base64,iVBORw0KGgoAAAANSUhEUgAAAAIAAAACCAIAAAD91JpzAAAAFklEQVR4nGP8//8/AwMDEwMDAwMDAwAkBgMB/DXemwAAAABJRU5ErkJggg==\"/></div></div></div></td><td><div style=\"display:flex; align-items:left;\">\n",
       "      <div style=\"display:flex; flex-direction:column; align-items:center;\">\n",
       "      <div>Image=9</div><div><img width=\"80\" height=\"80\" style=\"image-rendering:pixelated; object-fit:cover;\" src=\"data:image/png;base64,iVBORw0KGgoAAAANSUhEUgAAAAIAAAACCAIAAAD91JpzAAAAFklEQVR4nGP8//8/AwMDEwMDAwMDAwAkBgMB/DXemwAAAABJRU5ErkJggg==\"/></div></div></div></td><td><div style=\"display:flex; align-items:left;\">\n",
       "      <div style=\"display:flex; flex-direction:column; align-items:center;\">\n",
       "      <div>Image=10</div><div><img width=\"80\" height=\"80\" style=\"image-rendering:pixelated; object-fit:cover;\" src=\"data:image/png;base64,iVBORw0KGgoAAAANSUhEUgAAAAIAAAACCAIAAAD91JpzAAAAFklEQVR4nGP8//8/AwMDEwMDAwMDAwAkBgMB/DXemwAAAABJRU5ErkJggg==\"/></div></div></div></td><td><div style=\"display:flex; align-items:left;\">\n",
       "      <div style=\"display:flex; flex-direction:column; align-items:center;\">\n",
       "      <div>Image=11</div><div><img width=\"80\" height=\"80\" style=\"image-rendering:pixelated; object-fit:cover;\" src=\"data:image/png;base64,iVBORw0KGgoAAAANSUhEUgAAAAIAAAACCAIAAAD91JpzAAAAFklEQVR4nGP8//8/AwMDEwMDAwMDAwAkBgMB/DXemwAAAABJRU5ErkJggg==\"/></div></div></div></td><td><div style=\"display:flex; align-items:left;\">\n",
       "      <div style=\"display:flex; flex-direction:column; align-items:center;\">\n",
       "      <div>Image=12</div><div><img width=\"80\" height=\"80\" style=\"image-rendering:pixelated; object-fit:cover;\" src=\"data:image/png;base64,iVBORw0KGgoAAAANSUhEUgAAAAIAAAACCAIAAAD91JpzAAAAFklEQVR4nGOYOnUqAwMDg729/f///wEerQV6uiY5bQAAAABJRU5ErkJggg==\"/></div></div></div></td><td><div style=\"display:flex; align-items:left;\">\n",
       "      <div style=\"display:flex; flex-direction:column; align-items:center;\">\n",
       "      <div>Image=13</div><div><img width=\"80\" height=\"80\" style=\"image-rendering:pixelated; object-fit:cover;\" src=\"data:image/png;base64,iVBORw0KGgoAAAANSUhEUgAAAAIAAAACCAIAAAD91JpzAAAAFklEQVR4nGP8//8/AwMDEwMDAwMDAwAkBgMB/DXemwAAAABJRU5ErkJggg==\"/></div></div></div></td><td><div style=\"display:flex; align-items:left;\">\n",
       "      <div style=\"display:flex; flex-direction:column; align-items:center;\">\n",
       "      <div>Image=14</div><div><img width=\"80\" height=\"80\" style=\"image-rendering:pixelated; object-fit:cover;\" src=\"data:image/png;base64,iVBORw0KGgoAAAANSUhEUgAAAAIAAAACCAIAAAD91JpzAAAAFklEQVR4nGOYOnUqAwMDg729/f///wEerQV6uiY5bQAAAABJRU5ErkJggg==\"/></div></div></div></td><td><div style=\"display:flex; align-items:left;\">\n",
       "      <div style=\"display:flex; flex-direction:column; align-items:center;\">\n",
       "      <div>Image=15</div><div><img width=\"80\" height=\"80\" style=\"image-rendering:pixelated; object-fit:cover;\" src=\"data:image/png;base64,iVBORw0KGgoAAAANSUhEUgAAAAIAAAACCAIAAAD91JpzAAAAFklEQVR4nGOYOnUqAwMDg729/f///wEerQV6uiY5bQAAAABJRU5ErkJggg==\"/></div></div></div></td></tr></table><table class=\"show_images\" style=\"border-spacing:0;\"><tr><td><div style=\"display:flex; align-items:left;\">\n",
       "      <div style=\"display:flex; flex-direction:column; align-items:center;\">\n",
       "      <div>Image=16</div><div><img width=\"80\" height=\"80\" style=\"image-rendering:pixelated; object-fit:cover;\" src=\"data:image/png;base64,iVBORw0KGgoAAAANSUhEUgAAAAIAAAACCAIAAAD91JpzAAAAFklEQVR4nGP8//8/AwMDEwMDAwMDAwAkBgMB/DXemwAAAABJRU5ErkJggg==\"/></div></div></div></td><td><div style=\"display:flex; align-items:left;\">\n",
       "      <div style=\"display:flex; flex-direction:column; align-items:center;\">\n",
       "      <div>Image=17</div><div><img width=\"80\" height=\"80\" style=\"image-rendering:pixelated; object-fit:cover;\" src=\"data:image/png;base64,iVBORw0KGgoAAAANSUhEUgAAAAIAAAACCAIAAAD91JpzAAAAFklEQVR4nGOYOnUqAwMDg729/f///wEerQV6uiY5bQAAAABJRU5ErkJggg==\"/></div></div></div></td><td><div style=\"display:flex; align-items:left;\">\n",
       "      <div style=\"display:flex; flex-direction:column; align-items:center;\">\n",
       "      <div>Image=18</div><div><img width=\"80\" height=\"80\" style=\"image-rendering:pixelated; object-fit:cover;\" src=\"data:image/png;base64,iVBORw0KGgoAAAANSUhEUgAAAAIAAAACCAIAAAD91JpzAAAAFklEQVR4nGP8//8/AwMDEwMDAwMDAwAkBgMB/DXemwAAAABJRU5ErkJggg==\"/></div></div></div></td><td><div style=\"display:flex; align-items:left;\">\n",
       "      <div style=\"display:flex; flex-direction:column; align-items:center;\">\n",
       "      <div>Image=19</div><div><img width=\"80\" height=\"80\" style=\"image-rendering:pixelated; object-fit:cover;\" src=\"data:image/png;base64,iVBORw0KGgoAAAANSUhEUgAAAAIAAAACCAIAAAD91JpzAAAAFklEQVR4nGP8//8/AwMDEwMDAwMDAwAkBgMB/DXemwAAAABJRU5ErkJggg==\"/></div></div></div></td></tr></table>"
      ],
      "text/plain": [
       "<IPython.core.display.HTML object>"
      ]
     },
     "metadata": {},
     "output_type": "display_data"
    }
   ],
   "source": [
    "plot_faces(gen_fake(20)[0])"
   ]
  },
  {
   "cell_type": "code",
   "execution_count": 56,
   "id": "b362f54b",
   "metadata": {},
   "outputs": [],
   "source": [
    "def gen_real(n_samples):\n",
    "    # choose random instances\n",
    "    ix = np.random.randint(0, faces.shape[0], n_samples)\n",
    "    # retrieve selected images\n",
    "    X = faces[ix]\n",
    "    # generate 'real' class labels (1)\n",
    "    y = np.ones((n_samples, 1))\n",
    "    return X, y"
   ]
  },
  {
   "cell_type": "code",
   "execution_count": 57,
   "id": "596576d0",
   "metadata": {},
   "outputs": [
    {
     "data": {
      "text/html": [
       "<table class=\"show_images\" style=\"border-spacing:0;\"><tr><td><div style=\"display:flex; align-items:left;\">\n",
       "      <div style=\"display:flex; flex-direction:column; align-items:center;\">\n",
       "      <div>Image=0</div><div><img width=\"80\" height=\"80\" style=\"image-rendering:pixelated; object-fit:cover;\" src=\"data:image/png;base64,iVBORw0KGgoAAAANSUhEUgAAAAIAAAACCAIAAAD91JpzAAAAFklEQVR4nGNgYGD48eMHw////3l5eQEpdQYNv+0P+QAAAABJRU5ErkJggg==\"/></div></div></div></td><td><div style=\"display:flex; align-items:left;\">\n",
       "      <div style=\"display:flex; flex-direction:column; align-items:center;\">\n",
       "      <div>Image=1</div><div><img width=\"80\" height=\"80\" style=\"image-rendering:pixelated; object-fit:cover;\" src=\"data:image/png;base64,iVBORw0KGgoAAAANSUhEUgAAAAIAAAACCAIAAAD91JpzAAAAFklEQVR4nGNgYGD4//8/w58/fyQkJAAqRwY6gSt7vwAAAABJRU5ErkJggg==\"/></div></div></div></td><td><div style=\"display:flex; align-items:left;\">\n",
       "      <div style=\"display:flex; flex-direction:column; align-items:center;\">\n",
       "      <div>Image=2</div><div><img width=\"80\" height=\"80\" style=\"image-rendering:pixelated; object-fit:cover;\" src=\"data:image/png;base64,iVBORw0KGgoAAAANSUhEUgAAAAIAAAACCAIAAAD91JpzAAAAFklEQVR4nGPg4+P7//8/w79//xgYGAArzQYiaBEbDQAAAABJRU5ErkJggg==\"/></div></div></div></td><td><div style=\"display:flex; align-items:left;\">\n",
       "      <div style=\"display:flex; flex-direction:column; align-items:center;\">\n",
       "      <div>Image=3</div><div><img width=\"80\" height=\"80\" style=\"image-rendering:pixelated; object-fit:cover;\" src=\"data:image/png;base64,iVBORw0KGgoAAAANSUhEUgAAAAIAAAACCAIAAAD91JpzAAAAFklEQVR4nGNgYGD4//8/w+fPn6WlpQEp0gYorBjrCQAAAABJRU5ErkJggg==\"/></div></div></div></td><td><div style=\"display:flex; align-items:left;\">\n",
       "      <div style=\"display:flex; flex-direction:column; align-items:center;\">\n",
       "      <div>Image=4</div><div><img width=\"80\" height=\"80\" style=\"image-rendering:pixelated; object-fit:cover;\" src=\"data:image/png;base64,iVBORw0KGgoAAAANSUhEUgAAAAIAAAACCAIAAAD91JpzAAAAFklEQVR4nGMQFRX98+cPw////xkYGAAshwYxRshwwAAAAABJRU5ErkJggg==\"/></div></div></div></td><td><div style=\"display:flex; align-items:left;\">\n",
       "      <div style=\"display:flex; flex-direction:column; align-items:center;\">\n",
       "      <div>Image=5</div><div><img width=\"80\" height=\"80\" style=\"image-rendering:pixelated; object-fit:cover;\" src=\"data:image/png;base64,iVBORw0KGgoAAAANSUhEUgAAAAIAAAACCAIAAAD91JpzAAAAFklEQVR4nGNgYGD4//8/w/fv33V0dAAqdAZnVall/wAAAABJRU5ErkJggg==\"/></div></div></div></td><td><div style=\"display:flex; align-items:left;\">\n",
       "      <div style=\"display:flex; flex-direction:column; align-items:center;\">\n",
       "      <div>Image=6</div><div><img width=\"80\" height=\"80\" style=\"image-rendering:pixelated; object-fit:cover;\" src=\"data:image/png;base64,iVBORw0KGgoAAAANSUhEUgAAAAIAAAACCAIAAAD91JpzAAAAFklEQVR4nGNgYGD4//8/w79//3h5eQEqIwYfNnkYWwAAAABJRU5ErkJggg==\"/></div></div></div></td><td><div style=\"display:flex; align-items:left;\">\n",
       "      <div style=\"display:flex; flex-direction:column; align-items:center;\">\n",
       "      <div>Image=7</div><div><img width=\"80\" height=\"80\" style=\"image-rendering:pixelated; object-fit:cover;\" src=\"data:image/png;base64,iVBORw0KGgoAAAANSUhEUgAAAAIAAAACCAIAAAD91JpzAAAAFklEQVR4nGNQVVX9//8/w69fvxgYGAAuzQZbQtFzWgAAAABJRU5ErkJggg==\"/></div></div></div></td></tr></table><table class=\"show_images\" style=\"border-spacing:0;\"><tr><td><div style=\"display:flex; align-items:left;\">\n",
       "      <div style=\"display:flex; flex-direction:column; align-items:center;\">\n",
       "      <div>Image=8</div><div><img width=\"80\" height=\"80\" style=\"image-rendering:pixelated; object-fit:cover;\" src=\"data:image/png;base64,iVBORw0KGgoAAAANSUhEUgAAAAIAAAACCAIAAAD91JpzAAAAFklEQVR4nGNgY2P7/v07w////xkYGAAp5AX1LCMqxwAAAABJRU5ErkJggg==\"/></div></div></div></td><td><div style=\"display:flex; align-items:left;\">\n",
       "      <div style=\"display:flex; flex-direction:column; align-items:center;\">\n",
       "      <div>Image=9</div><div><img width=\"80\" height=\"80\" style=\"image-rendering:pixelated; object-fit:cover;\" src=\"data:image/png;base64,iVBORw0KGgoAAAANSUhEUgAAAAIAAAACCAIAAAD91JpzAAAAFklEQVR4nGNgZWX9//8/w////xkYGAAqmAYKB6e/6QAAAABJRU5ErkJggg==\"/></div></div></div></td><td><div style=\"display:flex; align-items:left;\">\n",
       "      <div style=\"display:flex; flex-direction:column; align-items:center;\">\n",
       "      <div>Image=10</div><div><img width=\"80\" height=\"80\" style=\"image-rendering:pixelated; object-fit:cover;\" src=\"data:image/png;base64,iVBORw0KGgoAAAANSUhEUgAAAAIAAAACCAIAAAD91JpzAAAAFklEQVR4nGNgYGD4/fs3w////5mYmAAphAX1QrgwNwAAAABJRU5ErkJggg==\"/></div></div></div></td><td><div style=\"display:flex; align-items:left;\">\n",
       "      <div style=\"display:flex; flex-direction:column; align-items:center;\">\n",
       "      <div>Image=11</div><div><img width=\"80\" height=\"80\" style=\"image-rendering:pixelated; object-fit:cover;\" src=\"data:image/png;base64,iVBORw0KGgoAAAANSUhEUgAAAAIAAAACCAIAAAD91JpzAAAAFklEQVR4nGNgYGD4+/cvw////+Xl5QEqaAZSif3hZgAAAABJRU5ErkJggg==\"/></div></div></div></td><td><div style=\"display:flex; align-items:left;\">\n",
       "      <div style=\"display:flex; flex-direction:column; align-items:center;\">\n",
       "      <div>Image=12</div><div><img width=\"80\" height=\"80\" style=\"image-rendering:pixelated; object-fit:cover;\" src=\"data:image/png;base64,iVBORw0KGgoAAAANSUhEUgAAAAIAAAACCAIAAAD91JpzAAAAFklEQVR4nGNgYGD4//8/w8+fPwUFBQEp8AYcI3DCCAAAAABJRU5ErkJggg==\"/></div></div></div></td><td><div style=\"display:flex; align-items:left;\">\n",
       "      <div style=\"display:flex; flex-direction:column; align-items:center;\">\n",
       "      <div>Image=13</div><div><img width=\"80\" height=\"80\" style=\"image-rendering:pixelated; object-fit:cover;\" src=\"data:image/png;base64,iVBORw0KGgoAAAANSUhEUgAAAAIAAAACCAIAAAD91JpzAAAAFklEQVR4nGNQVlb+//8/w8+fPxkYGAAudgZS4EZwUwAAAABJRU5ErkJggg==\"/></div></div></div></td><td><div style=\"display:flex; align-items:left;\">\n",
       "      <div style=\"display:flex; flex-direction:column; align-items:center;\">\n",
       "      <div>Image=14</div><div><img width=\"80\" height=\"80\" style=\"image-rendering:pixelated; object-fit:cover;\" src=\"data:image/png;base64,iVBORw0KGgoAAAANSUhEUgAAAAIAAAACCAIAAAD91JpzAAAAFklEQVR4nGPg5+f///8/w69fvxgYGAArtQYZEFCzkwAAAABJRU5ErkJggg==\"/></div></div></div></td><td><div style=\"display:flex; align-items:left;\">\n",
       "      <div style=\"display:flex; flex-direction:column; align-items:center;\">\n",
       "      <div>Image=15</div><div><img width=\"80\" height=\"80\" style=\"image-rendering:pixelated; object-fit:cover;\" src=\"data:image/png;base64,iVBORw0KGgoAAAANSUhEUgAAAAIAAAACCAIAAAD91JpzAAAAFklEQVR4nGNgYGD48+cPw////2VkZAAqOwZGck6UvQAAAABJRU5ErkJggg==\"/></div></div></div></td></tr></table><table class=\"show_images\" style=\"border-spacing:0;\"><tr><td><div style=\"display:flex; align-items:left;\">\n",
       "      <div style=\"display:flex; flex-direction:column; align-items:center;\">\n",
       "      <div>Image=16</div><div><img width=\"80\" height=\"80\" style=\"image-rendering:pixelated; object-fit:cover;\" src=\"data:image/png;base64,iVBORw0KGgoAAAANSUhEUgAAAAIAAAACCAIAAAD91JpzAAAAFklEQVR4nGNgYGD4//8/w5cvX9jZ2QEpaQXvWkRRRgAAAABJRU5ErkJggg==\"/></div></div></div></td><td><div style=\"display:flex; align-items:left;\">\n",
       "      <div style=\"display:flex; flex-direction:column; align-items:center;\">\n",
       "      <div>Image=17</div><div><img width=\"80\" height=\"80\" style=\"image-rendering:pixelated; object-fit:cover;\" src=\"data:image/png;base64,iVBORw0KGgoAAAANSUhEUgAAAAIAAAACCAIAAAD91JpzAAAAFklEQVR4nGNgYmL6+/cvw////xkYGAAp9gX7h6s0sQAAAABJRU5ErkJggg==\"/></div></div></div></td><td><div style=\"display:flex; align-items:left;\">\n",
       "      <div style=\"display:flex; flex-direction:column; align-items:center;\">\n",
       "      <div>Image=18</div><div><img width=\"80\" height=\"80\" style=\"image-rendering:pixelated; object-fit:cover;\" src=\"data:image/png;base64,iVBORw0KGgoAAAANSUhEUgAAAAIAAAACCAIAAAD91JpzAAAAFklEQVR4nGNQVFT8//8/w////xkYGAAuiAZeQajwoQAAAABJRU5ErkJggg==\"/></div></div></div></td><td><div style=\"display:flex; align-items:left;\">\n",
       "      <div style=\"display:flex; flex-direction:column; align-items:center;\">\n",
       "      <div>Image=19</div><div><img width=\"80\" height=\"80\" style=\"image-rendering:pixelated; object-fit:cover;\" src=\"data:image/png;base64,iVBORw0KGgoAAAANSUhEUgAAAAIAAAACCAIAAAD91JpzAAAAFklEQVR4nGNQUlL6//8/w9evXxkYGAAuFgZDThUB3QAAAABJRU5ErkJggg==\"/></div></div></div></td></tr></table>"
      ],
      "text/plain": [
       "<IPython.core.display.HTML object>"
      ]
     },
     "metadata": {},
     "output_type": "display_data"
    }
   ],
   "source": [
    "plot_faces(gen_real(20)[0])"
   ]
  },
  {
   "cell_type": "code",
   "execution_count": 58,
   "id": "148b9591",
   "metadata": {},
   "outputs": [],
   "source": [
    "def define_gan(g_model, d_model):\n",
    "    # make weights in the discriminator not trainable\n",
    "    d_model.trainable = False\n",
    "    # connect them\n",
    "    model = Sequential()\n",
    "    # add generator\n",
    "    model.add(g_model)\n",
    "    # add the discriminator\n",
    "    model.add(d_model)\n",
    "    # compile model\n",
    "    opt = Adam(lr=0.001)\n",
    "    model.compile(loss='binary_crossentropy', optimizer=opt)\n",
    "    return model"
   ]
  },
  {
   "cell_type": "code",
   "execution_count": 59,
   "id": "0d10c6a8",
   "metadata": {},
   "outputs": [
    {
     "name": "stderr",
     "output_type": "stream",
     "text": [
      "/usr/local/anaconda3/lib/python3.8/site-packages/tensorflow/python/keras/optimizer_v2/optimizer_v2.py:374: UserWarning: The `lr` argument is deprecated, use `learning_rate` instead.\n",
      "  warnings.warn(\n"
     ]
    }
   ],
   "source": [
    "gan_model = define_gan(generator, discriminator)"
   ]
  },
  {
   "cell_type": "markdown",
   "id": "37705d6d",
   "metadata": {},
   "source": [
    "![](GAN-3.jpg)"
   ]
  },
  {
   "cell_type": "code",
   "execution_count": 60,
   "id": "1f5a7d10",
   "metadata": {},
   "outputs": [
    {
     "name": "stdout",
     "output_type": "stream",
     "text": [
      "\n",
      "Iteration: 0\n",
      "Discriminator loss: 0.74\n",
      "Generator loss: 0.63\n",
      "\n",
      "Iteration: 200\n",
      "Discriminator loss: 0.69\n",
      "Generator loss: 0.63\n",
      "\n",
      "Iteration: 400\n",
      "Discriminator loss: 0.72\n",
      "Generator loss: 0.55\n",
      "\n",
      "Iteration: 600\n",
      "Discriminator loss: 0.58\n",
      "Generator loss: 0.67\n",
      "\n",
      "Iteration: 800\n",
      "Discriminator loss: 0.68\n",
      "Generator loss: 0.59\n",
      "\n",
      "Iteration: 1000\n",
      "Discriminator loss: 0.66\n",
      "Generator loss: 0.68\n",
      "\n",
      "Iteration: 1200\n",
      "Discriminator loss: 0.68\n",
      "Generator loss: 0.56\n",
      "\n",
      "Iteration: 1400\n",
      "Discriminator loss: 0.66\n",
      "Generator loss: 0.78\n",
      "\n",
      "Iteration: 1600\n",
      "Discriminator loss: 0.72\n",
      "Generator loss: 0.70\n",
      "\n",
      "Iteration: 1800\n",
      "Discriminator loss: 0.70\n",
      "Generator loss: 0.66\n"
     ]
    }
   ],
   "source": [
    "samples_saved = {}\n",
    "losses = {}\n",
    "N_ITER = 2000\n",
    "STEP = N_ITER//10\n",
    "for i in range(N_ITER):\n",
    "    # Generate some fake data\n",
    "    X_fake, y_fake = gen_fake(5)\n",
    "    X_real, y_real = gen_real(5)\n",
    "    \n",
    "    X, y = np.vstack((X_fake, X_real)), np.vstack((y_fake, y_real))\n",
    "    \n",
    "    # Discriminator \n",
    "    d_loss = discriminator.train_on_batch(X, y)\n",
    "        \n",
    "    # Generator\n",
    "    n_samples = 10\n",
    "    g_loss= gan_model.train_on_batch(np.random.randn(n_samples, 1), np.ones(n_samples))\n",
    "    losses[i] = {'g':g_loss, 'd':d_loss}\n",
    "    \n",
    "    # Save 5 samples\n",
    "    samples_saved[i]= gen_fake(5)[0]\n",
    "    \n",
    "    if i%STEP==0:\n",
    "        print(\"\")\n",
    "        print(\"Iteration: {}\".format(i))\n",
    "        \n",
    "        print(\"Discriminator loss: {:0.2f}\".format(d_loss))\n",
    "\n",
    "\n",
    "        print(\"Generator loss: {:0.2f}\".format(g_loss))\n",
    "\n"
   ]
  },
  {
   "cell_type": "code",
   "execution_count": 61,
   "id": "9c65c340",
   "metadata": {},
   "outputs": [
    {
     "data": {
      "text/plain": [
       "<AxesSubplot:>"
      ]
     },
     "execution_count": 61,
     "metadata": {},
     "output_type": "execute_result"
    },
    {
     "data": {
      "image/png": "[encoded data removed]",
      "text/plain": [
       "<Figure size 432x288 with 1 Axes>"
      ]
     },
     "metadata": {
      "needs_background": "light"
     },
     "output_type": "display_data"
    }
   ],
   "source": [
    "import pandas as pd\n",
    "losses_df = pd.DataFrame(losses)\n",
    "losses_df.T.plot()"
   ]
  },
  {
   "cell_type": "code",
   "execution_count": 62,
   "id": "03f29ab5",
   "metadata": {},
   "outputs": [
    {
     "data": {
      "text/html": [
       "<table class=\"show_images\" style=\"border-spacing:0;\"><tr><td><div style=\"display:flex; align-items:left;\">\n",
       "      <div style=\"display:flex; flex-direction:column; align-items:center;\">\n",
       "      <div>Image=0</div><div><img width=\"80\" height=\"80\" style=\"image-rendering:pixelated; object-fit:cover;\" src=\"data:image/png;base64,iVBORw0KGgoAAAANSUhEUgAAAAIAAAACCAIAAAD91JpzAAAAFUlEQVR4nAXBAQEAAACAEP9PF1CpMCnkBftM2nerAAAAAElFTkSuQmCC\"/></div></div></div></td><td><div style=\"display:flex; align-items:left;\">\n",
       "      <div style=\"display:flex; flex-direction:column; align-items:center;\">\n",
       "      <div>Image=1</div><div><img width=\"80\" height=\"80\" style=\"image-rendering:pixelated; object-fit:cover;\" src=\"data:image/png;base64,iVBORw0KGgoAAAANSUhEUgAAAAIAAAACCAIAAAD91JpzAAAAFUlEQVR4nAXBAQEAAACAEP9PF1CpMCnkBftM2nerAAAAAElFTkSuQmCC\"/></div></div></div></td><td><div style=\"display:flex; align-items:left;\">\n",
       "      <div style=\"display:flex; flex-direction:column; align-items:center;\">\n",
       "      <div>Image=2</div><div><img width=\"80\" height=\"80\" style=\"image-rendering:pixelated; object-fit:cover;\" src=\"data:image/png;base64,iVBORw0KGgoAAAANSUhEUgAAAAIAAAACCAIAAAD91JpzAAAAFUlEQVR4nAXBAQEAAACAEP9PF1CpMCnkBftM2nerAAAAAElFTkSuQmCC\"/></div></div></div></td><td><div style=\"display:flex; align-items:left;\">\n",
       "      <div style=\"display:flex; flex-direction:column; align-items:center;\">\n",
       "      <div>Image=3</div><div><img width=\"80\" height=\"80\" style=\"image-rendering:pixelated; object-fit:cover;\" src=\"data:image/png;base64,iVBORw0KGgoAAAANSUhEUgAAAAIAAAACCAIAAAD91JpzAAAAFUlEQVR4nAXBAQEAAACAEP9PF1CpMCnkBftM2nerAAAAAElFTkSuQmCC\"/></div></div></div></td><td><div style=\"display:flex; align-items:left;\">\n",
       "      <div style=\"display:flex; flex-direction:column; align-items:center;\">\n",
       "      <div>Image=4</div><div><img width=\"80\" height=\"80\" style=\"image-rendering:pixelated; object-fit:cover;\" src=\"data:image/png;base64,iVBORw0KGgoAAAANSUhEUgAAAAIAAAACCAIAAAD91JpzAAAAFUlEQVR4nAXBAQEAAACAEP9PF1CpMCnkBftM2nerAAAAAElFTkSuQmCC\"/></div></div></div></td><td><div style=\"display:flex; align-items:left;\">\n",
       "      <div style=\"display:flex; flex-direction:column; align-items:center;\">\n",
       "      <div>Image=5</div><div><img width=\"80\" height=\"80\" style=\"image-rendering:pixelated; object-fit:cover;\" src=\"data:image/png;base64,iVBORw0KGgoAAAANSUhEUgAAAAIAAAACCAIAAAD91JpzAAAAFUlEQVR4nAXBAQEAAACAEP9PF1CpMCnkBftM2nerAAAAAElFTkSuQmCC\"/></div></div></div></td><td><div style=\"display:flex; align-items:left;\">\n",
       "      <div style=\"display:flex; flex-direction:column; align-items:center;\">\n",
       "      <div>Image=6</div><div><img width=\"80\" height=\"80\" style=\"image-rendering:pixelated; object-fit:cover;\" src=\"data:image/png;base64,iVBORw0KGgoAAAANSUhEUgAAAAIAAAACCAIAAAD91JpzAAAAFUlEQVR4nAXBAQEAAACAEP9PF1CpMCnkBftM2nerAAAAAElFTkSuQmCC\"/></div></div></div></td><td><div style=\"display:flex; align-items:left;\">\n",
       "      <div style=\"display:flex; flex-direction:column; align-items:center;\">\n",
       "      <div>Image=7</div><div><img width=\"80\" height=\"80\" style=\"image-rendering:pixelated; object-fit:cover;\" src=\"data:image/png;base64,iVBORw0KGgoAAAANSUhEUgAAAAIAAAACCAIAAAD91JpzAAAAFUlEQVR4nAXBAQEAAACAEP9PF1CpMCnkBftM2nerAAAAAElFTkSuQmCC\"/></div></div></div></td></tr></table><table class=\"show_images\" style=\"border-spacing:0;\"><tr><td><div style=\"display:flex; align-items:left;\">\n",
       "      <div style=\"display:flex; flex-direction:column; align-items:center;\">\n",
       "      <div>Image=8</div><div><img width=\"80\" height=\"80\" style=\"image-rendering:pixelated; object-fit:cover;\" src=\"data:image/png;base64,iVBORw0KGgoAAAANSUhEUgAAAAIAAAACCAIAAAD91JpzAAAAFklEQVR4nGNgYGD4//8/w////5mZmQEp9gYETzgBBgAAAABJRU5ErkJggg==\"/></div></div></div></td><td><div style=\"display:flex; align-items:left;\">\n",
       "      <div style=\"display:flex; flex-direction:column; align-items:center;\">\n",
       "      <div>Image=9</div><div><img width=\"80\" height=\"80\" style=\"image-rendering:pixelated; object-fit:cover;\" src=\"data:image/png;base64,iVBORw0KGgoAAAANSUhEUgAAAAIAAAACCAIAAAD91JpzAAAAFUlEQVR4nAXBAQEAAACAEP9PF1CpMCnkBftM2nerAAAAAElFTkSuQmCC\"/></div></div></div></td><td><div style=\"display:flex; align-items:left;\">\n",
       "      <div style=\"display:flex; flex-direction:column; align-items:center;\">\n",
       "      <div>Image=10</div><div><img width=\"80\" height=\"80\" style=\"image-rendering:pixelated; object-fit:cover;\" src=\"data:image/png;base64,iVBORw0KGgoAAAANSUhEUgAAAAIAAAACCAIAAAD91JpzAAAAFUlEQVR4nAXBAQEAAACAEP9PF1CpMCnkBftM2nerAAAAAElFTkSuQmCC\"/></div></div></div></td><td><div style=\"display:flex; align-items:left;\">\n",
       "      <div style=\"display:flex; flex-direction:column; align-items:center;\">\n",
       "      <div>Image=11</div><div><img width=\"80\" height=\"80\" style=\"image-rendering:pixelated; object-fit:cover;\" src=\"data:image/png;base64,iVBORw0KGgoAAAANSUhEUgAAAAIAAAACCAIAAAD91JpzAAAAFUlEQVR4nAXBAQEAAACAEP9PF1CpMCnkBftM2nerAAAAAElFTkSuQmCC\"/></div></div></div></td><td><div style=\"display:flex; align-items:left;\">\n",
       "      <div style=\"display:flex; flex-direction:column; align-items:center;\">\n",
       "      <div>Image=12</div><div><img width=\"80\" height=\"80\" style=\"image-rendering:pixelated; object-fit:cover;\" src=\"data:image/png;base64,iVBORw0KGgoAAAANSUhEUgAAAAIAAAACCAIAAAD91JpzAAAAFUlEQVR4nAXBAQEAAACAEP9PF1CpMCnkBftM2nerAAAAAElFTkSuQmCC\"/></div></div></div></td><td><div style=\"display:flex; align-items:left;\">\n",
       "      <div style=\"display:flex; flex-direction:column; align-items:center;\">\n",
       "      <div>Image=13</div><div><img width=\"80\" height=\"80\" style=\"image-rendering:pixelated; object-fit:cover;\" src=\"data:image/png;base64,iVBORw0KGgoAAAANSUhEUgAAAAIAAAACCAIAAAD91JpzAAAAFUlEQVR4nAXBAQEAAACAEP9PF1CpMCnkBftM2nerAAAAAElFTkSuQmCC\"/></div></div></div></td><td><div style=\"display:flex; align-items:left;\">\n",
       "      <div style=\"display:flex; flex-direction:column; align-items:center;\">\n",
       "      <div>Image=14</div><div><img width=\"80\" height=\"80\" style=\"image-rendering:pixelated; object-fit:cover;\" src=\"data:image/png;base64,iVBORw0KGgoAAAANSUhEUgAAAAIAAAACCAIAAAD91JpzAAAAFUlEQVR4nAXBAQEAAACAEP9PF1CpMCnkBftM2nerAAAAAElFTkSuQmCC\"/></div></div></div></td><td><div style=\"display:flex; align-items:left;\">\n",
       "      <div style=\"display:flex; flex-direction:column; align-items:center;\">\n",
       "      <div>Image=15</div><div><img width=\"80\" height=\"80\" style=\"image-rendering:pixelated; object-fit:cover;\" src=\"data:image/png;base64,iVBORw0KGgoAAAANSUhEUgAAAAIAAAACCAIAAAD91JpzAAAAFUlEQVR4nAXBAQEAAACAEP9PF1CpMCnkBftM2nerAAAAAElFTkSuQmCC\"/></div></div></div></td></tr></table><table class=\"show_images\" style=\"border-spacing:0;\"><tr><td><div style=\"display:flex; align-items:left;\">\n",
       "      <div style=\"display:flex; flex-direction:column; align-items:center;\">\n",
       "      <div>Image=16</div><div><img width=\"80\" height=\"80\" style=\"image-rendering:pixelated; object-fit:cover;\" src=\"data:image/png;base64,iVBORw0KGgoAAAANSUhEUgAAAAIAAAACCAIAAAD91JpzAAAAFUlEQVR4nAXBAQEAAACAEP9PF1CpMCnkBftM2nerAAAAAElFTkSuQmCC\"/></div></div></div></td><td><div style=\"display:flex; align-items:left;\">\n",
       "      <div style=\"display:flex; flex-direction:column; align-items:center;\">\n",
       "      <div>Image=17</div><div><img width=\"80\" height=\"80\" style=\"image-rendering:pixelated; object-fit:cover;\" src=\"data:image/png;base64,iVBORw0KGgoAAAANSUhEUgAAAAIAAAACCAIAAAD91JpzAAAAFUlEQVR4nAXBAQEAAACAEP9PF1CpMCnkBftM2nerAAAAAElFTkSuQmCC\"/></div></div></div></td><td><div style=\"display:flex; align-items:left;\">\n",
       "      <div style=\"display:flex; flex-direction:column; align-items:center;\">\n",
       "      <div>Image=18</div><div><img width=\"80\" height=\"80\" style=\"image-rendering:pixelated; object-fit:cover;\" src=\"data:image/png;base64,iVBORw0KGgoAAAANSUhEUgAAAAIAAAACCAIAAAD91JpzAAAAFklEQVR4nGNgYGD4//8/w////xkZGQEp6gX+6dxoIwAAAABJRU5ErkJggg==\"/></div></div></div></td><td><div style=\"display:flex; align-items:left;\">\n",
       "      <div style=\"display:flex; flex-direction:column; align-items:center;\">\n",
       "      <div>Image=19</div><div><img width=\"80\" height=\"80\" style=\"image-rendering:pixelated; object-fit:cover;\" src=\"data:image/png;base64,iVBORw0KGgoAAAANSUhEUgAAAAIAAAACCAIAAAD91JpzAAAAFUlEQVR4nAXBAQEAAACAEP9PF1CpMCnkBftM2nerAAAAAElFTkSuQmCC\"/></div></div></div></td></tr></table>"
      ],
      "text/plain": [
       "<IPython.core.display.HTML object>"
      ]
     },
     "metadata": {},
     "output_type": "display_data"
    }
   ],
   "source": [
    "plot_faces(gen_fake(20)[0])"
   ]
  },
  {
   "cell_type": "code",
   "execution_count": 98,
   "id": "c55a1516",
   "metadata": {},
   "outputs": [
    {
     "data": {
      "text/html": [
       "<table class=\"show_images\" style=\"border-spacing:0;\"><tr><td><div style=\"display:flex; align-items:left;\">\n",
       "      <div style=\"display:flex; flex-direction:column; align-items:center;\">\n",
       "      <div>Iteration: 0\n",
       "Sample: 0</div><div><img width=\"80\" height=\"80\" style=\"image-rendering:pixelated; object-fit:cover;\" src=\"data:image/png;base64,iVBORw0KGgoAAAANSUhEUgAAAAIAAAACCAIAAAD91JpzAAAAFklEQVR4nGOYNGkSAwMDg729/f///wEeQQVxlGPwKAAAAABJRU5ErkJggg==\"/></div></div></div></td><td><div style=\"display:flex; align-items:left;\">\n",
       "      <div style=\"display:flex; flex-direction:column; align-items:center;\">\n",
       "      <div>Iteration: 0\n",
       "Sample: 1</div><div><img width=\"80\" height=\"80\" style=\"image-rendering:pixelated; object-fit:cover;\" src=\"data:image/png;base64,iVBORw0KGgoAAAANSUhEUgAAAAIAAAACCAIAAAD91JpzAAAAFklEQVR4nGOYOHEiAwMDg729/f///wEeHQVuYG3AAwAAAABJRU5ErkJggg==\"/></div></div></div></td><td><div style=\"display:flex; align-items:left;\">\n",
       "      <div style=\"display:flex; flex-direction:column; align-items:center;\">\n",
       "      <div>Iteration: 0\n",
       "Sample: 2</div><div><img width=\"80\" height=\"80\" style=\"image-rendering:pixelated; object-fit:cover;\" src=\"data:image/png;base64,iVBORw0KGgoAAAANSUhEUgAAAAIAAAACCAIAAAD91JpzAAAAFklEQVR4nGOYNGkSAwMDg729/f///wEeQQVxlGPwKAAAAABJRU5ErkJggg==\"/></div></div></div></td><td><div style=\"display:flex; align-items:left;\">\n",
       "      <div style=\"display:flex; flex-direction:column; align-items:center;\">\n",
       "      <div>Iteration: 0\n",
       "Sample: 3</div><div><img width=\"80\" height=\"80\" style=\"image-rendering:pixelated; object-fit:cover;\" src=\"data:image/png;base64,iVBORw0KGgoAAAANSUhEUgAAAAIAAAACCAIAAAD91JpzAAAAFklEQVR4nGOYOHEiAwMDg729/f///wEeHQVuYG3AAwAAAABJRU5ErkJggg==\"/></div></div></div></td><td><div style=\"display:flex; align-items:left;\">\n",
       "      <div style=\"display:flex; flex-direction:column; align-items:center;\">\n",
       "      <div>Iteration: 0\n",
       "Sample: 4</div><div><img width=\"80\" height=\"80\" style=\"image-rendering:pixelated; object-fit:cover;\" src=\"data:image/png;base64,iVBORw0KGgoAAAANSUhEUgAAAAIAAAACCAIAAAD91JpzAAAAD0lEQVR4nGNggIP///8DAAYIAv7hWr3rAAAAAElFTkSuQmCC\"/></div></div></div></td></tr></table><table class=\"show_images\" style=\"border-spacing:0;\"><tr><td><div style=\"display:flex; align-items:left;\">\n",
       "      <div style=\"display:flex; flex-direction:column; align-items:center;\">\n",
       "      <div>Iteration: 200\n",
       "Sample: 0</div><div><img width=\"80\" height=\"80\" style=\"image-rendering:pixelated; object-fit:cover;\" src=\"data:image/png;base64,iVBORw0KGgoAAAANSUhEUgAAAAIAAAACCAIAAAD91JpzAAAAF0lEQVR4nGNgYGB48OABw9u3b////w8AK4sIZUIGNM0AAAAASUVORK5CYII=\"/></div></div></div></td><td><div style=\"display:flex; align-items:left;\">\n",
       "      <div style=\"display:flex; flex-direction:column; align-items:center;\">\n",
       "      <div>Iteration: 200\n",
       "Sample: 1</div><div><img width=\"80\" height=\"80\" style=\"image-rendering:pixelated; object-fit:cover;\" src=\"data:image/png;base64,iVBORw0KGgoAAAANSUhEUgAAAAIAAAACCAIAAAD91JpzAAAAF0lEQVR4nGNgYGA4ePAgw5UrV/7//w8AJs8HvcjOT3kAAAAASUVORK5CYII=\"/></div></div></div></td><td><div style=\"display:flex; align-items:left;\">\n",
       "      <div style=\"display:flex; flex-direction:column; align-items:center;\">\n",
       "      <div>Iteration: 200\n",
       "Sample: 2</div><div><img width=\"80\" height=\"80\" style=\"image-rendering:pixelated; object-fit:cover;\" src=\"data:image/png;base64,iVBORw0KGgoAAAANSUhEUgAAAAIAAAACCAIAAAD91JpzAAAAFklEQVR4nGP8//8/AwMDEwMDAwMDAwAkBgMB/DXemwAAAABJRU5ErkJggg==\"/></div></div></div></td><td><div style=\"display:flex; align-items:left;\">\n",
       "      <div style=\"display:flex; flex-direction:column; align-items:center;\">\n",
       "      <div>Iteration: 200\n",
       "Sample: 3</div><div><img width=\"80\" height=\"80\" style=\"image-rendering:pixelated; object-fit:cover;\" src=\"data:image/png;base64,iVBORw0KGgoAAAANSUhEUgAAAAIAAAACCAIAAAD91JpzAAAAFklEQVR4nGNgYGD4//8/0////xkYGAAp8gX9PrPXDAAAAABJRU5ErkJggg==\"/></div></div></div></td><td><div style=\"display:flex; align-items:left;\">\n",
       "      <div style=\"display:flex; flex-direction:column; align-items:center;\">\n",
       "      <div>Iteration: 200\n",
       "Sample: 4</div><div><img width=\"80\" height=\"80\" style=\"image-rendering:pixelated; object-fit:cover;\" src=\"data:image/png;base64,iVBORw0KGgoAAAANSUhEUgAAAAIAAAACCAIAAAD91JpzAAAAFklEQVR4nGP8//8/AwMDEwMDAwMDAwAkBgMB/DXemwAAAABJRU5ErkJggg==\"/></div></div></div></td></tr></table><table class=\"show_images\" style=\"border-spacing:0;\"><tr><td><div style=\"display:flex; align-items:left;\">\n",
       "      <div style=\"display:flex; flex-direction:column; align-items:center;\">\n",
       "      <div>Iteration: 400\n",
       "Sample: 0</div><div><img width=\"80\" height=\"80\" style=\"image-rendering:pixelated; object-fit:cover;\" src=\"data:image/png;base64,iVBORw0KGgoAAAANSUhEUgAAAAIAAAACCAIAAAD91JpzAAAAF0lEQVR4nGNgYGBYsWIFw8mTJ////w8AI4cHUSKXXv4AAAAASUVORK5CYII=\"/></div></div></div></td><td><div style=\"display:flex; align-items:left;\">\n",
       "      <div style=\"display:flex; flex-direction:column; align-items:center;\">\n",
       "      <div>Iteration: 400\n",
       "Sample: 1</div><div><img width=\"80\" height=\"80\" style=\"image-rendering:pixelated; object-fit:cover;\" src=\"data:image/png;base64,iVBORw0KGgoAAAANSUhEUgAAAAIAAAACCAIAAAD91JpzAAAAFklEQVR4nGP8//8/AwMDEwMDAwMDAwAkBgMB/DXemwAAAABJRU5ErkJggg==\"/></div></div></div></td><td><div style=\"display:flex; align-items:left;\">\n",
       "      <div style=\"display:flex; flex-direction:column; align-items:center;\">\n",
       "      <div>Iteration: 400\n",
       "Sample: 2</div><div><img width=\"80\" height=\"80\" style=\"image-rendering:pixelated; object-fit:cover;\" src=\"data:image/png;base64,iVBORw0KGgoAAAANSUhEUgAAAAIAAAACCAIAAAD91JpzAAAAF0lEQVR4nGNgYGA4c+YMw/379////w8AKJ0H/5sLhwIAAAAASUVORK5CYII=\"/></div></div></div></td><td><div style=\"display:flex; align-items:left;\">\n",
       "      <div style=\"display:flex; flex-direction:column; align-items:center;\">\n",
       "      <div>Iteration: 400\n",
       "Sample: 3</div><div><img width=\"80\" height=\"80\" style=\"image-rendering:pixelated; object-fit:cover;\" src=\"data:image/png;base64,iVBORw0KGgoAAAANSUhEUgAAAAIAAAACCAIAAAD91JpzAAAAFklEQVR4nGP8//8/AwMDEwMDAwMDAwAkBgMB/DXemwAAAABJRU5ErkJggg==\"/></div></div></div></td><td><div style=\"display:flex; align-items:left;\">\n",
       "      <div style=\"display:flex; flex-direction:column; align-items:center;\">\n",
       "      <div>Iteration: 400\n",
       "Sample: 4</div><div><img width=\"80\" height=\"80\" style=\"image-rendering:pixelated; object-fit:cover;\" src=\"data:image/png;base64,iVBORw0KGgoAAAANSUhEUgAAAAIAAAACCAIAAAD91JpzAAAAF0lEQVR4nGNgYGDYtGkTw7lz5/7//w8AJOAHfrXjedAAAAAASUVORK5CYII=\"/></div></div></div></td></tr></table><table class=\"show_images\" style=\"border-spacing:0;\"><tr><td><div style=\"display:flex; align-items:left;\">\n",
       "      <div style=\"display:flex; flex-direction:column; align-items:center;\">\n",
       "      <div>Iteration: 600\n",
       "Sample: 0</div><div><img width=\"80\" height=\"80\" style=\"image-rendering:pixelated; object-fit:cover;\" src=\"data:image/png;base64,iVBORw0KGgoAAAANSUhEUgAAAAIAAAACCAIAAAD91JpzAAAAFklEQVR4nGNgYGD4//8/0////xkYGAAp8gX9PrPXDAAAAABJRU5ErkJggg==\"/></div></div></div></td><td><div style=\"display:flex; align-items:left;\">\n",
       "      <div style=\"display:flex; flex-direction:column; align-items:center;\">\n",
       "      <div>Iteration: 600\n",
       "Sample: 1</div><div><img width=\"80\" height=\"80\" style=\"image-rendering:pixelated; object-fit:cover;\" src=\"data:image/png;base64,iVBORw0KGgoAAAANSUhEUgAAAAIAAAACCAIAAAD91JpzAAAAFklEQVR4nGNgYGD4//8/0////xkYGAAp8gX9PrPXDAAAAABJRU5ErkJggg==\"/></div></div></div></td><td><div style=\"display:flex; align-items:left;\">\n",
       "      <div style=\"display:flex; flex-direction:column; align-items:center;\">\n",
       "      <div>Iteration: 600\n",
       "Sample: 2</div><div><img width=\"80\" height=\"80\" style=\"image-rendering:pixelated; object-fit:cover;\" src=\"data:image/png;base64,iVBORw0KGgoAAAANSUhEUgAAAAIAAAACCAIAAAD91JpzAAAAFklEQVR4nGNgYGD4//8/0////xkYGAAp8gX9PrPXDAAAAABJRU5ErkJggg==\"/></div></div></div></td><td><div style=\"display:flex; align-items:left;\">\n",
       "      <div style=\"display:flex; flex-direction:column; align-items:center;\">\n",
       "      <div>Iteration: 600\n",
       "Sample: 3</div><div><img width=\"80\" height=\"80\" style=\"image-rendering:pixelated; object-fit:cover;\" src=\"data:image/png;base64,iVBORw0KGgoAAAANSUhEUgAAAAIAAAACCAIAAAD91JpzAAAAFklEQVR4nGP8//8/AwMDEwMDAwMDAwAkBgMB/DXemwAAAABJRU5ErkJggg==\"/></div></div></div></td><td><div style=\"display:flex; align-items:left;\">\n",
       "      <div style=\"display:flex; flex-direction:column; align-items:center;\">\n",
       "      <div>Iteration: 600\n",
       "Sample: 4</div><div><img width=\"80\" height=\"80\" style=\"image-rendering:pixelated; object-fit:cover;\" src=\"data:image/png;base64,iVBORw0KGgoAAAANSUhEUgAAAAIAAAACCAIAAAD91JpzAAAAFklEQVR4nGNgYGD4//8/0////xkYGAAp8gX9PrPXDAAAAABJRU5ErkJggg==\"/></div></div></div></td></tr></table><table class=\"show_images\" style=\"border-spacing:0;\"><tr><td><div style=\"display:flex; align-items:left;\">\n",
       "      <div style=\"display:flex; flex-direction:column; align-items:center;\">\n",
       "      <div>Iteration: 800\n",
       "Sample: 0</div><div><img width=\"80\" height=\"80\" style=\"image-rendering:pixelated; object-fit:cover;\" src=\"data:image/png;base64,iVBORw0KGgoAAAANSUhEUgAAAAIAAAACCAIAAAD91JpzAAAAFklEQVR4nGP8//8/AwMDEwMDAwMDAwAkBgMB/DXemwAAAABJRU5ErkJggg==\"/></div></div></div></td><td><div style=\"display:flex; align-items:left;\">\n",
       "      <div style=\"display:flex; flex-direction:column; align-items:center;\">\n",
       "      <div>Iteration: 800\n",
       "Sample: 1</div><div><img width=\"80\" height=\"80\" style=\"image-rendering:pixelated; object-fit:cover;\" src=\"data:image/png;base64,iVBORw0KGgoAAAANSUhEUgAAAAIAAAACCAIAAAD91JpzAAAAFklEQVR4nGNgYGD4//8/0////xkYGAAp8gX9PrPXDAAAAABJRU5ErkJggg==\"/></div></div></div></td><td><div style=\"display:flex; align-items:left;\">\n",
       "      <div style=\"display:flex; flex-direction:column; align-items:center;\">\n",
       "      <div>Iteration: 800\n",
       "Sample: 2</div><div><img width=\"80\" height=\"80\" style=\"image-rendering:pixelated; object-fit:cover;\" src=\"data:image/png;base64,iVBORw0KGgoAAAANSUhEUgAAAAIAAAACCAIAAAD91JpzAAAAFklEQVR4nGP8//8/AwMDEwMDAwMDAwAkBgMB/DXemwAAAABJRU5ErkJggg==\"/></div></div></div></td><td><div style=\"display:flex; align-items:left;\">\n",
       "      <div style=\"display:flex; flex-direction:column; align-items:center;\">\n",
       "      <div>Iteration: 800\n",
       "Sample: 3</div><div><img width=\"80\" height=\"80\" style=\"image-rendering:pixelated; object-fit:cover;\" src=\"data:image/png;base64,iVBORw0KGgoAAAANSUhEUgAAAAIAAAACCAIAAAD91JpzAAAAFklEQVR4nGNgYGD4//8/0////xkYGAAp8gX9PrPXDAAAAABJRU5ErkJggg==\"/></div></div></div></td><td><div style=\"display:flex; align-items:left;\">\n",
       "      <div style=\"display:flex; flex-direction:column; align-items:center;\">\n",
       "      <div>Iteration: 800\n",
       "Sample: 4</div><div><img width=\"80\" height=\"80\" style=\"image-rendering:pixelated; object-fit:cover;\" src=\"data:image/png;base64,iVBORw0KGgoAAAANSUhEUgAAAAIAAAACCAIAAAD91JpzAAAAFklEQVR4nGP8//8/AwMDEwMDAwMDAwAkBgMB/DXemwAAAABJRU5ErkJggg==\"/></div></div></div></td></tr></table><table class=\"show_images\" style=\"border-spacing:0;\"><tr><td><div style=\"display:flex; align-items:left;\">\n",
       "      <div style=\"display:flex; flex-direction:column; align-items:center;\">\n",
       "      <div>Iteration: 1000\n",
       "Sample: 0</div><div><img width=\"80\" height=\"80\" style=\"image-rendering:pixelated; object-fit:cover;\" src=\"data:image/png;base64,iVBORw0KGgoAAAANSUhEUgAAAAIAAAACCAIAAAD91JpzAAAAF0lEQVR4nGNgYGD4//8/0////8+fPw8ALswIauSkauMAAAAASUVORK5CYII=\"/></div></div></div></td><td><div style=\"display:flex; align-items:left;\">\n",
       "      <div style=\"display:flex; flex-direction:column; align-items:center;\">\n",
       "      <div>Iteration: 1000\n",
       "Sample: 1</div><div><img width=\"80\" height=\"80\" style=\"image-rendering:pixelated; object-fit:cover;\" src=\"data:image/png;base64,iVBORw0KGgoAAAANSUhEUgAAAAIAAAACCAIAAAD91JpzAAAAFklEQVR4nGNgYGD4//8/0////xkYGAAp8gX9PrPXDAAAAABJRU5ErkJggg==\"/></div></div></div></td><td><div style=\"display:flex; align-items:left;\">\n",
       "      <div style=\"display:flex; flex-direction:column; align-items:center;\">\n",
       "      <div>Iteration: 1000\n",
       "Sample: 2</div><div><img width=\"80\" height=\"80\" style=\"image-rendering:pixelated; object-fit:cover;\" src=\"data:image/png;base64,iVBORw0KGgoAAAANSUhEUgAAAAIAAAACCAIAAAD91JpzAAAAFklEQVR4nGNgYGD4//8/0////xkYGAAp8gX9PrPXDAAAAABJRU5ErkJggg==\"/></div></div></div></td><td><div style=\"display:flex; align-items:left;\">\n",
       "      <div style=\"display:flex; flex-direction:column; align-items:center;\">\n",
       "      <div>Iteration: 1000\n",
       "Sample: 3</div><div><img width=\"80\" height=\"80\" style=\"image-rendering:pixelated; object-fit:cover;\" src=\"data:image/png;base64,iVBORw0KGgoAAAANSUhEUgAAAAIAAAACCAIAAAD91JpzAAAAF0lEQVR4nGNgYGD4//8/0////2/cuAEALwIIhcORu8sAAAAASUVORK5CYII=\"/></div></div></div></td><td><div style=\"display:flex; align-items:left;\">\n",
       "      <div style=\"display:flex; flex-direction:column; align-items:center;\">\n",
       "      <div>Iteration: 1000\n",
       "Sample: 4</div><div><img width=\"80\" height=\"80\" style=\"image-rendering:pixelated; object-fit:cover;\" src=\"data:image/png;base64,iVBORw0KGgoAAAANSUhEUgAAAAIAAAACCAIAAAD91JpzAAAAFklEQVR4nGNgYGD4//8/0////xkYGAAp8gX9PrPXDAAAAABJRU5ErkJggg==\"/></div></div></div></td></tr></table><table class=\"show_images\" style=\"border-spacing:0;\"><tr><td><div style=\"display:flex; align-items:left;\">\n",
       "      <div style=\"display:flex; flex-direction:column; align-items:center;\">\n",
       "      <div>Iteration: 1200\n",
       "Sample: 0</div><div><img width=\"80\" height=\"80\" style=\"image-rendering:pixelated; object-fit:cover;\" src=\"data:image/png;base64,iVBORw0KGgoAAAANSUhEUgAAAAIAAAACCAIAAAD91JpzAAAAFklEQVR4nGP8//8/AwMDEwMDAwMDAwAkBgMB/DXemwAAAABJRU5ErkJggg==\"/></div></div></div></td><td><div style=\"display:flex; align-items:left;\">\n",
       "      <div style=\"display:flex; flex-direction:column; align-items:center;\">\n",
       "      <div>Iteration: 1200\n",
       "Sample: 1</div><div><img width=\"80\" height=\"80\" style=\"image-rendering:pixelated; object-fit:cover;\" src=\"data:image/png;base64,iVBORw0KGgoAAAANSUhEUgAAAAIAAAACCAIAAAD91JpzAAAAFklEQVR4nGNgYGD4//8/0////xkYGAAp8gX9PrPXDAAAAABJRU5ErkJggg==\"/></div></div></div></td><td><div style=\"display:flex; align-items:left;\">\n",
       "      <div style=\"display:flex; flex-direction:column; align-items:center;\">\n",
       "      <div>Iteration: 1200\n",
       "Sample: 2</div><div><img width=\"80\" height=\"80\" style=\"image-rendering:pixelated; object-fit:cover;\" src=\"data:image/png;base64,iVBORw0KGgoAAAANSUhEUgAAAAIAAAACCAIAAAD91JpzAAAAFklEQVR4nGNgYGD4//8/w////2NjYwEsEgcSIW5aMgAAAABJRU5ErkJggg==\"/></div></div></div></td><td><div style=\"display:flex; align-items:left;\">\n",
       "      <div style=\"display:flex; flex-direction:column; align-items:center;\">\n",
       "      <div>Iteration: 1200\n",
       "Sample: 3</div><div><img width=\"80\" height=\"80\" style=\"image-rendering:pixelated; object-fit:cover;\" src=\"data:image/png;base64,iVBORw0KGgoAAAANSUhEUgAAAAIAAAACCAIAAAD91JpzAAAAFklEQVR4nGNgYGD4//8/0////xkYGAAp8gX9PrPXDAAAAABJRU5ErkJggg==\"/></div></div></div></td><td><div style=\"display:flex; align-items:left;\">\n",
       "      <div style=\"display:flex; flex-direction:column; align-items:center;\">\n",
       "      <div>Iteration: 1200\n",
       "Sample: 4</div><div><img width=\"80\" height=\"80\" style=\"image-rendering:pixelated; object-fit:cover;\" src=\"data:image/png;base64,iVBORw0KGgoAAAANSUhEUgAAAAIAAAACCAIAAAD91JpzAAAAFklEQVR4nGNgYGD4//8/0////xkYGAAp8gX9PrPXDAAAAABJRU5ErkJggg==\"/></div></div></div></td></tr></table><table class=\"show_images\" style=\"border-spacing:0;\"><tr><td><div style=\"display:flex; align-items:left;\">\n",
       "      <div style=\"display:flex; flex-direction:column; align-items:center;\">\n",
       "      <div>Iteration: 1400\n",
       "Sample: 0</div><div><img width=\"80\" height=\"80\" style=\"image-rendering:pixelated; object-fit:cover;\" src=\"data:image/png;base64,iVBORw0KGgoAAAANSUhEUgAAAAIAAAACCAIAAAD91JpzAAAAF0lEQVR4nGNgYGD4//8/0/////ft2wcALmYIN0Wxa1IAAAAASUVORK5CYII=\"/></div></div></div></td><td><div style=\"display:flex; align-items:left;\">\n",
       "      <div style=\"display:flex; flex-direction:column; align-items:center;\">\n",
       "      <div>Iteration: 1400\n",
       "Sample: 1</div><div><img width=\"80\" height=\"80\" style=\"image-rendering:pixelated; object-fit:cover;\" src=\"data:image/png;base64,iVBORw0KGgoAAAANSUhEUgAAAAIAAAACCAIAAAD91JpzAAAAF0lEQVR4nGNgYGD4//8/0////2/fvg0ALxQIjtZ1TyMAAAAASUVORK5CYII=\"/></div></div></div></td><td><div style=\"display:flex; align-items:left;\">\n",
       "      <div style=\"display:flex; flex-direction:column; align-items:center;\">\n",
       "      <div>Iteration: 1400\n",
       "Sample: 2</div><div><img width=\"80\" height=\"80\" style=\"image-rendering:pixelated; object-fit:cover;\" src=\"data:image/png;base64,iVBORw0KGgoAAAANSUhEUgAAAAIAAAACCAIAAAD91JpzAAAAFUlEQVR4nAXBAQEAAACAEP9PF1CpMCnkBftM2nerAAAAAElFTkSuQmCC\"/></div></div></div></td><td><div style=\"display:flex; align-items:left;\">\n",
       "      <div style=\"display:flex; flex-direction:column; align-items:center;\">\n",
       "      <div>Iteration: 1400\n",
       "Sample: 3</div><div><img width=\"80\" height=\"80\" style=\"image-rendering:pixelated; object-fit:cover;\" src=\"data:image/png;base64,iVBORw0KGgoAAAANSUhEUgAAAAIAAAACCAIAAAD91JpzAAAAFUlEQVR4nAXBAQEAAACAEP9PF1CpMCnkBftM2nerAAAAAElFTkSuQmCC\"/></div></div></div></td><td><div style=\"display:flex; align-items:left;\">\n",
       "      <div style=\"display:flex; flex-direction:column; align-items:center;\">\n",
       "      <div>Iteration: 1400\n",
       "Sample: 4</div><div><img width=\"80\" height=\"80\" style=\"image-rendering:pixelated; object-fit:cover;\" src=\"data:image/png;base64,iVBORw0KGgoAAAANSUhEUgAAAAIAAAACCAIAAAD91JpzAAAAFklEQVR4nGNgYGD4//8/w////1NSUgAsPAcnPJH12AAAAABJRU5ErkJggg==\"/></div></div></div></td></tr></table><table class=\"show_images\" style=\"border-spacing:0;\"><tr><td><div style=\"display:flex; align-items:left;\">\n",
       "      <div style=\"display:flex; flex-direction:column; align-items:center;\">\n",
       "      <div>Iteration: 1600\n",
       "Sample: 0</div><div><img width=\"80\" height=\"80\" style=\"image-rendering:pixelated; object-fit:cover;\" src=\"data:image/png;base64,iVBORw0KGgoAAAANSUhEUgAAAAIAAAACCAIAAAD91JpzAAAAFklEQVR4nGNgYGD4//8/w////4ODgwEr1gb07Fmy7wAAAABJRU5ErkJggg==\"/></div></div></div></td><td><div style=\"display:flex; align-items:left;\">\n",
       "      <div style=\"display:flex; flex-direction:column; align-items:center;\">\n",
       "      <div>Iteration: 1600\n",
       "Sample: 1</div><div><img width=\"80\" height=\"80\" style=\"image-rendering:pixelated; object-fit:cover;\" src=\"data:image/png;base64,iVBORw0KGgoAAAANSUhEUgAAAAIAAAACCAIAAAD91JpzAAAAFUlEQVR4nAXBAQEAAACAEP9PF1CpMCnkBftM2nerAAAAAElFTkSuQmCC\"/></div></div></div></td><td><div style=\"display:flex; align-items:left;\">\n",
       "      <div style=\"display:flex; flex-direction:column; align-items:center;\">\n",
       "      <div>Iteration: 1600\n",
       "Sample: 2</div><div><img width=\"80\" height=\"80\" style=\"image-rendering:pixelated; object-fit:cover;\" src=\"data:image/png;base64,iVBORw0KGgoAAAANSUhEUgAAAAIAAAACCAIAAAD91JpzAAAAFUlEQVR4nAXBAQEAAACAEP9PF1CpMCnkBftM2nerAAAAAElFTkSuQmCC\"/></div></div></div></td><td><div style=\"display:flex; align-items:left;\">\n",
       "      <div style=\"display:flex; flex-direction:column; align-items:center;\">\n",
       "      <div>Iteration: 1600\n",
       "Sample: 3</div><div><img width=\"80\" height=\"80\" style=\"image-rendering:pixelated; object-fit:cover;\" src=\"data:image/png;base64,iVBORw0KGgoAAAANSUhEUgAAAAIAAAACCAIAAAD91JpzAAAAFUlEQVR4nAXBAQEAAACAEP9PF1CpMCnkBftM2nerAAAAAElFTkSuQmCC\"/></div></div></div></td><td><div style=\"display:flex; align-items:left;\">\n",
       "      <div style=\"display:flex; flex-direction:column; align-items:center;\">\n",
       "      <div>Iteration: 1600\n",
       "Sample: 4</div><div><img width=\"80\" height=\"80\" style=\"image-rendering:pixelated; object-fit:cover;\" src=\"data:image/png;base64,iVBORw0KGgoAAAANSUhEUgAAAAIAAAACCAIAAAD91JpzAAAAFklEQVR4nGNgYGD4//8/w/////Pz8wEsfgdINjMEEgAAAABJRU5ErkJggg==\"/></div></div></div></td></tr></table><table class=\"show_images\" style=\"border-spacing:0;\"><tr><td><div style=\"display:flex; align-items:left;\">\n",
       "      <div style=\"display:flex; flex-direction:column; align-items:center;\">\n",
       "      <div>Iteration: 1800\n",
       "Sample: 0</div><div><img width=\"80\" height=\"80\" style=\"image-rendering:pixelated; object-fit:cover;\" src=\"data:image/png;base64,iVBORw0KGgoAAAANSUhEUgAAAAIAAAACCAIAAAD91JpzAAAAFUlEQVR4nAXBAQEAAACAEP9PF1CpMCnkBftM2nerAAAAAElFTkSuQmCC\"/></div></div></div></td><td><div style=\"display:flex; align-items:left;\">\n",
       "      <div style=\"display:flex; flex-direction:column; align-items:center;\">\n",
       "      <div>Iteration: 1800\n",
       "Sample: 1</div><div><img width=\"80\" height=\"80\" style=\"image-rendering:pixelated; object-fit:cover;\" src=\"data:image/png;base64,iVBORw0KGgoAAAANSUhEUgAAAAIAAAACCAIAAAD91JpzAAAAFUlEQVR4nAXBAQEAAACAEP9PF1CpMCnkBftM2nerAAAAAElFTkSuQmCC\"/></div></div></div></td><td><div style=\"display:flex; align-items:left;\">\n",
       "      <div style=\"display:flex; flex-direction:column; align-items:center;\">\n",
       "      <div>Iteration: 1800\n",
       "Sample: 2</div><div><img width=\"80\" height=\"80\" style=\"image-rendering:pixelated; object-fit:cover;\" src=\"data:image/png;base64,iVBORw0KGgoAAAANSUhEUgAAAAIAAAACCAIAAAD91JpzAAAAFUlEQVR4nAXBAQEAAACAEP9PF1CpMCnkBftM2nerAAAAAElFTkSuQmCC\"/></div></div></div></td><td><div style=\"display:flex; align-items:left;\">\n",
       "      <div style=\"display:flex; flex-direction:column; align-items:center;\">\n",
       "      <div>Iteration: 1800\n",
       "Sample: 3</div><div><img width=\"80\" height=\"80\" style=\"image-rendering:pixelated; object-fit:cover;\" src=\"data:image/png;base64,iVBORw0KGgoAAAANSUhEUgAAAAIAAAACCAIAAAD91JpzAAAAFklEQVR4nGNgYGD4//8/w////zk5OQEqGgYW+jbTaAAAAABJRU5ErkJggg==\"/></div></div></div></td><td><div style=\"display:flex; align-items:left;\">\n",
       "      <div style=\"display:flex; flex-direction:column; align-items:center;\">\n",
       "      <div>Iteration: 1800\n",
       "Sample: 4</div><div><img width=\"80\" height=\"80\" style=\"image-rendering:pixelated; object-fit:cover;\" src=\"data:image/png;base64,iVBORw0KGgoAAAANSUhEUgAAAAIAAAACCAIAAAD91JpzAAAAFUlEQVR4nAXBAQEAAACAEP9PF1CpMCnkBftM2nerAAAAAElFTkSuQmCC\"/></div></div></div></td></tr></table>"
      ],
      "text/plain": [
       "<IPython.core.display.HTML object>"
      ]
     },
     "metadata": {},
     "output_type": "display_data"
    }
   ],
   "source": [
    "images = {}\n",
    "\n",
    "for i in range(0, N_ITER, STEP):\n",
    "    for sample in range(5):\n",
    "        images[f'Iteration: {i}\\nSample: {sample}'] = samples_saved[i][sample].reshape(2, 2)\n",
    "    \n",
    "media.show_images(images, border=False, columns=5, height=80, cmap='Greys')"
   ]
  },
  {
   "cell_type": "code",
   "execution_count": null,
   "id": "8b7303f9",
   "metadata": {},
   "outputs": [],
   "source": []
  }
 ],
 "metadata": {
  "kernelspec": {
   "display_name": "Python 3",
   "language": "python",
   "name": "python3"
  },
  "language_info": {
   "codemirror_mode": {
    "name": "ipython",
    "version": 3
   },
   "file_extension": ".py",
   "mimetype": "text/x-python",
   "name": "python",
   "nbconvert_exporter": "python",
   "pygments_lexer": "ipython3",
   "version": "3.8.8"
  }
 },
 "nbformat": 4,
 "nbformat_minor": 5
}
