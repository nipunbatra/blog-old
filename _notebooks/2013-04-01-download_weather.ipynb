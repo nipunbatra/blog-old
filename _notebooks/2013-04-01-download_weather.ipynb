{
 "cells": [
  {
   "cell_type": "markdown",
   "metadata": {},
   "source": [
    "# Downloading weather data\n",
    "> Simple scripts for downloading weather data\n",
    "\n",
    "- toc: true \n",
    "- badges: true\n",
    "- comments: true\n",
    "- author: Nipun Batra\n",
    "- categories: [visualisation]"
   ]
  },
  {
   "cell_type": "markdown",
   "metadata": {},
   "source": [
    "In this notebook, I'll write a small illustration on downloading historical weather data using [forceast.io](http://forecast.io/#/f/45.6453,-122.2508). I'll also illustrate handling timezone issues when using such time series data. I am going to use python-forecastio, which is a Python wrapper around forecast.io service. I'll be downloading hourly weather data for Austin, Texas."
   ]
  },
  {
   "cell_type": "code",
   "execution_count": 1,
   "metadata": {
    "collapsed": true
   },
   "outputs": [],
   "source": [
    "import datetime\n",
    "import pandas as pd\n",
    "import forecastio\n",
    "import getpass"
   ]
  },
  {
   "cell_type": "code",
   "execution_count": 5,
   "metadata": {},
   "outputs": [
    {
     "name": "stdout",
     "output_type": "stream",
     "text": [
      "········\n"
     ]
    }
   ],
   "source": [
    "# Enter your API here\n",
    "api_key = getpass.getpass()"
   ]
  },
  {
   "cell_type": "code",
   "execution_count": 7,
   "metadata": {},
   "outputs": [
    {
     "data": {
      "text/plain": [
       "32"
      ]
     },
     "execution_count": 7,
     "metadata": {},
     "output_type": "execute_result"
    }
   ],
   "source": [
    "len(api_key)"
   ]
  },
  {
   "cell_type": "markdown",
   "metadata": {},
   "source": [
    "Austin's Latitude and longitude"
   ]
  },
  {
   "cell_type": "code",
   "execution_count": 8,
   "metadata": {
    "collapsed": true
   },
   "outputs": [],
   "source": [
    "lat = 30.25\n",
    "lng = -97.25"
   ]
  },
  {
   "cell_type": "markdown",
   "metadata": {},
   "source": [
    "Let us see the forecast for 1 Jan 2015"
   ]
  },
  {
   "cell_type": "code",
   "execution_count": 9,
   "metadata": {
    "collapsed": true
   },
   "outputs": [],
   "source": [
    "date = datetime.datetime(2015,1,1)"
   ]
  },
  {
   "cell_type": "code",
   "execution_count": 10,
   "metadata": {
    "collapsed": true
   },
   "outputs": [],
   "source": [
    "forecast = forecastio.load_forecast(api_key, lat, lng, time=date, units=\"us\")"
   ]
  },
  {
   "cell_type": "code",
   "execution_count": 11,
   "metadata": {},
   "outputs": [
    {
     "data": {
      "text/plain": [
       "<forecastio.models.Forecast at 0x10319ce50>"
      ]
     },
     "execution_count": 11,
     "metadata": {},
     "output_type": "execute_result"
    }
   ],
   "source": [
    "forecast"
   ]
  },
  {
   "cell_type": "code",
   "execution_count": 12,
   "metadata": {
    "collapsed": true
   },
   "outputs": [],
   "source": [
    "hourly = forecast.hourly()"
   ]
  },
  {
   "cell_type": "code",
   "execution_count": 16,
   "metadata": {},
   "outputs": [
    {
     "data": {
      "text/plain": [
       "[<forecastio.models.ForecastioDataPoint at 0x1068643d0>,\n",
       " <forecastio.models.ForecastioDataPoint at 0x106864bd0>,\n",
       " <forecastio.models.ForecastioDataPoint at 0x106864ad0>,\n",
       " <forecastio.models.ForecastioDataPoint at 0x106864cd0>,\n",
       " <forecastio.models.ForecastioDataPoint at 0x106864fd0>,\n",
       " <forecastio.models.ForecastioDataPoint at 0x106864d10>,\n",
       " <forecastio.models.ForecastioDataPoint at 0x100734e10>,\n",
       " <forecastio.models.ForecastioDataPoint at 0x1061e3450>,\n",
       " <forecastio.models.ForecastioDataPoint at 0x1061e3350>,\n",
       " <forecastio.models.ForecastioDataPoint at 0x1068b3250>,\n",
       " <forecastio.models.ForecastioDataPoint at 0x1068b3110>,\n",
       " <forecastio.models.ForecastioDataPoint at 0x1068b3150>,\n",
       " <forecastio.models.ForecastioDataPoint at 0x1068b3190>,\n",
       " <forecastio.models.ForecastioDataPoint at 0x1068b31d0>,\n",
       " <forecastio.models.ForecastioDataPoint at 0x1068b3210>,\n",
       " <forecastio.models.ForecastioDataPoint at 0x1068b3fd0>,\n",
       " <forecastio.models.ForecastioDataPoint at 0x1068b3dd0>,\n",
       " <forecastio.models.ForecastioDataPoint at 0x1068b3e10>,\n",
       " <forecastio.models.ForecastioDataPoint at 0x1068b3e50>,\n",
       " <forecastio.models.ForecastioDataPoint at 0x1068b3f50>,\n",
       " <forecastio.models.ForecastioDataPoint at 0x1068c84d0>,\n",
       " <forecastio.models.ForecastioDataPoint at 0x1068c8390>,\n",
       " <forecastio.models.ForecastioDataPoint at 0x1068c8510>,\n",
       " <forecastio.models.ForecastioDataPoint at 0x1068c8550>]"
      ]
     },
     "execution_count": 16,
     "metadata": {},
     "output_type": "execute_result"
    }
   ],
   "source": [
    "hourly.data"
   ]
  },
  {
   "cell_type": "markdown",
   "metadata": {},
   "source": [
    "Extracting data for a single hour."
   ]
  },
  {
   "cell_type": "code",
   "execution_count": 18,
   "metadata": {},
   "outputs": [
    {
     "data": {
      "text/plain": [
       "{u'apparentTemperature': 32.57,\n",
       " u'dewPoint': 33.39,\n",
       " u'humidity': 0.79,\n",
       " u'icon': u'clear-night',\n",
       " u'precipIntensity': 0,\n",
       " u'precipProbability': 0,\n",
       " u'pressure': 1032.61,\n",
       " u'summary': u'Clear',\n",
       " u'temperature': 39.46,\n",
       " u'time': 1420005600,\n",
       " u'visibility': 10,\n",
       " u'windBearing': 21,\n",
       " u'windSpeed': 10.95}"
      ]
     },
     "execution_count": 18,
     "metadata": {},
     "output_type": "execute_result"
    }
   ],
   "source": [
    "hourly.data[0].d"
   ]
  },
  {
   "cell_type": "markdown",
   "metadata": {},
   "source": [
    "Let us say that we want to use the temperature and humidity only."
   ]
  },
  {
   "cell_type": "code",
   "execution_count": 19,
   "metadata": {
    "collapsed": true
   },
   "outputs": [],
   "source": [
    "attributes = [\"temperature\", \"humidity\"]"
   ]
  },
  {
   "cell_type": "code",
   "execution_count": 20,
   "metadata": {
    "collapsed": true
   },
   "outputs": [],
   "source": [
    "times = []\n",
    "data = {}\n",
    "for attr in attributes:\n",
    "    data[attr] = []"
   ]
  },
  {
   "cell_type": "markdown",
   "metadata": {},
   "source": [
    "Now, let us download hourly data for 30 days staring January 1 this year."
   ]
  },
  {
   "cell_type": "code",
   "execution_count": 21,
   "metadata": {
    "collapsed": true
   },
   "outputs": [],
   "source": [
    "start = datetime.datetime(2015, 1, 1)\n",
    "for offset in range(1, 60):\n",
    "    forecast = forecastio.load_forecast(api_key, lat, lng, time=start+datetime.timedelta(offset), units=\"us\")\n",
    "    h = forecast.hourly()\n",
    "    d = h.data\n",
    "    for p in d:\n",
    "        times.append(p.time)\n",
    "        for attr in attributes:\n",
    "            data[attr].append(p.d[attr])"
   ]
  },
  {
   "cell_type": "markdown",
   "metadata": {},
   "source": [
    "Now, let us create a Pandas data frame for this time series data."
   ]
  },
  {
   "cell_type": "code",
   "execution_count": 22,
   "metadata": {
    "collapsed": true
   },
   "outputs": [],
   "source": [
    "df = pd.DataFrame(data, index=times)"
   ]
  },
  {
   "cell_type": "code",
   "execution_count": 23,
   "metadata": {},
   "outputs": [
    {
     "data": {
      "text/html": [
       "<div style=\"max-height:1000px;max-width:1500px;overflow:auto;\">\n",
       "<table border=\"1\" class=\"dataframe\">\n",
       "  <thead>\n",
       "    <tr style=\"text-align: right;\">\n",
       "      <th></th>\n",
       "      <th>humidity</th>\n",
       "      <th>temperature</th>\n",
       "    </tr>\n",
       "  </thead>\n",
       "  <tbody>\n",
       "    <tr>\n",
       "      <th>2015-01-01 11:30:00</th>\n",
       "      <td>0.73</td>\n",
       "      <td>38.74</td>\n",
       "    </tr>\n",
       "    <tr>\n",
       "      <th>2015-01-01 12:30:00</th>\n",
       "      <td>0.74</td>\n",
       "      <td>38.56</td>\n",
       "    </tr>\n",
       "    <tr>\n",
       "      <th>2015-01-01 13:30:00</th>\n",
       "      <td>0.75</td>\n",
       "      <td>38.56</td>\n",
       "    </tr>\n",
       "    <tr>\n",
       "      <th>2015-01-01 14:30:00</th>\n",
       "      <td>0.79</td>\n",
       "      <td>37.97</td>\n",
       "    </tr>\n",
       "    <tr>\n",
       "      <th>2015-01-01 15:30:00</th>\n",
       "      <td>0.80</td>\n",
       "      <td>37.78</td>\n",
       "    </tr>\n",
       "  </tbody>\n",
       "</table>\n",
       "</div>"
      ],
      "text/plain": [
       "                     humidity  temperature\n",
       "2015-01-01 11:30:00      0.73        38.74\n",
       "2015-01-01 12:30:00      0.74        38.56\n",
       "2015-01-01 13:30:00      0.75        38.56\n",
       "2015-01-01 14:30:00      0.79        37.97\n",
       "2015-01-01 15:30:00      0.80        37.78"
      ]
     },
     "execution_count": 23,
     "metadata": {},
     "output_type": "execute_result"
    }
   ],
   "source": [
    "df.head()"
   ]
  },
  {
   "cell_type": "markdown",
   "metadata": {},
   "source": [
    "Now, we need to fix the timezone. "
   ]
  },
  {
   "cell_type": "code",
   "execution_count": 24,
   "metadata": {
    "collapsed": true
   },
   "outputs": [],
   "source": [
    "df = df.tz_localize(\"Asia/Kolkata\").tz_convert(\"US/Central\")"
   ]
  },
  {
   "cell_type": "code",
   "execution_count": 25,
   "metadata": {},
   "outputs": [
    {
     "data": {
      "text/html": [
       "<div style=\"max-height:1000px;max-width:1500px;overflow:auto;\">\n",
       "<table border=\"1\" class=\"dataframe\">\n",
       "  <thead>\n",
       "    <tr style=\"text-align: right;\">\n",
       "      <th></th>\n",
       "      <th>humidity</th>\n",
       "      <th>temperature</th>\n",
       "    </tr>\n",
       "  </thead>\n",
       "  <tbody>\n",
       "    <tr>\n",
       "      <th>2015-01-01 00:00:00-06:00</th>\n",
       "      <td>0.73</td>\n",
       "      <td>38.74</td>\n",
       "    </tr>\n",
       "    <tr>\n",
       "      <th>2015-01-01 01:00:00-06:00</th>\n",
       "      <td>0.74</td>\n",
       "      <td>38.56</td>\n",
       "    </tr>\n",
       "    <tr>\n",
       "      <th>2015-01-01 02:00:00-06:00</th>\n",
       "      <td>0.75</td>\n",
       "      <td>38.56</td>\n",
       "    </tr>\n",
       "    <tr>\n",
       "      <th>2015-01-01 03:00:00-06:00</th>\n",
       "      <td>0.79</td>\n",
       "      <td>37.97</td>\n",
       "    </tr>\n",
       "    <tr>\n",
       "      <th>2015-01-01 04:00:00-06:00</th>\n",
       "      <td>0.80</td>\n",
       "      <td>37.78</td>\n",
       "    </tr>\n",
       "  </tbody>\n",
       "</table>\n",
       "</div>"
      ],
      "text/plain": [
       "                           humidity  temperature\n",
       "2015-01-01 00:00:00-06:00      0.73        38.74\n",
       "2015-01-01 01:00:00-06:00      0.74        38.56\n",
       "2015-01-01 02:00:00-06:00      0.75        38.56\n",
       "2015-01-01 03:00:00-06:00      0.79        37.97\n",
       "2015-01-01 04:00:00-06:00      0.80        37.78"
      ]
     },
     "execution_count": 25,
     "metadata": {},
     "output_type": "execute_result"
    }
   ],
   "source": [
    "df.head()"
   ]
  },
  {
   "cell_type": "markdown",
   "metadata": {},
   "source": [
    "I'll now export this file to a CSV to use it for following demonstrations on aggregations on time series."
   ]
  },
  {
   "cell_type": "code",
   "execution_count": 26,
   "metadata": {
    "collapsed": true
   },
   "outputs": [],
   "source": [
    "df.to_csv(\"weather.csv\")"
   ]
  },
  {
   "cell_type": "markdown",
   "metadata": {},
   "source": [
    "A quick validation of our downloaded data."
   ]
  },
  {
   "cell_type": "code",
   "execution_count": 27,
   "metadata": {
    "collapsed": true
   },
   "outputs": [],
   "source": [
    "%matplotlib inline\n",
    "import matplotlib.pyplot as plt\n",
    "plt.style.use('ggplot')"
   ]
  },
  {
   "cell_type": "code",
   "execution_count": 29,
   "metadata": {},
   "outputs": [
    {
     "data": {
      "image/png": "[encoded data removed]",
      "text/plain": [
       "<matplotlib.figure.Figure at 0x1096ef050>"
      ]
     },
     "metadata": {},
     "output_type": "display_data"
    }
   ],
   "source": [
    "df.plot(subplots=True);"
   ]
  }
 ],
 "metadata": {
  "kernelspec": {
   "display_name": "Python 3",
   "language": "python",
   "name": "python3"
  },
  "language_info": {
   "codemirror_mode": {
    "name": "ipython",
    "version": 3
   },
   "file_extension": ".py",
   "mimetype": "text/x-python",
   "name": "python",
   "nbconvert_exporter": "python",
   "pygments_lexer": "ipython3",
   "version": "3.7.4"
  }
 },
 "nbformat": 4,
 "nbformat_minor": 1
}
