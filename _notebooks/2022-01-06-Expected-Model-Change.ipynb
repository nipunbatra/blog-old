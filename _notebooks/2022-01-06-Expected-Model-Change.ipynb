{
 "cells": [
  {
   "cell_type": "markdown",
   "metadata": {},
   "source": [
    "# Expected Model Change\n",
    "\n",
    "- toc: true \n",
    "- badges: true\n",
    "- comments: true\n",
    "- author: Nipun Batra\n",
    "- categories: [ML]"
   ]
  },
  {
   "cell_type": "code",
   "execution_count": 34,
   "metadata": {},
   "outputs": [],
   "source": [
    "import numpy as np\n",
    "import matplotlib.pyplot as plt\n",
    "%matplotlib inline"
   ]
  },
  {
   "cell_type": "code",
   "execution_count": 35,
   "metadata": {},
   "outputs": [],
   "source": [
    "from sklearn.datasets import load_digits"
   ]
  },
  {
   "cell_type": "code",
   "execution_count": 36,
   "metadata": {},
   "outputs": [],
   "source": [
    "X, y= load_digits(n_class=2, return_X_y=True)"
   ]
  },
  {
   "cell_type": "code",
   "execution_count": 37,
   "metadata": {},
   "outputs": [
    {
     "data": {
      "text/plain": [
       "<matplotlib.image.AxesImage at 0x7f90a3c01340>"
      ]
     },
     "execution_count": 37,
     "metadata": {},
     "output_type": "execute_result"
    },
    {
     "data": {
      "image/png": "[encoded data removed]",
      "text/plain": [
       "<Figure size 432x288 with 1 Axes>"
      ]
     },
     "metadata": {
      "needs_background": "light"
     },
     "output_type": "display_data"
    }
   ],
   "source": [
    "plt.imshow(X[4].reshape(8, 8))"
   ]
  },
  {
   "cell_type": "code",
   "execution_count": 62,
   "metadata": {},
   "outputs": [
    {
     "name": "stdout",
     "output_type": "stream",
     "text": [
      "Net(\n",
      "  (fc1): Linear(in_features=64, out_features=2, bias=True)\n",
      ")\n"
     ]
    }
   ],
   "source": [
    "import torch\n",
    "import torch.nn as nn\n",
    "import torch.nn.functional as F\n",
    "\n",
    "\n",
    "class Net(nn.Module):\n",
    "\n",
    "    def __init__(self):\n",
    "        super(Net, self).__init__()\n",
    "        self.fc1 = nn.Linear(64, 2)  # 5*5 from image dimension\n",
    "\n",
    "    def forward(self, x):\n",
    "       \n",
    "        x = F.relu(self.fc1(x))\n",
    "\n",
    "        #x = self.fc2(x)\n",
    "        return x\n",
    "\n",
    "\n",
    "net = Net()\n",
    "print(net)"
   ]
  },
  {
   "cell_type": "code",
   "execution_count": 63,
   "metadata": {},
   "outputs": [],
   "source": [
    "import torch.optim as optim\n",
    "\n",
    "criterion = nn.CrossEntropyLoss()\n",
    "optimizer = optim.SGD(net.parameters(), lr=0.01)"
   ]
  },
  {
   "cell_type": "code",
   "execution_count": 64,
   "metadata": {},
   "outputs": [
    {
     "name": "stdout",
     "output_type": "stream",
     "text": [
      "[1,     1] loss: 0.707\n",
      "[1,     6] loss: 0.610\n",
      "[1,    11] loss: 0.693\n",
      "[1,    16] loss: 0.693\n",
      "[1,    21] loss: 0.693\n",
      "[1,    26] loss: 0.579\n",
      "[1,    31] loss: 0.318\n",
      "[1,    36] loss: 0.297\n",
      "[1,    41] loss: 0.281\n",
      "[1,    46] loss: 0.683\n",
      "[1,    51] loss: 0.589\n",
      "[1,    56] loss: 0.462\n",
      "[1,    61] loss: 0.382\n",
      "[1,    66] loss: 0.283\n",
      "[1,    71] loss: 0.693\n",
      "[1,    76] loss: 0.956\n",
      "[1,    81] loss: 0.689\n",
      "[1,    86] loss: 0.311\n",
      "[1,    91] loss: 0.329\n",
      "[1,    96] loss: 0.693\n",
      "[2,     1] loss: 0.542\n",
      "[2,     6] loss: 0.416\n",
      "[2,    11] loss: 0.310\n",
      "[2,    16] loss: 0.278\n",
      "[2,    21] loss: 0.558\n",
      "[2,    26] loss: 0.278\n",
      "[2,    31] loss: 0.279\n",
      "[2,    36] loss: 0.285\n",
      "[2,    41] loss: 0.281\n",
      "[2,    46] loss: 0.555\n",
      "[2,    51] loss: 0.278\n",
      "[2,    56] loss: 0.279\n",
      "[2,    61] loss: 0.279\n",
      "[2,    66] loss: 0.278\n",
      "[2,    71] loss: 0.693\n",
      "[2,    76] loss: 0.283\n",
      "[2,    81] loss: 0.280\n",
      "[2,    86] loss: 0.285\n",
      "[2,    91] loss: 0.279\n",
      "[2,    96] loss: 0.571\n",
      "[3,     1] loss: 0.303\n",
      "[3,     6] loss: 0.416\n",
      "[3,    11] loss: 0.297\n",
      "[3,    16] loss: 0.278\n",
      "[3,    21] loss: 0.558\n",
      "[3,    26] loss: 0.278\n",
      "[3,    31] loss: 0.279\n",
      "[3,    36] loss: 0.284\n",
      "[3,    41] loss: 0.281\n",
      "[3,    46] loss: 0.555\n",
      "[3,    51] loss: 0.278\n",
      "[3,    56] loss: 0.279\n",
      "[3,    61] loss: 0.279\n",
      "[3,    66] loss: 0.278\n",
      "[3,    71] loss: 0.693\n",
      "[3,    76] loss: 0.278\n",
      "[3,    81] loss: 0.277\n",
      "[3,    86] loss: 0.278\n",
      "[3,    91] loss: 0.277\n",
      "[3,    96] loss: 0.555\n"
     ]
    }
   ],
   "source": [
    "for epoch in range(3):  # loop over the dataset multiple times\n",
    "\n",
    "    running_loss = 0.0\n",
    "    for i in range(0, 100, 5):\n",
    "        inputs = torch.Tensor(X[i:i+5])\n",
    "        labels = torch.Tensor(y[i:i+5]).type(torch.LongTensor)\n",
    "\n",
    "        # zero the parameter gradients\n",
    "        optimizer.zero_grad()\n",
    "\n",
    "        # forward + backward + optimize\n",
    "        outputs = net(inputs)\n",
    "        loss = criterion(outputs, labels)\n",
    "        loss.backward()\n",
    "        optimizer.step()\n",
    "\n",
    "        # print statistics\n",
    "        running_loss += loss.item()\n",
    "        \n",
    "        print('[%d, %5d] loss: %.3f' %\n",
    "              (epoch + 1, i + 1, running_loss))\n",
    "        running_loss = 0.0\n",
    "\n"
   ]
  },
  {
   "cell_type": "code",
   "execution_count": 69,
   "metadata": {},
   "outputs": [],
   "source": [
    "y_hat = torch.argmax(net(torch.Tensor(X[105:])), axis=1)"
   ]
  },
  {
   "cell_type": "code",
   "execution_count": 70,
   "metadata": {},
   "outputs": [],
   "source": [
    "y_true = y[105:]"
   ]
  },
  {
   "cell_type": "code",
   "execution_count": 71,
   "metadata": {},
   "outputs": [],
   "source": [
    "from sklearn.metrics import accuracy_score"
   ]
  },
  {
   "cell_type": "code",
   "execution_count": 72,
   "metadata": {},
   "outputs": [
    {
     "data": {
      "text/plain": [
       "0.49019607843137253"
      ]
     },
     "execution_count": 72,
     "metadata": {},
     "output_type": "execute_result"
    }
   ],
   "source": [
    "accuracy_score(y_true, y_hat)"
   ]
  },
  {
   "cell_type": "code",
   "execution_count": 90,
   "metadata": {},
   "outputs": [],
   "source": [
    "inp = torch.tensor(X[106:107]).type(torch.FloatTensor)\n",
    "out = net(inp)\n",
    "c = criterion(out, torch.Tensor(y[106:107]).type(torch.LongTensor))\n",
    "c.backward()"
   ]
  },
  {
   "cell_type": "code",
   "execution_count": 93,
   "metadata": {},
   "outputs": [
    {
     "name": "stderr",
     "output_type": "stream",
     "text": [
      "<ipython-input-93-68a08c2d82be>:1: UserWarning: The .grad attribute of a Tensor that is not a leaf Tensor is being accessed. Its .grad attribute won't be populated during autograd.backward(). If you indeed want the .grad field to be populated for a non-leaf Tensor, use .retain_grad() on the non-leaf Tensor. If you access the non-leaf Tensor by mistake, make sure you access the leaf Tensor instead. See github.com/pytorch/pytorch/pull/30531 for more informations. (Triggered internally at  aten/src/ATen/core/TensorBody.h:417.)\n",
      "  c._grad\n"
     ]
    }
   ],
   "source": [
    "c._grad"
   ]
  },
  {
   "cell_type": "code",
   "execution_count": null,
   "metadata": {},
   "outputs": [],
   "source": []
  }
 ],
 "metadata": {
  "kernelspec": {
   "display_name": "Python 3",
   "language": "python",
   "name": "python3"
  },
  "language_info": {
   "codemirror_mode": {
    "name": "ipython",
    "version": 3
   },
   "file_extension": ".py",
   "mimetype": "text/x-python",
   "name": "python",
   "nbconvert_exporter": "python",
   "pygments_lexer": "ipython3",
   "version": "3.8.11"
  }
 },
 "nbformat": 4,
 "nbformat_minor": 2
}
