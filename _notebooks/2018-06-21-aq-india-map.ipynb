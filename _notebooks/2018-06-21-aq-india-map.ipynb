{
 "cells": [
  {
   "cell_type": "markdown",
   "metadata": {},
   "source": [
    "# Mapping location of air quality sensing in India\n",
    "> AQ sensing in India\n",
    "\n",
    "- toc: true \n",
    "- badges: true\n",
    "- comments: true\n",
    "- author: Nipun Batra\n",
    "- categories: [air quality]"
   ]
  },
  {
   "cell_type": "markdown",
   "metadata": {},
   "source": [
    "In this notebook, I'll show a quick example of how to use Folium (which internally uses LeafletJS) for visualising the location of air quality monitors in India. The purpose of this notebook is eductional in nature."
   ]
  },
  {
   "cell_type": "markdown",
   "metadata": {},
   "source": [
    "### Standard Imports"
   ]
  },
  {
   "cell_type": "code",
   "execution_count": 1,
   "metadata": {},
   "outputs": [],
   "source": [
    "import numpy as np\n",
    "import matplotlib.pyplot as plt\n",
    "import pandas as pd\n",
    "%matplotlib inline"
   ]
  },
  {
   "cell_type": "markdown",
   "metadata": {},
   "source": [
    "### Downloading data from OpenAQ for 2018-04-06"
   ]
  },
  {
   "cell_type": "code",
   "execution_count": 2,
   "metadata": {},
   "outputs": [
    {
     "name": "stdout",
     "output_type": "stream",
     "text": [
      "--2020-02-29 17:52:50--  https://openaq-data.s3.amazonaws.com/2018-04-06.csv\n",
      "Resolving openaq-data.s3.amazonaws.com (openaq-data.s3.amazonaws.com)... 52.216.99.123\n",
      "Connecting to openaq-data.s3.amazonaws.com (openaq-data.s3.amazonaws.com)|52.216.99.123|:443... connected.\n",
      "WARNING: cannot verify openaq-data.s3.amazonaws.com's certificate, issued by ‘CN=DigiCert Baltimore CA-2 G2,OU=www.digicert.com,O=DigiCert Inc,C=US’:\n",
      "  Unable to locally verify the issuer's authority.\n",
      "HTTP request sent, awaiting response... 200 OK\n",
      "Length: 133839107 (128M) [text/csv]\n",
      "Saving to: ‘/Users/nipun/Downloads/2018-04-06.csv.1’\n",
      "\n",
      "2018-04-06.csv.1     37%[======>             ]  47.37M  3.79MB/s    eta 40s    ^C\n"
     ]
    }
   ],
   "source": [
    "!wget --no-check-certificate https://openaq-data.s3.amazonaws.com/2018-04-06.csv -P /Users/nipun/Downloads/"
   ]
  },
  {
   "cell_type": "code",
   "execution_count": 3,
   "metadata": {},
   "outputs": [],
   "source": [
    "import pandas as pd\n",
    "df = pd.read_csv(\"/Users/nipun/Downloads/2018-04-06.csv\")\n",
    "df = df[(df.country=='IN')&(df.parameter=='pm25')].dropna().groupby(\"location\").mean()"
   ]
  },
  {
   "cell_type": "code",
   "execution_count": 4,
   "metadata": {},
   "outputs": [
    {
     "data": {
      "text/html": [
       "<div>\n",
       "<style scoped>\n",
       "    .dataframe tbody tr th:only-of-type {\n",
       "        vertical-align: middle;\n",
       "    }\n",
       "\n",
       "    .dataframe tbody tr th {\n",
       "        vertical-align: top;\n",
       "    }\n",
       "\n",
       "    .dataframe thead th {\n",
       "        text-align: right;\n",
       "    }\n",
       "</style>\n",
       "<table border=\"1\" class=\"dataframe\">\n",
       "  <thead>\n",
       "    <tr style=\"text-align: right;\">\n",
       "      <th></th>\n",
       "      <th>value</th>\n",
       "      <th>latitude</th>\n",
       "      <th>longitude</th>\n",
       "    </tr>\n",
       "    <tr>\n",
       "      <th>location</th>\n",
       "      <th></th>\n",
       "      <th></th>\n",
       "      <th></th>\n",
       "    </tr>\n",
       "  </thead>\n",
       "  <tbody>\n",
       "    <tr>\n",
       "      <td>Adarsh Nagar, Jaipur - RSPCB</td>\n",
       "      <td>79.916667</td>\n",
       "      <td>26.902909</td>\n",
       "      <td>75.836853</td>\n",
       "    </tr>\n",
       "    <tr>\n",
       "      <td>Anand Kala Kshetram, Rajamahendravaram - APPCB</td>\n",
       "      <td>42.750000</td>\n",
       "      <td>16.987287</td>\n",
       "      <td>81.736318</td>\n",
       "    </tr>\n",
       "    <tr>\n",
       "      <td>Ardhali Bazar, Varanasi - UPPCB</td>\n",
       "      <td>103.666667</td>\n",
       "      <td>25.350599</td>\n",
       "      <td>82.908307</td>\n",
       "    </tr>\n",
       "    <tr>\n",
       "      <td>Asanol Court Area, Asanol - WBPCB</td>\n",
       "      <td>56.833333</td>\n",
       "      <td>23.685297</td>\n",
       "      <td>86.945968</td>\n",
       "    </tr>\n",
       "    <tr>\n",
       "      <td>Ashok Nagar, Udaipur - RSPCB</td>\n",
       "      <td>114.750000</td>\n",
       "      <td>24.588617</td>\n",
       "      <td>73.632140</td>\n",
       "    </tr>\n",
       "    <tr>\n",
       "      <td>...</td>\n",
       "      <td>...</td>\n",
       "      <td>...</td>\n",
       "      <td>...</td>\n",
       "    </tr>\n",
       "    <tr>\n",
       "      <td>Vasundhara, Ghaziabad, UP - UPPCB</td>\n",
       "      <td>223.333333</td>\n",
       "      <td>28.660335</td>\n",
       "      <td>77.357256</td>\n",
       "    </tr>\n",
       "    <tr>\n",
       "      <td>Vikas Sadan, Gurgaon, Haryana - HSPCB</td>\n",
       "      <td>280.250000</td>\n",
       "      <td>28.450124</td>\n",
       "      <td>77.026305</td>\n",
       "    </tr>\n",
       "    <tr>\n",
       "      <td>Vindhyachal STPS, Singrauli - MPPCB</td>\n",
       "      <td>144.000000</td>\n",
       "      <td>24.108970</td>\n",
       "      <td>82.645580</td>\n",
       "    </tr>\n",
       "    <tr>\n",
       "      <td>Ward-32 Bapupara, Siliguri - WBPCB</td>\n",
       "      <td>195.000000</td>\n",
       "      <td>26.688305</td>\n",
       "      <td>88.412668</td>\n",
       "    </tr>\n",
       "    <tr>\n",
       "      <td>Zoo Park, Hyderabad - TSPCB</td>\n",
       "      <td>82.500000</td>\n",
       "      <td>17.349694</td>\n",
       "      <td>78.451437</td>\n",
       "    </tr>\n",
       "  </tbody>\n",
       "</table>\n",
       "<p>79 rows × 3 columns</p>\n",
       "</div>"
      ],
      "text/plain": [
       "                                                     value   latitude  \\\n",
       "location                                                                \n",
       "Adarsh Nagar, Jaipur - RSPCB                     79.916667  26.902909   \n",
       "Anand Kala Kshetram, Rajamahendravaram - APPCB   42.750000  16.987287   \n",
       "Ardhali Bazar, Varanasi - UPPCB                 103.666667  25.350599   \n",
       "Asanol Court Area, Asanol - WBPCB                56.833333  23.685297   \n",
       "Ashok Nagar, Udaipur - RSPCB                    114.750000  24.588617   \n",
       "...                                                    ...        ...   \n",
       "Vasundhara, Ghaziabad, UP - UPPCB               223.333333  28.660335   \n",
       "Vikas Sadan, Gurgaon, Haryana - HSPCB           280.250000  28.450124   \n",
       "Vindhyachal STPS, Singrauli - MPPCB             144.000000  24.108970   \n",
       "Ward-32 Bapupara, Siliguri - WBPCB              195.000000  26.688305   \n",
       "Zoo Park, Hyderabad - TSPCB                      82.500000  17.349694   \n",
       "\n",
       "                                                longitude  \n",
       "location                                                   \n",
       "Adarsh Nagar, Jaipur - RSPCB                    75.836853  \n",
       "Anand Kala Kshetram, Rajamahendravaram - APPCB  81.736318  \n",
       "Ardhali Bazar, Varanasi - UPPCB                 82.908307  \n",
       "Asanol Court Area, Asanol - WBPCB               86.945968  \n",
       "Ashok Nagar, Udaipur - RSPCB                    73.632140  \n",
       "...                                                   ...  \n",
       "Vasundhara, Ghaziabad, UP - UPPCB               77.357256  \n",
       "Vikas Sadan, Gurgaon, Haryana - HSPCB           77.026305  \n",
       "Vindhyachal STPS, Singrauli - MPPCB             82.645580  \n",
       "Ward-32 Bapupara, Siliguri - WBPCB              88.412668  \n",
       "Zoo Park, Hyderabad - TSPCB                     78.451437  \n",
       "\n",
       "[79 rows x 3 columns]"
      ]
     },
     "execution_count": 4,
     "metadata": {},
     "output_type": "execute_result"
    }
   ],
   "source": [
    "df"
   ]
  },
  {
   "cell_type": "markdown",
   "metadata": {},
   "source": [
    "### Downloading World GeoJson file"
   ]
  },
  {
   "cell_type": "code",
   "execution_count": 5,
   "metadata": {},
   "outputs": [
    {
     "name": "stdout",
     "output_type": "stream",
     "text": [
      "--2020-02-29 17:53:17--  https://raw.githubusercontent.com/python-visualization/folium/master/examples/data/world-countries.json\n",
      "Resolving raw.githubusercontent.com (raw.githubusercontent.com)... 151.101.8.133\n",
      "Connecting to raw.githubusercontent.com (raw.githubusercontent.com)|151.101.8.133|:443... connected.\n",
      "WARNING: cannot verify raw.githubusercontent.com's certificate, issued by ‘CN=DigiCert SHA2 High Assurance Server CA,OU=www.digicert.com,O=DigiCert Inc,C=US’:\n",
      "  Unable to locally verify the issuer's authority.\n",
      "HTTP request sent, awaiting response... 200 OK\n",
      "Length: 252515 (247K) [text/plain]\n",
      "Saving to: ‘world-countries.json’\n",
      "\n",
      "world-countries.jso 100%[===================>] 246.60K   376KB/s    in 0.7s    \n",
      "\n",
      "2020-02-29 17:53:19 (376 KB/s) - ‘world-countries.json’ saved [252515/252515]\n",
      "\n"
     ]
    }
   ],
   "source": [
    "!wget --no-check-certificate https://raw.githubusercontent.com/python-visualization/folium/master/examples/data/world-countries.json"
   ]
  },
  {
   "cell_type": "markdown",
   "metadata": {},
   "source": [
    "### Creating india.json correspdonding to Indian data"
   ]
  },
  {
   "cell_type": "code",
   "execution_count": 12,
   "metadata": {},
   "outputs": [],
   "source": [
    "import json\n",
    "e = json.load(open('world-countries.json','r'))\n",
    "json.dump(e['features'][73], open('india.json','w'))"
   ]
  },
  {
   "cell_type": "code",
   "execution_count": 13,
   "metadata": {
    "scrolled": true
   },
   "outputs": [
    {
     "data": {
      "text/plain": [
       "<folium.features.GeoJson at 0x11e497bd0>"
      ]
     },
     "execution_count": 13,
     "metadata": {},
     "output_type": "execute_result"
    }
   ],
   "source": [
    "import folium\n",
    "\n",
    "folium_map = folium.Map(width = '60%',height=800,location=[20, 77],\n",
    "                        zoom_start=5,\n",
    "                        tiles=\"Stamen Terrain\",min_lat=7, max_lat=35, min_lon=73, max_lon=90)\n",
    "for x in df.iterrows():\n",
    "    name = x[0]\n",
    "    lat, lon = x[1]['latitude'], x[1]['longitude']\n",
    "    folium.CircleMarker([lat, lon], radius=5, color='#000000',fill_color='#D3D3D3' , fill_opacity=1).add_to(folium_map)\n",
    "\n",
    "folium.GeoJson('india.json').add_to(folium_map)"
   ]
  },
  {
   "cell_type": "code",
   "execution_count": 9,
   "metadata": {},
   "outputs": [],
   "source": [
    "folium_map.save(\"map.html\")"
   ]
  },
  {
   "cell_type": "markdown",
   "metadata": {},
   "source": [
    "![](https://nipunbatra.github.io/blog/images/map.png)"
   ]
  },
  {
   "cell_type": "markdown",
   "metadata": {},
   "source": [
    "There you go!Till next time."
   ]
  }
 ],
 "metadata": {
  "kernelspec": {
   "display_name": "Python 3",
   "language": "python",
   "name": "python3"
  },
  "language_info": {
   "codemirror_mode": {
    "name": "ipython",
    "version": 3
   },
   "file_extension": ".py",
   "mimetype": "text/x-python",
   "name": "python",
   "nbconvert_exporter": "python",
   "pygments_lexer": "ipython3",
   "version": "3.7.4"
  }
 },
 "nbformat": 4,
 "nbformat_minor": 2
}
