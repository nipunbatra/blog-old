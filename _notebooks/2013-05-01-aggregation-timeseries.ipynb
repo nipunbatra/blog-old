{
 "cells": [
  {
   "cell_type": "markdown",
   "metadata": {},
   "source": [
    "# Aggregation in Timeseries using Pandas\n",
    "> Pandas excellence in timeseries!\n",
    "\n",
    "- toc: true \n",
    "- badges: true\n",
    "- comments: true\n",
    "- author: Nipun Batra\n",
    "- categories: [visualisation]"
   ]
  },
  {
   "cell_type": "markdown",
   "metadata": {},
   "source": [
    "We've all grown up studying groupy by and aggregations in SQL. Pandas provides excellent functionality for group by and aggregations. However, for time series data, we need a bit of manipulation. In this post, I'll take a small example of weather time series data."
   ]
  },
  {
   "cell_type": "code",
   "execution_count": 1,
   "metadata": {
    "collapsed": true
   },
   "outputs": [],
   "source": [
    "import pandas as pd\n",
    "import matplotlib.pyplot as plt\n",
    "plt.style.use('ggplot')\n",
    "%matplotlib inline"
   ]
  },
  {
   "cell_type": "code",
   "execution_count": 2,
   "metadata": {},
   "outputs": [],
   "source": [
    "df = pd.read_csv(\"weather.csv\", index_col=0, parse_dates=True).tz_localize(\"UTC\").tz_convert(\"US/Central\")"
   ]
  },
  {
   "cell_type": "code",
   "execution_count": 3,
   "metadata": {},
   "outputs": [
    {
     "data": {
      "text/html": [
       "<div>\n",
       "<table border=\"1\" class=\"dataframe\">\n",
       "  <thead>\n",
       "    <tr style=\"text-align: right;\">\n",
       "      <th></th>\n",
       "      <th>humidity</th>\n",
       "      <th>temperature</th>\n",
       "    </tr>\n",
       "  </thead>\n",
       "  <tbody>\n",
       "    <tr>\n",
       "      <th>2015-01-01 00:00:00-06:00</th>\n",
       "      <td>0.73</td>\n",
       "      <td>38.74</td>\n",
       "    </tr>\n",
       "    <tr>\n",
       "      <th>2015-01-01 01:00:00-06:00</th>\n",
       "      <td>0.74</td>\n",
       "      <td>38.56</td>\n",
       "    </tr>\n",
       "    <tr>\n",
       "      <th>2015-01-01 02:00:00-06:00</th>\n",
       "      <td>0.75</td>\n",
       "      <td>38.56</td>\n",
       "    </tr>\n",
       "    <tr>\n",
       "      <th>2015-01-01 03:00:00-06:00</th>\n",
       "      <td>0.79</td>\n",
       "      <td>37.97</td>\n",
       "    </tr>\n",
       "    <tr>\n",
       "      <th>2015-01-01 04:00:00-06:00</th>\n",
       "      <td>0.80</td>\n",
       "      <td>37.78</td>\n",
       "    </tr>\n",
       "  </tbody>\n",
       "</table>\n",
       "</div>"
      ],
      "text/plain": [
       "                           humidity  temperature\n",
       "2015-01-01 00:00:00-06:00      0.73        38.74\n",
       "2015-01-01 01:00:00-06:00      0.74        38.56\n",
       "2015-01-01 02:00:00-06:00      0.75        38.56\n",
       "2015-01-01 03:00:00-06:00      0.79        37.97\n",
       "2015-01-01 04:00:00-06:00      0.80        37.78"
      ]
     },
     "execution_count": 3,
     "metadata": {},
     "output_type": "execute_result"
    }
   ],
   "source": [
    "df.head()"
   ]
  },
  {
   "cell_type": "markdown",
   "metadata": {},
   "source": [
    "### Question 1: What is the mean temperature and humidity per hour of the day?"
   ]
  },
  {
   "cell_type": "markdown",
   "metadata": {},
   "source": [
    "We'll create a new column in the df containing the hour information from the index."
   ]
  },
  {
   "cell_type": "code",
   "execution_count": 4,
   "metadata": {
    "collapsed": true
   },
   "outputs": [],
   "source": [
    "df[\"hour\"] = df.index.hour"
   ]
  },
  {
   "cell_type": "code",
   "execution_count": 5,
   "metadata": {},
   "outputs": [
    {
     "data": {
      "text/html": [
       "<div>\n",
       "<table border=\"1\" class=\"dataframe\">\n",
       "  <thead>\n",
       "    <tr style=\"text-align: right;\">\n",
       "      <th></th>\n",
       "      <th>humidity</th>\n",
       "      <th>temperature</th>\n",
       "      <th>hour</th>\n",
       "    </tr>\n",
       "  </thead>\n",
       "  <tbody>\n",
       "    <tr>\n",
       "      <th>2015-01-01 00:00:00-06:00</th>\n",
       "      <td>0.73</td>\n",
       "      <td>38.74</td>\n",
       "      <td>0</td>\n",
       "    </tr>\n",
       "    <tr>\n",
       "      <th>2015-01-01 01:00:00-06:00</th>\n",
       "      <td>0.74</td>\n",
       "      <td>38.56</td>\n",
       "      <td>1</td>\n",
       "    </tr>\n",
       "    <tr>\n",
       "      <th>2015-01-01 02:00:00-06:00</th>\n",
       "      <td>0.75</td>\n",
       "      <td>38.56</td>\n",
       "      <td>2</td>\n",
       "    </tr>\n",
       "    <tr>\n",
       "      <th>2015-01-01 03:00:00-06:00</th>\n",
       "      <td>0.79</td>\n",
       "      <td>37.97</td>\n",
       "      <td>3</td>\n",
       "    </tr>\n",
       "    <tr>\n",
       "      <th>2015-01-01 04:00:00-06:00</th>\n",
       "      <td>0.80</td>\n",
       "      <td>37.78</td>\n",
       "      <td>4</td>\n",
       "    </tr>\n",
       "  </tbody>\n",
       "</table>\n",
       "</div>"
      ],
      "text/plain": [
       "                           humidity  temperature  hour\n",
       "2015-01-01 00:00:00-06:00      0.73        38.74     0\n",
       "2015-01-01 01:00:00-06:00      0.74        38.56     1\n",
       "2015-01-01 02:00:00-06:00      0.75        38.56     2\n",
       "2015-01-01 03:00:00-06:00      0.79        37.97     3\n",
       "2015-01-01 04:00:00-06:00      0.80        37.78     4"
      ]
     },
     "execution_count": 5,
     "metadata": {},
     "output_type": "execute_result"
    }
   ],
   "source": [
    "df.head()"
   ]
  },
  {
   "cell_type": "code",
   "execution_count": 6,
   "metadata": {},
   "outputs": [
    {
     "data": {
      "text/html": [
       "<div>\n",
       "<table border=\"1\" class=\"dataframe\">\n",
       "  <thead>\n",
       "    <tr style=\"text-align: right;\">\n",
       "      <th></th>\n",
       "      <th>humidity</th>\n",
       "      <th>temperature</th>\n",
       "    </tr>\n",
       "    <tr>\n",
       "      <th>hour</th>\n",
       "      <th></th>\n",
       "      <th></th>\n",
       "    </tr>\n",
       "  </thead>\n",
       "  <tbody>\n",
       "    <tr>\n",
       "      <th>0</th>\n",
       "      <td>0.779322</td>\n",
       "      <td>45.976441</td>\n",
       "    </tr>\n",
       "    <tr>\n",
       "      <th>1</th>\n",
       "      <td>0.803898</td>\n",
       "      <td>44.859492</td>\n",
       "    </tr>\n",
       "    <tr>\n",
       "      <th>2</th>\n",
       "      <td>0.812203</td>\n",
       "      <td>44.244407</td>\n",
       "    </tr>\n",
       "    <tr>\n",
       "      <th>3</th>\n",
       "      <td>0.819153</td>\n",
       "      <td>43.724068</td>\n",
       "    </tr>\n",
       "    <tr>\n",
       "      <th>4</th>\n",
       "      <td>0.832712</td>\n",
       "      <td>43.105763</td>\n",
       "    </tr>\n",
       "  </tbody>\n",
       "</table>\n",
       "</div>"
      ],
      "text/plain": [
       "      humidity  temperature\n",
       "hour                       \n",
       "0     0.779322    45.976441\n",
       "1     0.803898    44.859492\n",
       "2     0.812203    44.244407\n",
       "3     0.819153    43.724068\n",
       "4     0.832712    43.105763"
      ]
     },
     "execution_count": 6,
     "metadata": {},
     "output_type": "execute_result"
    }
   ],
   "source": [
    "mean_temp_humidity = df.groupby(\"hour\").mean()\n",
    "mean_temp_humidity.head()"
   ]
  },
  {
   "cell_type": "code",
   "execution_count": 7,
   "metadata": {},
   "outputs": [
    {
     "data": {
      "image/png": "[encoded data removed]",
      "text/plain": [
       "<matplotlib.figure.Figure at 0x107274890>"
      ]
     },
     "metadata": {},
     "output_type": "display_data"
    }
   ],
   "source": [
    "mean_temp_humidity.plot(subplots=True);"
   ]
  },
  {
   "cell_type": "markdown",
   "metadata": {},
   "source": [
    "We can use pivoting to achieve the same dataframe."
   ]
  },
  {
   "cell_type": "code",
   "execution_count": 8,
   "metadata": {},
   "outputs": [],
   "source": [
    "mean_temp_humidity_pivoting = pd.pivot_table(df, index=[\"hour\"], values=[\"temperature\", \"humidity\"])"
   ]
  },
  {
   "cell_type": "code",
   "execution_count": 9,
   "metadata": {},
   "outputs": [
    {
     "data": {
      "text/html": [
       "<div>\n",
       "<table border=\"1\" class=\"dataframe\">\n",
       "  <thead>\n",
       "    <tr style=\"text-align: right;\">\n",
       "      <th></th>\n",
       "      <th>humidity</th>\n",
       "      <th>temperature</th>\n",
       "    </tr>\n",
       "    <tr>\n",
       "      <th>hour</th>\n",
       "      <th></th>\n",
       "      <th></th>\n",
       "    </tr>\n",
       "  </thead>\n",
       "  <tbody>\n",
       "    <tr>\n",
       "      <th>0</th>\n",
       "      <td>0.779322</td>\n",
       "      <td>45.976441</td>\n",
       "    </tr>\n",
       "    <tr>\n",
       "      <th>1</th>\n",
       "      <td>0.803898</td>\n",
       "      <td>44.859492</td>\n",
       "    </tr>\n",
       "    <tr>\n",
       "      <th>2</th>\n",
       "      <td>0.812203</td>\n",
       "      <td>44.244407</td>\n",
       "    </tr>\n",
       "    <tr>\n",
       "      <th>3</th>\n",
       "      <td>0.819153</td>\n",
       "      <td>43.724068</td>\n",
       "    </tr>\n",
       "    <tr>\n",
       "      <th>4</th>\n",
       "      <td>0.832712</td>\n",
       "      <td>43.105763</td>\n",
       "    </tr>\n",
       "  </tbody>\n",
       "</table>\n",
       "</div>"
      ],
      "text/plain": [
       "      humidity  temperature\n",
       "hour                       \n",
       "0     0.779322    45.976441\n",
       "1     0.803898    44.859492\n",
       "2     0.812203    44.244407\n",
       "3     0.819153    43.724068\n",
       "4     0.832712    43.105763"
      ]
     },
     "execution_count": 9,
     "metadata": {},
     "output_type": "execute_result"
    }
   ],
   "source": [
    "mean_temp_humidity_pivoting.head()"
   ]
  },
  {
   "cell_type": "markdown",
   "metadata": {},
   "source": [
    "By default the aggregation function used in pivoting is mean."
   ]
  },
  {
   "cell_type": "markdown",
   "metadata": {},
   "source": [
    "### Question 2: Can we plot the daily variation in temperature per hour of the day?\n"
   ]
  },
  {
   "cell_type": "markdown",
   "metadata": {},
   "source": [
    "For this, we want to have a dataframe with hour of day as the index and the different days as the different columns."
   ]
  },
  {
   "cell_type": "code",
   "execution_count": 10,
   "metadata": {
    "collapsed": true
   },
   "outputs": [],
   "source": [
    "df[\"day\"] = df.index.dayofyear"
   ]
  },
  {
   "cell_type": "code",
   "execution_count": 11,
   "metadata": {},
   "outputs": [
    {
     "data": {
      "text/html": [
       "<div>\n",
       "<table border=\"1\" class=\"dataframe\">\n",
       "  <thead>\n",
       "    <tr style=\"text-align: right;\">\n",
       "      <th></th>\n",
       "      <th>humidity</th>\n",
       "      <th>temperature</th>\n",
       "      <th>hour</th>\n",
       "      <th>day</th>\n",
       "    </tr>\n",
       "  </thead>\n",
       "  <tbody>\n",
       "    <tr>\n",
       "      <th>2015-01-01 00:00:00-06:00</th>\n",
       "      <td>0.73</td>\n",
       "      <td>38.74</td>\n",
       "      <td>0</td>\n",
       "      <td>1</td>\n",
       "    </tr>\n",
       "    <tr>\n",
       "      <th>2015-01-01 01:00:00-06:00</th>\n",
       "      <td>0.74</td>\n",
       "      <td>38.56</td>\n",
       "      <td>1</td>\n",
       "      <td>1</td>\n",
       "    </tr>\n",
       "    <tr>\n",
       "      <th>2015-01-01 02:00:00-06:00</th>\n",
       "      <td>0.75</td>\n",
       "      <td>38.56</td>\n",
       "      <td>2</td>\n",
       "      <td>1</td>\n",
       "    </tr>\n",
       "    <tr>\n",
       "      <th>2015-01-01 03:00:00-06:00</th>\n",
       "      <td>0.79</td>\n",
       "      <td>37.97</td>\n",
       "      <td>3</td>\n",
       "      <td>1</td>\n",
       "    </tr>\n",
       "    <tr>\n",
       "      <th>2015-01-01 04:00:00-06:00</th>\n",
       "      <td>0.80</td>\n",
       "      <td>37.78</td>\n",
       "      <td>4</td>\n",
       "      <td>1</td>\n",
       "    </tr>\n",
       "  </tbody>\n",
       "</table>\n",
       "</div>"
      ],
      "text/plain": [
       "                           humidity  temperature  hour  day\n",
       "2015-01-01 00:00:00-06:00      0.73        38.74     0    1\n",
       "2015-01-01 01:00:00-06:00      0.74        38.56     1    1\n",
       "2015-01-01 02:00:00-06:00      0.75        38.56     2    1\n",
       "2015-01-01 03:00:00-06:00      0.79        37.97     3    1\n",
       "2015-01-01 04:00:00-06:00      0.80        37.78     4    1"
      ]
     },
     "execution_count": 11,
     "metadata": {},
     "output_type": "execute_result"
    }
   ],
   "source": [
    "df.head()"
   ]
  },
  {
   "cell_type": "code",
   "execution_count": 12,
   "metadata": {},
   "outputs": [],
   "source": [
    "daily_temp = pd.pivot_table(df, index=[\"hour\"], columns=[\"day\"], values=[\"temperature\"])"
   ]
  },
  {
   "cell_type": "code",
   "execution_count": 13,
   "metadata": {},
   "outputs": [
    {
     "data": {
      "text/html": [
       "<div>\n",
       "<table border=\"1\" class=\"dataframe\">\n",
       "  <thead>\n",
       "    <tr>\n",
       "      <th></th>\n",
       "      <th colspan=\"21\" halign=\"left\">temperature</th>\n",
       "    </tr>\n",
       "    <tr>\n",
       "      <th>day</th>\n",
       "      <th>1</th>\n",
       "      <th>2</th>\n",
       "      <th>3</th>\n",
       "      <th>4</th>\n",
       "      <th>5</th>\n",
       "      <th>6</th>\n",
       "      <th>7</th>\n",
       "      <th>8</th>\n",
       "      <th>9</th>\n",
       "      <th>10</th>\n",
       "      <th>...</th>\n",
       "      <th>50</th>\n",
       "      <th>51</th>\n",
       "      <th>52</th>\n",
       "      <th>53</th>\n",
       "      <th>54</th>\n",
       "      <th>55</th>\n",
       "      <th>56</th>\n",
       "      <th>57</th>\n",
       "      <th>58</th>\n",
       "      <th>59</th>\n",
       "    </tr>\n",
       "    <tr>\n",
       "      <th>hour</th>\n",
       "      <th></th>\n",
       "      <th></th>\n",
       "      <th></th>\n",
       "      <th></th>\n",
       "      <th></th>\n",
       "      <th></th>\n",
       "      <th></th>\n",
       "      <th></th>\n",
       "      <th></th>\n",
       "      <th></th>\n",
       "      <th></th>\n",
       "      <th></th>\n",
       "      <th></th>\n",
       "      <th></th>\n",
       "      <th></th>\n",
       "      <th></th>\n",
       "      <th></th>\n",
       "      <th></th>\n",
       "      <th></th>\n",
       "      <th></th>\n",
       "      <th></th>\n",
       "    </tr>\n",
       "  </thead>\n",
       "  <tbody>\n",
       "    <tr>\n",
       "      <th>0</th>\n",
       "      <td>38.74</td>\n",
       "      <td>39.94</td>\n",
       "      <td>39.57</td>\n",
       "      <td>41.83</td>\n",
       "      <td>33.95</td>\n",
       "      <td>36.98</td>\n",
       "      <td>46.93</td>\n",
       "      <td>29.95</td>\n",
       "      <td>36.57</td>\n",
       "      <td>36.19</td>\n",
       "      <td>...</td>\n",
       "      <td>46.17</td>\n",
       "      <td>54.01</td>\n",
       "      <td>66.57</td>\n",
       "      <td>55.49</td>\n",
       "      <td>37.68</td>\n",
       "      <td>30.34</td>\n",
       "      <td>34.97</td>\n",
       "      <td>39.93</td>\n",
       "      <td>36.19</td>\n",
       "      <td>32.25</td>\n",
       "    </tr>\n",
       "    <tr>\n",
       "      <th>1</th>\n",
       "      <td>38.56</td>\n",
       "      <td>39.76</td>\n",
       "      <td>39.75</td>\n",
       "      <td>40.85</td>\n",
       "      <td>32.29</td>\n",
       "      <td>35.89</td>\n",
       "      <td>45.33</td>\n",
       "      <td>28.55</td>\n",
       "      <td>37.31</td>\n",
       "      <td>36.40</td>\n",
       "      <td>...</td>\n",
       "      <td>41.38</td>\n",
       "      <td>54.56</td>\n",
       "      <td>66.57</td>\n",
       "      <td>55.49</td>\n",
       "      <td>36.76</td>\n",
       "      <td>30.04</td>\n",
       "      <td>34.97</td>\n",
       "      <td>36.37</td>\n",
       "      <td>36.38</td>\n",
       "      <td>32.25</td>\n",
       "    </tr>\n",
       "    <tr>\n",
       "      <th>2</th>\n",
       "      <td>38.56</td>\n",
       "      <td>39.58</td>\n",
       "      <td>39.94</td>\n",
       "      <td>39.73</td>\n",
       "      <td>31.59</td>\n",
       "      <td>36.44</td>\n",
       "      <td>44.51</td>\n",
       "      <td>27.44</td>\n",
       "      <td>37.78</td>\n",
       "      <td>36.59</td>\n",
       "      <td>...</td>\n",
       "      <td>39.99</td>\n",
       "      <td>55.81</td>\n",
       "      <td>66.57</td>\n",
       "      <td>55.34</td>\n",
       "      <td>35.56</td>\n",
       "      <td>30.57</td>\n",
       "      <td>34.75</td>\n",
       "      <td>34.74</td>\n",
       "      <td>36.20</td>\n",
       "      <td>32.25</td>\n",
       "    </tr>\n",
       "    <tr>\n",
       "      <th>3</th>\n",
       "      <td>37.97</td>\n",
       "      <td>38.83</td>\n",
       "      <td>40.16</td>\n",
       "      <td>38.78</td>\n",
       "      <td>30.48</td>\n",
       "      <td>36.85</td>\n",
       "      <td>43.92</td>\n",
       "      <td>25.97</td>\n",
       "      <td>37.97</td>\n",
       "      <td>36.38</td>\n",
       "      <td>...</td>\n",
       "      <td>39.05</td>\n",
       "      <td>57.14</td>\n",
       "      <td>66.38</td>\n",
       "      <td>55.27</td>\n",
       "      <td>34.94</td>\n",
       "      <td>30.59</td>\n",
       "      <td>35.15</td>\n",
       "      <td>34.31</td>\n",
       "      <td>36.20</td>\n",
       "      <td>32.52</td>\n",
       "    </tr>\n",
       "    <tr>\n",
       "      <th>4</th>\n",
       "      <td>37.78</td>\n",
       "      <td>39.02</td>\n",
       "      <td>40.65</td>\n",
       "      <td>39.74</td>\n",
       "      <td>29.89</td>\n",
       "      <td>35.72</td>\n",
       "      <td>44.37</td>\n",
       "      <td>24.74</td>\n",
       "      <td>37.82</td>\n",
       "      <td>35.49</td>\n",
       "      <td>...</td>\n",
       "      <td>37.99</td>\n",
       "      <td>57.51</td>\n",
       "      <td>66.57</td>\n",
       "      <td>55.49</td>\n",
       "      <td>34.04</td>\n",
       "      <td>30.38</td>\n",
       "      <td>35.15</td>\n",
       "      <td>33.02</td>\n",
       "      <td>34.49</td>\n",
       "      <td>32.52</td>\n",
       "    </tr>\n",
       "  </tbody>\n",
       "</table>\n",
       "<p>5 rows × 59 columns</p>\n",
       "</div>"
      ],
      "text/plain": [
       "     temperature                                                          \\\n",
       "day           1      2      3      4      5      6      7      8      9    \n",
       "hour                                                                       \n",
       "0          38.74  39.94  39.57  41.83  33.95  36.98  46.93  29.95  36.57   \n",
       "1          38.56  39.76  39.75  40.85  32.29  35.89  45.33  28.55  37.31   \n",
       "2          38.56  39.58  39.94  39.73  31.59  36.44  44.51  27.44  37.78   \n",
       "3          37.97  38.83  40.16  38.78  30.48  36.85  43.92  25.97  37.97   \n",
       "4          37.78  39.02  40.65  39.74  29.89  35.72  44.37  24.74  37.82   \n",
       "\n",
       "             ...                                                            \\\n",
       "day      10  ...       50     51     52     53     54     55     56     57   \n",
       "hour         ...                                                             \n",
       "0     36.19  ...    46.17  54.01  66.57  55.49  37.68  30.34  34.97  39.93   \n",
       "1     36.40  ...    41.38  54.56  66.57  55.49  36.76  30.04  34.97  36.37   \n",
       "2     36.59  ...    39.99  55.81  66.57  55.34  35.56  30.57  34.75  34.74   \n",
       "3     36.38  ...    39.05  57.14  66.38  55.27  34.94  30.59  35.15  34.31   \n",
       "4     35.49  ...    37.99  57.51  66.57  55.49  34.04  30.38  35.15  33.02   \n",
       "\n",
       "                    \n",
       "day      58     59  \n",
       "hour                \n",
       "0     36.19  32.25  \n",
       "1     36.38  32.25  \n",
       "2     36.20  32.25  \n",
       "3     36.20  32.52  \n",
       "4     34.49  32.52  \n",
       "\n",
       "[5 rows x 59 columns]"
      ]
     },
     "execution_count": 13,
     "metadata": {},
     "output_type": "execute_result"
    }
   ],
   "source": [
    "daily_temp.head()"
   ]
  },
  {
   "cell_type": "code",
   "execution_count": 14,
   "metadata": {},
   "outputs": [
    {
     "data": {
      "image/png": "[encoded data removed]",
      "text/plain": [
       "<matplotlib.figure.Figure at 0x107713b50>"
      ]
     },
     "metadata": {},
     "output_type": "display_data"
    }
   ],
   "source": [
    "daily_temp.plot(style='k-', alpha=0.3, legend=False)\n",
    "plt.ylabel(\"Temp\");"
   ]
  },
  {
   "cell_type": "markdown",
   "metadata": {},
   "source": [
    "So, we can see some pattern up there! Around 15 hours, the temperature usually peaks."
   ]
  },
  {
   "cell_type": "markdown",
   "metadata": {},
   "source": [
    "There you go! Some recipes for aggregation and plotting of time series data."
   ]
  }
 ],
 "metadata": {
  "kernelspec": {
   "display_name": "Python 3",
   "language": "python",
   "name": "python3"
  },
  "language_info": {
   "codemirror_mode": {
    "name": "ipython",
    "version": 3
   },
   "file_extension": ".py",
   "mimetype": "text/x-python",
   "name": "python",
   "nbconvert_exporter": "python",
   "pygments_lexer": "ipython3",
   "version": "3.7.4"
  }
 },
 "nbformat": 4,
 "nbformat_minor": 1
}
