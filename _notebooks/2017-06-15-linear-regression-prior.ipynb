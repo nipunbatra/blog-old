{
 "cells": [
  {
   "cell_type": "markdown",
   "metadata": {},
   "source": [
    "# Linear regression with prior (using gradient descent)\n",
    "> What if we start from some prior!\n",
    "\n",
    "- toc: true \n",
    "- badges: true\n",
    "- comments: true\n",
    "- author: Nipun Batra\n",
    "- categories: [ML]"
   ]
  },
  {
   "cell_type": "markdown",
   "metadata": {},
   "source": [
    "Let's say we have a prior on the linear model, i.e. we start with a known W (W_prior) and b (b_prior). Further, we say that the learnt function can be such that:\n",
    "\n",
    "$$W = \\alpha \\times W_{prior} + \\delta$$\n",
    "$$b = \\beta + b_{prior} + \\eta$$\n",
    "\n",
    "Our task reduces to learn $\\alpha$, $\\beta$, $\\delta$ and $\\eta$. This can be solved as we would usually do using Gradient descent, the only difference being that we will compute the gradient wrt $\\alpha$ , $\\beta$, $\\delta$, $\\eta$. I will use autograd to compute the gradients.\n",
    "\n",
    "In a typical model we might have 2 parameters (w and b). In our `refined` one, we have four- $\\alpha$ , $\\beta$, $\\delta$, $\\eta$."
   ]
  },
  {
   "cell_type": "markdown",
   "metadata": {},
   "source": [
    "### Customary imports"
   ]
  },
  {
   "cell_type": "code",
   "execution_count": 2,
   "metadata": {
    "collapsed": true
   },
   "outputs": [],
   "source": [
    "import autograd.numpy as np\n",
    "import matplotlib.pyplot as plt\n",
    "%matplotlib inline"
   ]
  },
  {
   "cell_type": "markdown",
   "metadata": {},
   "source": [
    "### True model  \n",
    "\n",
    "$$Y = 10 X + 6$$"
   ]
  },
  {
   "cell_type": "markdown",
   "metadata": {},
   "source": [
    "### Generating data"
   ]
  },
  {
   "cell_type": "code",
   "execution_count": 3,
   "metadata": {
    "collapsed": true
   },
   "outputs": [],
   "source": [
    "np.random.seed(0)\n",
    "n_samples = 50\n",
    "X = np.linspace(1, 50, n_samples)\n",
    "Y = 10*X + 6 + 3*np.random.randn(n_samples)"
   ]
  },
  {
   "cell_type": "code",
   "execution_count": 4,
   "metadata": {},
   "outputs": [
    {
     "data": {
      "image/png": "[encoded data removed]",
      "text/plain": [
       "<matplotlib.figure.Figure at 0x10463fd10>"
      ]
     },
     "metadata": {},
     "output_type": "display_data"
    }
   ],
   "source": [
    "plt.plot(X, Y, 'k.')\n",
    "plt.xlabel(\"X\")\n",
    "plt.ylabel(\"Y\");"
   ]
  },
  {
   "cell_type": "markdown",
   "metadata": {},
   "source": [
    "### Defining priors (bad ones!)"
   ]
  },
  {
   "cell_type": "code",
   "execution_count": 5,
   "metadata": {
    "collapsed": true
   },
   "outputs": [],
   "source": [
    "w_prior = -2\n",
    "b_prior = -2"
   ]
  },
  {
   "cell_type": "markdown",
   "metadata": {},
   "source": [
    "### Defining the cost function in terms of alpha and beta"
   ]
  },
  {
   "cell_type": "code",
   "execution_count": 6,
   "metadata": {
    "collapsed": true
   },
   "outputs": [],
   "source": [
    "def cost(alpha, beta, delta, eta):\n",
    "    pred = np.dot(X, alpha*w_prior+delta) + b_prior + beta + eta\n",
    "    return np.sqrt(((pred - Y) ** 2).mean(axis=None))\n",
    "\n",
    "from autograd import grad, multigrad\n",
    "grad_cost= multigrad(cost, argnums=[0, 1, 2, 3])"
   ]
  },
  {
   "cell_type": "markdown",
   "metadata": {},
   "source": [
    "### Gradient descent"
   ]
  },
  {
   "cell_type": "code",
   "execution_count": 7,
   "metadata": {},
   "outputs": [
    {
     "name": "stdout",
     "output_type": "stream",
     "text": [
      "********************\n",
      "0\n",
      "********************\n",
      "277.717926153 0.756766902473 0.756766902473\n",
      "********************\n",
      "500\n",
      "********************\n",
      "5.95005440573 10.218493676 10.218493676\n",
      "********************\n",
      "1000\n",
      "********************\n",
      "5.77702829051 10.2061390906 10.2061390906\n",
      "********************\n",
      "1500\n",
      "********************\n",
      "5.60823669668 10.1939366275 10.1939366275\n",
      "********************\n",
      "2000\n",
      "********************\n",
      "5.44395500928 10.1818982949 10.1818982949\n",
      "********************\n",
      "2500\n",
      "********************\n",
      "5.28446602486 10.1700368748 10.1700368748\n",
      "********************\n",
      "3000\n",
      "********************\n",
      "5.1300568557 10.158365894 10.158365894\n",
      "********************\n",
      "3500\n",
      "********************\n",
      "4.98101499128 10.1468995681 10.1468995681\n",
      "********************\n",
      "4000\n",
      "********************\n",
      "4.83762347034 10.1356527141 10.1356527141\n",
      "********************\n",
      "4500\n",
      "********************\n",
      "4.70015516667 10.1246406278 10.1246406278\n",
      "********************\n",
      "5000\n",
      "********************\n",
      "4.56886626032 10.1138789219 10.1138789219\n",
      "********************\n",
      "5500\n",
      "********************\n",
      "4.44398905185 10.1033833225 10.1033833225\n",
      "********************\n",
      "6000\n",
      "********************\n",
      "4.32572437603 10.0931694258 10.0931694258\n",
      "********************\n",
      "6500\n",
      "********************\n",
      "4.21423397192 10.0832524173 10.0832524173\n",
      "********************\n",
      "7000\n",
      "********************\n",
      "4.10963325557 10.0736467626 10.0736467626\n",
      "********************\n",
      "7500\n",
      "********************\n",
      "4.01198500112 10.0643658801 10.0643658801\n",
      "********************\n",
      "8000\n",
      "********************\n",
      "3.92129444852 10.0554218111 10.0554218111\n",
      "********************\n",
      "8500\n",
      "********************\n",
      "3.83750630808 10.046824905 10.046824905\n",
      "********************\n",
      "9000\n",
      "********************\n",
      "3.7605040187 10.0385835381 10.0385835381\n",
      "********************\n",
      "9500\n",
      "********************\n",
      "3.69011144573 10.0307038843 10.0307038843\n",
      "********************\n",
      "10000\n",
      "********************\n",
      "3.6260969956 10.023189752 10.023189752\n"
     ]
    }
   ],
   "source": [
    "alpha = np.random.randn()\n",
    "beta = np.random.randn()\n",
    "eta = np.random.randn()\n",
    "delta = np.random.randn()\n",
    "lr = 0.001\n",
    "# We will also save the values for plotting later\n",
    "w_s = [alpha*w_prior+delta]\n",
    "b_s = [alpha*w_prior+delta]\n",
    "for i in range(10001):\n",
    "    \n",
    "    del_alpha, del_beta, del_delta, del_eta = grad_cost(alpha, beta, delta, eta)\n",
    "    alpha = alpha - del_alpha*lr\n",
    "    beta = beta - del_beta*lr\n",
    "    delta = delta - del_delta*lr\n",
    "    eta = eta - del_eta*lr\n",
    "    w_s.append(alpha*w_prior+delta)\n",
    "    b_s.append(alpha*w_prior+delta)\n",
    "    if i%500==0:\n",
    "        print \"*\"*20\n",
    "        print i\n",
    "        print \"*\"*20\n",
    "    \n",
    "        print cost(alpha, beta, delta, eta), alpha*w_prior+delta, alpha*w_prior+delta"
   ]
  },
  {
   "cell_type": "markdown",
   "metadata": {},
   "source": [
    "We are able to learn a reasonably accurate W=10.07 and b=2.7. "
   ]
  },
  {
   "cell_type": "markdown",
   "metadata": {},
   "source": [
    "### Bonus: Animation"
   ]
  },
  {
   "cell_type": "markdown",
   "metadata": {},
   "source": [
    "Making the plots look nicer."
   ]
  },
  {
   "cell_type": "code",
   "execution_count": 40,
   "metadata": {
    "collapsed": true
   },
   "outputs": [],
   "source": [
    "def format_axes(ax):\n",
    "    for spine in ['top', 'right']:\n",
    "        ax.spines[spine].set_visible(False)\n",
    "\n",
    "    for spine in ['left', 'bottom']:\n",
    "        ax.spines[spine].set_color('grey')\n",
    "        ax.spines[spine].set_linewidth(0.5)\n",
    "\n",
    "    ax.xaxis.set_ticks_position('bottom')\n",
    "    ax.yaxis.set_ticks_position('left')\n",
    "\n",
    "    for axis in [ax.xaxis, ax.yaxis]:\n",
    "        axis.set_tick_params(direction='out', color='grey')\n",
    "    return ax"
   ]
  },
  {
   "cell_type": "code",
   "execution_count": 44,
   "metadata": {},
   "outputs": [
    {
     "name": "stdout",
     "output_type": "stream",
     "text": [
      "fig size: 72.0 DPI, size in inches [ 4.  3.]\n"
     ]
    }
   ],
   "source": [
    "# Code courtesy: http://eli.thegreenplace.net/2016/drawing-animated-gifs-with-matplotlib/\n",
    "from matplotlib.animation import FuncAnimation\n",
    "\n",
    "fig, ax = plt.subplots(figsize=(4, 3))\n",
    "fig.set_tight_layout(True)\n",
    "\n",
    "# Query the figure's on-screen size and DPI. Note that when saving the figure to\n",
    "# a file, we need to provide a DPI for that separately.\n",
    "print('fig size: {0} DPI, size in inches {1}'.format(\n",
    "    fig.get_dpi(), fig.get_size_inches()))\n",
    "\n",
    "# Plot a scatter that persists (isn't redrawn) and the initial line.\n",
    "\n",
    "ax.scatter(X, Y, color='grey', alpha=0.8, s=1)\n",
    "# Initial line\n",
    "\n",
    "line, = ax.plot(X, X*w_prior+b_prior, 'r-', linewidth=1)\n",
    "\n",
    "def update(i):\n",
    "    label = 'Iteration {0}'.format(i)\n",
    "    line.set_ydata(X*w_s[i]+b_s[i])\n",
    "    ax.set_xlabel(label)\n",
    "    format_axes(ax)\n",
    "    return line, ax\n",
    "\n",
    "anim = FuncAnimation(fig, update, frames=np.arange(0, 100), interval=1)\n",
    "anim.save('line_prior.gif', dpi=80, writer='imagemagick')\n",
    "plt.close()"
   ]
  },
  {
   "cell_type": "markdown",
   "metadata": {},
   "source": [
    "![](https://nipunbatra.github.io/blog/images/line_prior.gif)"
   ]
  }
 ],
 "metadata": {
  "kernelspec": {
   "display_name": "Python 3",
   "language": "python",
   "name": "python3"
  },
  "language_info": {
   "codemirror_mode": {
    "name": "ipython",
    "version": 3
   },
   "file_extension": ".py",
   "mimetype": "text/x-python",
   "name": "python",
   "nbconvert_exporter": "python",
   "pygments_lexer": "ipython3",
   "version": "3.7.4"
  }
 },
 "nbformat": 4,
 "nbformat_minor": 1
}
